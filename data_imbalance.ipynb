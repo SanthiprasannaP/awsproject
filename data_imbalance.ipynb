{
 "cells": [
  {
   "cell_type": "code",
   "execution_count": 4,
   "metadata": {},
   "outputs": [],
   "source": [
    "import os\n",
    "\n",
    "def get_length(path):\n",
    "    images = []\n",
    "    for dirs, subdirs, files in os.walk(path):\n",
    "        images.append(files)\n",
    "\n",
    "    images_list = [image for images_item in images for image in images_item]\n",
    "    return len(images_list)"
   ]
  },
  {
   "cell_type": "code",
   "execution_count": 5,
   "metadata": {},
   "outputs": [],
   "source": [
    "def get_image_list(path):\n",
    "    images = []\n",
    "    for dirs, subdirs, files in os.walk(path):\n",
    "        images.append(files)\n",
    "\n",
    "    images_list = [image for images_item in images for image in images_item]\n",
    "    return images_list"
   ]
  },
  {
   "cell_type": "code",
   "execution_count": 6,
   "metadata": {},
   "outputs": [],
   "source": [
    "import shutil\n",
    "def copyfile(filename,destination):\n",
    "    shutil.copyfile(filename,destination)"
   ]
  },
  {
   "cell_type": "code",
   "execution_count": 9,
   "metadata": {},
   "outputs": [
    {
     "data": {
      "text/plain": [
       "2232"
      ]
     },
     "execution_count": 9,
     "metadata": {},
     "output_type": "execute_result"
    }
   ],
   "source": [
    "import random\n",
    "path = 'dataset/moderate/'\n",
    "i=0\n",
    "while( get_length(path) <= 2231):\n",
    "    images_list = get_image_list(path)\n",
    "    image = images_list[random.randint(0,get_length(path))-1]\n",
    "    destination = path+image[:-4]+str(i)+'.jpg'\n",
    "    filename = path + image \n",
    "    copyfile(filename,destination)\n",
    "\n",
    "get_length(path)\n",
    "    "
   ]
  },
  {
   "cell_type": "code",
   "execution_count": null,
   "metadata": {},
   "outputs": [],
   "source": []
  }
 ],
 "metadata": {
  "interpreter": {
   "hash": "916dbcbb3f70747c44a77c7bcd40155683ae19c65e1c03b4aa3499c5328201f1"
  },
  "kernelspec": {
   "display_name": "Python 3.8.10 64-bit",
   "language": "python",
   "name": "python3"
  },
  "language_info": {
   "codemirror_mode": {
    "name": "ipython",
    "version": 3
   },
   "file_extension": ".py",
   "mimetype": "text/x-python",
   "name": "python",
   "nbconvert_exporter": "python",
   "pygments_lexer": "ipython3",
   "version": "3.8.10"
  },
  "orig_nbformat": 4
 },
 "nbformat": 4,
 "nbformat_minor": 2
}
