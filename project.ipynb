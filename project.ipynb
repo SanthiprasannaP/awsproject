{
 "cells": [
  {
   "cell_type": "code",
   "execution_count": 1,
   "metadata": {},
   "outputs": [
    {
     "data": {
      "text/plain": [
       "['20140911_1315.jpg',\n",
       " '20140325_1020.jpg',\n",
       " '20141103_1640.jpg',\n",
       " '20140613_1445.jpg',\n",
       " '20140322_1620.jpg']"
      ]
     },
     "execution_count": 1,
     "metadata": {},
     "output_type": "execute_result"
    }
   ],
   "source": [
    "import os\n",
    "images = []\n",
    "for dirs, subdirs, files in os.walk('Phoenix1'):\n",
    "    images.append(files)\n",
    "\n",
    "images[0][:5]"
   ]
  },
  {
   "cell_type": "code",
   "execution_count": 2,
   "metadata": {},
   "outputs": [
    {
     "data": {
      "text/plain": [
       "['20140911_1315.jpg',\n",
       " '20140325_1020.jpg',\n",
       " '20141103_1640.jpg',\n",
       " '20140613_1445.jpg',\n",
       " '20140322_1620.jpg']"
      ]
     },
     "execution_count": 2,
     "metadata": {},
     "output_type": "execute_result"
    }
   ],
   "source": [
    "flattened_images_list = [image for images_item in images for image in images_item]\n",
    "flattened_images_list[:5]"
   ]
  },
  {
   "cell_type": "code",
   "execution_count": 3,
   "metadata": {},
   "outputs": [
    {
     "data": {
      "text/plain": [
       "4303"
      ]
     },
     "execution_count": 3,
     "metadata": {},
     "output_type": "execute_result"
    }
   ],
   "source": [
    "len(flattened_images_list)"
   ]
  },
  {
   "cell_type": "code",
   "execution_count": 4,
   "metadata": {},
   "outputs": [],
   "source": [
    "import pandas as pd \n",
    "df = pd.read_csv(\"pm2.csv\")"
   ]
  },
  {
   "cell_type": "code",
   "execution_count": 5,
   "metadata": {},
   "outputs": [
    {
     "data": {
      "text/html": [
       "<div>\n",
       "<style scoped>\n",
       "    .dataframe tbody tr th:only-of-type {\n",
       "        vertical-align: middle;\n",
       "    }\n",
       "\n",
       "    .dataframe tbody tr th {\n",
       "        vertical-align: top;\n",
       "    }\n",
       "\n",
       "    .dataframe thead th {\n",
       "        text-align: right;\n",
       "    }\n",
       "</style>\n",
       "<table border=\"1\" class=\"dataframe\">\n",
       "  <thead>\n",
       "    <tr style=\"text-align: right;\">\n",
       "      <th></th>\n",
       "      <th>date</th>\n",
       "      <th>pm2.5</th>\n",
       "    </tr>\n",
       "  </thead>\n",
       "  <tbody>\n",
       "    <tr>\n",
       "      <th>0</th>\n",
       "      <td>20140101</td>\n",
       "      <td>73</td>\n",
       "    </tr>\n",
       "    <tr>\n",
       "      <th>1</th>\n",
       "      <td>20140102</td>\n",
       "      <td>86</td>\n",
       "    </tr>\n",
       "    <tr>\n",
       "      <th>2</th>\n",
       "      <td>20140103</td>\n",
       "      <td>59</td>\n",
       "    </tr>\n",
       "    <tr>\n",
       "      <th>3</th>\n",
       "      <td>20140104</td>\n",
       "      <td>83</td>\n",
       "    </tr>\n",
       "    <tr>\n",
       "      <th>4</th>\n",
       "      <td>20140105</td>\n",
       "      <td>79</td>\n",
       "    </tr>\n",
       "  </tbody>\n",
       "</table>\n",
       "</div>"
      ],
      "text/plain": [
       "       date  pm2.5\n",
       "0  20140101     73\n",
       "1  20140102     86\n",
       "2  20140103     59\n",
       "3  20140104     83\n",
       "4  20140105     79"
      ]
     },
     "execution_count": 5,
     "metadata": {},
     "output_type": "execute_result"
    }
   ],
   "source": [
    "df.head()"
   ]
  },
  {
   "cell_type": "code",
   "execution_count": 6,
   "metadata": {},
   "outputs": [],
   "source": [
    "from struct import unpack\n",
    "import os\n",
    "\n",
    "\n",
    "marker_mapping = {\n",
    "    0xffd8: \"Start of Image\",\n",
    "    0xffe0: \"Application Default Header\",\n",
    "    0xffdb: \"Quantization Table\",\n",
    "    0xffc0: \"Start of Frame\",\n",
    "    0xffc4: \"Define Huffman Table\",\n",
    "    0xffda: \"Start of Scan\",\n",
    "    0xffd9: \"End of Image\"\n",
    "}\n",
    "\n",
    "\n",
    "class JPEG:\n",
    "    def __init__(self, image_file):\n",
    "        with open(image_file, 'rb') as f:\n",
    "            self.img_data = f.read()\n",
    "    \n",
    "    def decode(self):\n",
    "        data = self.img_data\n",
    "        while(True):\n",
    "            marker, = unpack(\">H\", data[0:2])\n",
    "            # print(marker_mapping.get(marker))\n",
    "            if marker == 0xffd8:\n",
    "                data = data[2:]\n",
    "            elif marker == 0xffd9:\n",
    "                return\n",
    "            elif marker == 0xffda:\n",
    "                data = data[-2:]\n",
    "            else:\n",
    "                lenchunk, = unpack(\">H\", data[2:4])\n",
    "                data = data[2+lenchunk:]            \n",
    "            if len(data)==0:\n",
    "                break        \n",
    "\n",
    "\n",
    "bads = []\n",
    "root_img = 'Phoenix1/'\n",
    "for img in flattened_images_list:\n",
    "    image = os.path.join(root_img,img)\n",
    "    image = JPEG(image) \n",
    "    try:\n",
    "        image.decode()   \n",
    "\n",
    "    except:\n",
    "        bads.append(img)\n",
    "\n",
    "for name in bads:\n",
    "    print(name)\n",
    "    os.remove(os.path.join(root_img,name))"
   ]
  },
  {
   "cell_type": "code",
   "execution_count": 7,
   "metadata": {},
   "outputs": [
    {
     "data": {
      "text/plain": [
       "['20140911_1315.jpg',\n",
       " '20140325_1020.jpg',\n",
       " '20141103_1640.jpg',\n",
       " '20140613_1445.jpg',\n",
       " '20140322_1620.jpg']"
      ]
     },
     "execution_count": 7,
     "metadata": {},
     "output_type": "execute_result"
    }
   ],
   "source": [
    "images = []\n",
    "for dirs, subdirs, files in os.walk('Phoenix1'):\n",
    "    images.append(files)\n",
    "\n",
    "images[0][:5]"
   ]
  },
  {
   "cell_type": "code",
   "execution_count": 8,
   "metadata": {},
   "outputs": [
    {
     "data": {
      "text/plain": [
       "['20140911_1315.jpg',\n",
       " '20140325_1020.jpg',\n",
       " '20141103_1640.jpg',\n",
       " '20140613_1445.jpg',\n",
       " '20140322_1620.jpg']"
      ]
     },
     "execution_count": 8,
     "metadata": {},
     "output_type": "execute_result"
    }
   ],
   "source": [
    "flattened_images_list = [image for images_item in images for image in images_item]\n",
    "flattened_images_list[:5]"
   ]
  },
  {
   "cell_type": "code",
   "execution_count": 9,
   "metadata": {},
   "outputs": [
    {
     "data": {
      "text/plain": [
       "4303"
      ]
     },
     "execution_count": 9,
     "metadata": {},
     "output_type": "execute_result"
    }
   ],
   "source": [
    "len(flattened_images_list)"
   ]
  },
  {
   "cell_type": "code",
   "execution_count": 10,
   "metadata": {},
   "outputs": [],
   "source": [
    "import shutil\n",
    "def copyfile(filename,destination):\n",
    "    shutil.copyfile(filename,destination)"
   ]
  },
  {
   "cell_type": "markdown",
   "metadata": {},
   "source": [
    "for image in flattened_images_list:\n",
    "    date = image[:8]\n",
    "    index_val = df[df['date'] == int(date)].index.values[0]\n",
    "    pm_val = df['pm2.5'][index_val]\n",
    "    print(pm_val)\n",
    "    if pm_val > 54:\n",
    "        filename = 'Phoenix1/'+image\n",
    "        destination = 'dataset/danger/'+image\n",
    "        copyfile(filename,destination)\n",
    "        continue\n",
    "    elif pm_val < 30:\n",
    "        filename = 'Phoenix1/'+image\n",
    "        destination = 'dataset/healthy/'+image\n",
    "        copyfile(filename,destination)\n",
    "        continue\n",
    "    else:\n",
    "        filename = 'Phoenix1/'+image\n",
    "        destination = 'dataset/moderate/'+image\n",
    "        copyfile(filename,destination)\n"
   ]
  },
  {
   "cell_type": "code",
   "execution_count": 11,
   "metadata": {},
   "outputs": [
    {
     "data": {
      "text/plain": [
       "['healthy', 'danger', 'moderate']"
      ]
     },
     "execution_count": 11,
     "metadata": {},
     "output_type": "execute_result"
    }
   ],
   "source": [
    "class_names = []\n",
    "for dirs, subdirs,files in os.walk('dataset'):\n",
    "    class_names.append(subdirs)\n",
    "class_names = [item for sublist in class_names for item in sublist]\n",
    "class_names"
   ]
  },
  {
   "cell_type": "code",
   "execution_count": 12,
   "metadata": {},
   "outputs": [
    {
     "name": "stdout",
     "output_type": "stream",
     "text": [
      "healthy\n",
      "2232\n",
      "danger\n",
      "2232\n",
      "moderate\n",
      "2232\n"
     ]
    }
   ],
   "source": [
    "for dir in os.listdir('dataset'):\n",
    "    print(dir)\n",
    "    print(len(os.listdir('dataset/'+dir)))"
   ]
  },
  {
   "cell_type": "code",
   "execution_count": 13,
   "metadata": {},
   "outputs": [],
   "source": [
    "import tensorflow as tf "
   ]
  },
  {
   "cell_type": "code",
   "execution_count": 14,
   "metadata": {},
   "outputs": [],
   "source": [
    "import habana_frameworks.tensorflow as htf\n",
    "htf.load_habana_module()"
   ]
  },
  {
   "cell_type": "code",
   "execution_count": 15,
   "metadata": {},
   "outputs": [
    {
     "name": "stdout",
     "output_type": "stream",
     "text": [
      "Starting 8 engines with <class 'ipyparallel.cluster.launcher.MPIEngineSetLauncher'>\n"
     ]
    },
    {
     "data": {
      "application/vnd.jupyter.widget-view+json": {
       "model_id": "468bf7111bae452fa7ebe17def2f7efd",
       "version_major": 2,
       "version_minor": 0
      },
      "text/plain": [
       "  0%|          | 0/8 [00:00<?, ?engine/s]"
      ]
     },
     "metadata": {},
     "output_type": "display_data"
    }
   ],
   "source": [
    "import ipyparallel as ipp\n",
    "import os\n",
    "os.environ[\"OMPI_ALLOW_RUN_AS_ROOT\"] = \"1\"\n",
    "os.environ[\"OMPI_ALLOW_RUN_AS_ROOT_CONFIRM\"] = \"1\"\n",
    "\n",
    "n_hpu=8\n",
    "cluster = ipp.Cluster(engines='mpi', n=n_hpu)\n",
    "client = cluster.start_and_connect_sync()"
   ]
  },
  {
   "cell_type": "code",
   "execution_count": 16,
   "metadata": {},
   "outputs": [],
   "source": [
    "%%px\n",
    "import tensorflow as tf\n"
   ]
  },
  {
   "cell_type": "code",
   "execution_count": 17,
   "metadata": {},
   "outputs": [],
   "source": [
    "%%px\n",
    "batch_size = 16\n",
    "img_height = 180\n",
    "img_width = 180\n",
    "data_dir = 'dataset/'"
   ]
  },
  {
   "cell_type": "code",
   "execution_count": 18,
   "metadata": {},
   "outputs": [
    {
     "data": {
      "text/plain": [
       "[stdout:4] Found 6696 files belonging to 3 classes.\n",
       "Using 5357 files for training.\n"
      ]
     },
     "metadata": {},
     "output_type": "display_data"
    },
    {
     "data": {
      "text/plain": [
       "[stdout:0] Found 6696 files belonging to 3 classes.\n",
       "Using 5357 files for training.\n"
      ]
     },
     "metadata": {},
     "output_type": "display_data"
    },
    {
     "data": {
      "text/plain": [
       "[stdout:6] Found 6696 files belonging to 3 classes.\n",
       "Using 5357 files for training.\n"
      ]
     },
     "metadata": {},
     "output_type": "display_data"
    },
    {
     "data": {
      "text/plain": [
       "[stderr:4] 2022-02-26 16:01:56.174040: I tensorflow/core/platform/cpu_feature_guard.cc:151] This TensorFlow binary is optimized with oneAPI Deep Neural Network Library (oneDNN) to use the following CPU instructions in performance-critical operations:  AVX512F\n",
       "To enable them in other operations, rebuild TensorFlow with the appropriate compiler flags.\n"
      ]
     },
     "metadata": {},
     "output_type": "display_data"
    },
    {
     "data": {
      "text/plain": [
       "[stdout:1] Found 6696 files belonging to 3 classes.\n",
       "Using 5357 files for training.\n"
      ]
     },
     "metadata": {},
     "output_type": "display_data"
    },
    {
     "data": {
      "text/plain": [
       "[stderr:0] 2022-02-26 16:01:56.174040: I tensorflow/core/platform/cpu_feature_guard.cc:151] This TensorFlow binary is optimized with oneAPI Deep Neural Network Library (oneDNN) to use the following CPU instructions in performance-critical operations:  AVX512F\n",
       "To enable them in other operations, rebuild TensorFlow with the appropriate compiler flags.\n"
      ]
     },
     "metadata": {},
     "output_type": "display_data"
    },
    {
     "data": {
      "text/plain": [
       "[stderr:6] 2022-02-26 16:01:56.173999: I tensorflow/core/platform/cpu_feature_guard.cc:151] This TensorFlow binary is optimized with oneAPI Deep Neural Network Library (oneDNN) to use the following CPU instructions in performance-critical operations:  AVX512F\n",
       "To enable them in other operations, rebuild TensorFlow with the appropriate compiler flags.\n"
      ]
     },
     "metadata": {},
     "output_type": "display_data"
    },
    {
     "data": {
      "text/plain": [
       "[stderr:1] 2022-02-26 16:01:56.174832: I tensorflow/core/platform/cpu_feature_guard.cc:151] This TensorFlow binary is optimized with oneAPI Deep Neural Network Library (oneDNN) to use the following CPU instructions in performance-critical operations:  AVX512F\n",
       "To enable them in other operations, rebuild TensorFlow with the appropriate compiler flags.\n"
      ]
     },
     "metadata": {},
     "output_type": "display_data"
    },
    {
     "data": {
      "text/plain": [
       "[stdout:2] Found 6696 files belonging to 3 classes.\n",
       "Using 5357 files for training.\n"
      ]
     },
     "metadata": {},
     "output_type": "display_data"
    },
    {
     "data": {
      "text/plain": [
       "[stderr:2] 2022-02-26 16:01:56.177992: I tensorflow/core/platform/cpu_feature_guard.cc:151] This TensorFlow binary is optimized with oneAPI Deep Neural Network Library (oneDNN) to use the following CPU instructions in performance-critical operations:  AVX512F\n",
       "To enable them in other operations, rebuild TensorFlow with the appropriate compiler flags.\n"
      ]
     },
     "metadata": {},
     "output_type": "display_data"
    },
    {
     "data": {
      "text/plain": [
       "[stdout:5] Found 6696 files belonging to 3 classes.\n",
       "Using 5357 files for training.\n"
      ]
     },
     "metadata": {},
     "output_type": "display_data"
    },
    {
     "data": {
      "text/plain": [
       "[stderr:5] 2022-02-26 16:01:56.179062: I tensorflow/core/platform/cpu_feature_guard.cc:151] This TensorFlow binary is optimized with oneAPI Deep Neural Network Library (oneDNN) to use the following CPU instructions in performance-critical operations:  AVX512F\n",
       "To enable them in other operations, rebuild TensorFlow with the appropriate compiler flags.\n"
      ]
     },
     "metadata": {},
     "output_type": "display_data"
    },
    {
     "data": {
      "text/plain": [
       "[stdout:7] Found 6696 files belonging to 3 classes.\n",
       "Using 5357 files for training.\n"
      ]
     },
     "metadata": {},
     "output_type": "display_data"
    },
    {
     "data": {
      "text/plain": [
       "[stderr:7] 2022-02-26 16:01:56.187989: I tensorflow/core/platform/cpu_feature_guard.cc:151] This TensorFlow binary is optimized with oneAPI Deep Neural Network Library (oneDNN) to use the following CPU instructions in performance-critical operations:  AVX512F\n",
       "To enable them in other operations, rebuild TensorFlow with the appropriate compiler flags.\n"
      ]
     },
     "metadata": {},
     "output_type": "display_data"
    },
    {
     "data": {
      "text/plain": [
       "[stdout:3] Found 6696 files belonging to 3 classes.\n",
       "Using 5357 files for training.\n"
      ]
     },
     "metadata": {},
     "output_type": "display_data"
    },
    {
     "data": {
      "text/plain": [
       "[stderr:3] 2022-02-26 16:01:56.195138: I tensorflow/core/platform/cpu_feature_guard.cc:151] This TensorFlow binary is optimized with oneAPI Deep Neural Network Library (oneDNN) to use the following CPU instructions in performance-critical operations:  AVX512F\n",
       "To enable them in other operations, rebuild TensorFlow with the appropriate compiler flags.\n"
      ]
     },
     "metadata": {},
     "output_type": "display_data"
    }
   ],
   "source": [
    "%%px\n",
    "train_ds = tf.keras.utils.image_dataset_from_directory(\n",
    "    data_dir,\n",
    "    validation_split = 0.2,\n",
    "    subset = 'training',\n",
    "    seed = 42,\n",
    "    image_size = (img_height,img_width),\n",
    "    batch_size=batch_size\n",
    ")"
   ]
  },
  {
   "cell_type": "code",
   "execution_count": 19,
   "metadata": {},
   "outputs": [
    {
     "data": {
      "text/plain": [
       "[stdout:1] Found 6696 files belonging to 3 classes.\n",
       "Using 1339 files for validation.\n"
      ]
     },
     "metadata": {},
     "output_type": "display_data"
    },
    {
     "data": {
      "text/plain": [
       "[stdout:3] Found 6696 files belonging to 3 classes.\n",
       "Using 1339 files for validation.\n"
      ]
     },
     "metadata": {},
     "output_type": "display_data"
    },
    {
     "data": {
      "text/plain": [
       "[stdout:0] Found 6696 files belonging to 3 classes.\n",
       "Using 1339 files for validation.\n"
      ]
     },
     "metadata": {},
     "output_type": "display_data"
    },
    {
     "data": {
      "text/plain": [
       "[stdout:4] Found 6696 files belonging to 3 classes.\n",
       "Using 1339 files for validation.\n"
      ]
     },
     "metadata": {},
     "output_type": "display_data"
    },
    {
     "data": {
      "text/plain": [
       "[stdout:5] Found 6696 files belonging to 3 classes.\n",
       "Using 1339 files for validation.\n"
      ]
     },
     "metadata": {},
     "output_type": "display_data"
    },
    {
     "data": {
      "text/plain": [
       "[stdout:2] Found 6696 files belonging to 3 classes.\n",
       "Using 1339 files for validation.\n"
      ]
     },
     "metadata": {},
     "output_type": "display_data"
    },
    {
     "data": {
      "text/plain": [
       "[stdout:6] Found 6696 files belonging to 3 classes.\n",
       "Using 1339 files for validation.\n"
      ]
     },
     "metadata": {},
     "output_type": "display_data"
    },
    {
     "data": {
      "text/plain": [
       "[stdout:7] Found 6696 files belonging to 3 classes.\n",
       "Using 1339 files for validation.\n"
      ]
     },
     "metadata": {},
     "output_type": "display_data"
    }
   ],
   "source": [
    "%%px\n",
    "val_ds = tf.keras.utils.image_dataset_from_directory(\n",
    "    data_dir,\n",
    "    validation_split = 0.2,\n",
    "    subset = 'validation',\n",
    "    seed = 42,\n",
    "    image_size = (img_height,img_width),\n",
    "    batch_size=batch_size\n",
    ")"
   ]
  },
  {
   "cell_type": "code",
   "execution_count": 20,
   "metadata": {},
   "outputs": [],
   "source": [
    "%%px\n",
    "AUTOTUNE = tf.data.AUTOTUNE\n",
    "\n",
    "train_ds = train_ds.cache().prefetch(buffer_size=AUTOTUNE)\n",
    "val_ds = val_ds.cache().prefetch(buffer_size=AUTOTUNE)"
   ]
  },
  {
   "cell_type": "code",
   "execution_count": 21,
   "metadata": {},
   "outputs": [],
   "source": [
    "%%px\n",
    "base_model = tf.keras.applications.efficientnet.EfficientNetB0(\n",
    "    include_top=False, weights='imagenet',\n",
    ")"
   ]
  },
  {
   "cell_type": "code",
   "execution_count": 22,
   "metadata": {},
   "outputs": [],
   "source": [
    "%%px\n",
    "base_model.trainable = False\n",
    "for layer in base_model.layers[-100:]:\n",
    "    layer.trainable = True"
   ]
  },
  {
   "cell_type": "code",
   "execution_count": 23,
   "metadata": {},
   "outputs": [],
   "source": [
    "%%px\n",
    "#create model\n",
    "\n",
    "top = tf.keras.layers.Input(shape=(img_height,img_width,3))\n",
    "x = base_model(top)\n",
    "x = tf.keras.layers.GlobalMaxPooling2D()(x)\n",
    "bottom = tf.keras.layers.Dense(3,activation='softmax')(x)\n",
    "\n",
    "model_1 = tf.keras.Model(top,bottom)"
   ]
  },
  {
   "cell_type": "code",
   "execution_count": 24,
   "metadata": {},
   "outputs": [
    {
     "data": {
      "text/plain": [
       "[stdout:6] Model: \"model\"\n",
       "_________________________________________________________________\n",
       " Layer (type)                Output Shape              Param #   \n",
       "=================================================================\n",
       " input_2 (InputLayer)        [(None, 180, 180, 3)]     0         \n",
       "                                                                 \n",
       " efficientnetb0 (Functional)  (None, None, None, 1280)  4049571  \n",
       "                                                                 \n",
       " global_max_pooling2d (Globa  (None, 1280)             0         \n",
       " lMaxPooling2D)                                                  \n",
       "                                                                 \n",
       " dense (Dense)               (None, 3)                 3843      \n",
       "                                                                 \n",
       "=================================================================\n",
       "Total params: 4,053,414\n",
       "Trainable params: 3,843\n",
       "Non-trainable params: 4,049,571\n",
       "_________________________________________________________________\n"
      ]
     },
     "metadata": {},
     "output_type": "display_data"
    },
    {
     "data": {
      "text/plain": [
       "[stdout:1] Model: \"model\"\n",
       "_________________________________________________________________\n",
       " Layer (type)                Output Shape              Param #   \n",
       "=================================================================\n",
       " input_2 (InputLayer)        [(None, 180, 180, 3)]     0         \n",
       "                                                                 \n",
       " efficientnetb0 (Functional)  (None, None, None, 1280)  4049571  \n",
       "                                                                 \n",
       " global_max_pooling2d (Globa  (None, 1280)             0         \n",
       " lMaxPooling2D)                                                  \n",
       "                                                                 \n",
       " dense (Dense)               (None, 3)                 3843      \n",
       "                                                                 \n",
       "=================================================================\n",
       "Total params: 4,053,414\n",
       "Trainable params: 3,843\n",
       "Non-trainable params: 4,049,571\n",
       "_________________________________________________________________\n"
      ]
     },
     "metadata": {},
     "output_type": "display_data"
    },
    {
     "data": {
      "text/plain": [
       "[stdout:0] Model: \"model\"\n",
       "_________________________________________________________________\n",
       " Layer (type)                Output Shape              Param #   \n",
       "=================================================================\n",
       " input_2 (InputLayer)        [(None, 180, 180, 3)]     0         \n",
       "                                                                 \n",
       " efficientnetb0 (Functional)  (None, None, None, 1280)  4049571  \n",
       "                                                                 \n",
       " global_max_pooling2d (Globa  (None, 1280)             0         \n",
       " lMaxPooling2D)                                                  \n",
       "                                                                 \n",
       " dense (Dense)               (None, 3)                 3843      \n",
       "                                                                 \n",
       "=================================================================\n",
       "Total params: 4,053,414\n",
       "Trainable params: 3,843\n",
       "Non-trainable params: 4,049,571\n",
       "_________________________________________________________________\n"
      ]
     },
     "metadata": {},
     "output_type": "display_data"
    },
    {
     "data": {
      "text/plain": [
       "[stdout:7] Model: \"model\"\n",
       "_________________________________________________________________\n",
       " Layer (type)                Output Shape              Param #   \n",
       "=================================================================\n",
       " input_2 (InputLayer)        [(None, 180, 180, 3)]     0         \n",
       "                                                                 \n",
       " efficientnetb0 (Functional)  (None, None, None, 1280)  4049571  \n",
       "                                                                 \n",
       " global_max_pooling2d (Globa  (None, 1280)             0         \n",
       " lMaxPooling2D)                                                  \n",
       "                                                                 \n",
       " dense (Dense)               (None, 3)                 3843      \n",
       "                                                                 \n",
       "=================================================================\n",
       "Total params: 4,053,414\n",
       "Trainable params: 3,843\n",
       "Non-trainable params: 4,049,571\n",
       "_________________________________________________________________\n"
      ]
     },
     "metadata": {},
     "output_type": "display_data"
    },
    {
     "data": {
      "text/plain": [
       "[stdout:5] Model: \"model\"\n",
       "_________________________________________________________________\n",
       " Layer (type)                Output Shape              Param #   \n",
       "=================================================================\n",
       " input_2 (InputLayer)        [(None, 180, 180, 3)]     0         \n",
       "                                                                 \n",
       " efficientnetb0 (Functional)  (None, None, None, 1280)  4049571  \n",
       "                                                                 \n",
       " global_max_pooling2d (Globa  (None, 1280)             0         \n",
       " lMaxPooling2D)                                                  \n",
       "                                                                 \n",
       " dense (Dense)               (None, 3)                 3843      \n",
       "                                                                 \n",
       "=================================================================\n",
       "Total params: 4,053,414\n",
       "Trainable params: 3,843\n",
       "Non-trainable params: 4,049,571\n",
       "_________________________________________________________________\n"
      ]
     },
     "metadata": {},
     "output_type": "display_data"
    },
    {
     "data": {
      "text/plain": [
       "[stdout:2] Model: \"model\"\n",
       "_________________________________________________________________\n",
       " Layer (type)                Output Shape              Param #   \n",
       "=================================================================\n",
       " input_2 (InputLayer)        [(None, 180, 180, 3)]     0         \n",
       "                                                                 \n",
       " efficientnetb0 (Functional)  (None, None, None, 1280)  4049571  \n",
       "                                                                 \n",
       " global_max_pooling2d (Globa  (None, 1280)             0         \n",
       " lMaxPooling2D)                                                  \n",
       "                                                                 \n",
       " dense (Dense)               (None, 3)                 3843      \n",
       "                                                                 \n",
       "=================================================================\n",
       "Total params: 4,053,414\n",
       "Trainable params: 3,843\n",
       "Non-trainable params: 4,049,571\n",
       "_________________________________________________________________\n"
      ]
     },
     "metadata": {},
     "output_type": "display_data"
    },
    {
     "data": {
      "text/plain": [
       "[stdout:3] Model: \"model\"\n",
       "_________________________________________________________________\n",
       " Layer (type)                Output Shape              Param #   \n",
       "=================================================================\n",
       " input_2 (InputLayer)        [(None, 180, 180, 3)]     0         \n",
       "                                                                 \n",
       " efficientnetb0 (Functional)  (None, None, None, 1280)  4049571  \n",
       "                                                                 \n",
       " global_max_pooling2d (Globa  (None, 1280)             0         \n",
       " lMaxPooling2D)                                                  \n",
       "                                                                 \n",
       " dense (Dense)               (None, 3)                 3843      \n",
       "                                                                 \n",
       "=================================================================\n",
       "Total params: 4,053,414\n",
       "Trainable params: 3,843\n",
       "Non-trainable params: 4,049,571\n",
       "_________________________________________________________________\n"
      ]
     },
     "metadata": {},
     "output_type": "display_data"
    },
    {
     "data": {
      "text/plain": [
       "[stdout:4] Model: \"model\"\n",
       "_________________________________________________________________\n",
       " Layer (type)                Output Shape              Param #   \n",
       "=================================================================\n",
       " input_2 (InputLayer)        [(None, 180, 180, 3)]     0         \n",
       "                                                                 \n",
       " efficientnetb0 (Functional)  (None, None, None, 1280)  4049571  \n",
       "                                                                 \n",
       " global_max_pooling2d (Globa  (None, 1280)             0         \n",
       " lMaxPooling2D)                                                  \n",
       "                                                                 \n",
       " dense (Dense)               (None, 3)                 3843      \n",
       "                                                                 \n",
       "=================================================================\n",
       "Total params: 4,053,414\n",
       "Trainable params: 3,843\n",
       "Non-trainable params: 4,049,571\n",
       "_________________________________________________________________\n"
      ]
     },
     "metadata": {},
     "output_type": "display_data"
    }
   ],
   "source": [
    "%%px\n",
    "model_1.summary()"
   ]
  },
  {
   "cell_type": "code",
   "execution_count": 25,
   "metadata": {},
   "outputs": [],
   "source": [
    "%%px\n",
    "#compile model\n",
    "\n",
    "model_1.compile(\n",
    "    optimizer=tf.keras.optimizers.Adam(),\n",
    "    loss=tf.keras.losses.SparseCategoricalCrossentropy(),\n",
    "    metrics=['accuracy']\n",
    ")"
   ]
  },
  {
   "cell_type": "code",
   "execution_count": 26,
   "metadata": {},
   "outputs": [],
   "source": [
    "%%px\n",
    "\n",
    "from mpi4py import MPI\n",
    "\n",
    "BASE_TF_SERVER_PORT = 7850\n",
    "SHUFFLE_BUFFER_SIZE = 10000\n",
    "\n",
    "num_workers = MPI.COMM_WORLD.Get_size()\n",
    "worker_index = MPI.COMM_WORLD.Get_rank()\n",
    "\n",
    "def set_tf_config():\n",
    "    \"\"\" Makes a TensorFlow cluster information and sets it to TF_CONFIG environment variable.\n",
    "    \"\"\"\n",
    "    tf_config = {\n",
    "        \"cluster\": {\n",
    "            \"worker\": [f\"localhost:{BASE_TF_SERVER_PORT + index}\" for index in range(num_workers)]\n",
    "        },\n",
    "        \"task\": {\"type\": \"worker\", \"index\": worker_index}\n",
    "    }\n",
    "    tf_config_text = json.dumps(tf_config)\n",
    "    os.environ[\"TF_CONFIG\"] = tf_config_text\n",
    "    print(f\"TF_CONFIG = {tf_config_text}\")\n",
    "    return tf_config_text"
   ]
  },
  {
   "cell_type": "code",
   "execution_count": 27,
   "metadata": {},
   "outputs": [],
   "source": [
    "%%px\n",
    "early_callback = tf.keras.callbacks.EarlyStopping(\n",
    "    monitor=\"val_loss\",\n",
    "    patience=3,\n",
    "    verbose=0,\n",
    "    mode=\"auto\",\n",
    "    restore_best_weights=True,\n",
    ")"
   ]
  },
  {
   "cell_type": "markdown",
   "metadata": {},
   "source": [
    "# Training with one gaudi core accelerator"
   ]
  },
  {
   "cell_type": "code",
   "execution_count": 28,
   "metadata": {},
   "outputs": [
    {
     "data": {
      "text/plain": [
       "[stdout:2] Epoch 1/200\n",
       "335/335 [==============================] - 68s 192ms/step - loss: 1.5051 - accuracy: 0.5387 - val_loss: 0.9754 - val_accuracy: 0.6117\n",
       "Epoch 2/200\n",
       "335/335 [==============================] - 60s 178ms/step - loss: 1.1196 - accuracy: 0.6171 - val_loss: 0.7953 - val_accuracy: 0.6669\n",
       "Epoch 3/200\n",
       "335/335 [==============================] - 54s 160ms/step - loss: 1.0284 - accuracy: 0.6371 - val_loss: 0.7519 - val_accuracy: 0.6990\n",
       "Epoch 4/200\n",
       "335/335 [==============================] - 51s 152ms/step - loss: 0.9506 - accuracy: 0.6535 - val_loss: 0.8434 - val_accuracy: 0.6617\n",
       "Epoch 5/200\n",
       "335/335 [==============================] - 49s 147ms/step - loss: 0.9229 - accuracy: 0.6604 - val_loss: 0.6980 - val_accuracy: 0.7005\n",
       "Epoch 6/200\n",
       "335/335 [==============================] - 56s 168ms/step - loss: 0.8756 - accuracy: 0.6730 - val_loss: 0.6858 - val_accuracy: 0.7043\n",
       "Epoch 7/200\n",
       "335/335 [==============================] - 56s 168ms/step - loss: 0.8649 - accuracy: 0.6756 - val_loss: 0.6554 - val_accuracy: 0.7289\n",
       "Epoch 8/200\n",
       "335/335 [==============================] - 57s 170ms/step - loss: 0.8233 - accuracy: 0.6864 - val_loss: 0.6865 - val_accuracy: 0.7214\n",
       "Epoch 9/200\n",
       "335/335 [==============================] - 45s 135ms/step - loss: 0.8459 - accuracy: 0.6800 - val_loss: 0.6289 - val_accuracy: 0.7438\n",
       "Epoch 10/200\n",
       "335/335 [==============================] - 35s 104ms/step - loss: 0.8023 - accuracy: 0.6937 - val_loss: 0.6371 - val_accuracy: 0.7491\n",
       "Epoch 11/200\n",
       "335/335 [==============================] - 39s 116ms/step - loss: 0.7862 - accuracy: 0.6959 - val_loss: 0.6034 - val_accuracy: 0.7468\n",
       "Epoch 12/200\n",
       "335/335 [==============================] - 44s 131ms/step - loss: 0.8001 - accuracy: 0.6952 - val_loss: 0.6131 - val_accuracy: 0.7662\n",
       "Epoch 13/200\n",
       "335/335 [==============================] - 45s 133ms/step - loss: 0.8062 - accuracy: 0.7000 - val_loss: 0.6461 - val_accuracy: 0.7633\n",
       "Epoch 14/200\n",
       "335/335 [==============================] - 36s 106ms/step - loss: 0.7847 - accuracy: 0.7006 - val_loss: 0.7826 - val_accuracy: 0.7072\n"
      ]
     },
     "metadata": {},
     "output_type": "display_data"
    },
    {
     "data": {
      "text/plain": [
       "[stdout:1] Epoch 1/200\n",
       "335/335 [==============================] - 68s 191ms/step - loss: 1.5840 - accuracy: 0.5397 - val_loss: 1.0002 - val_accuracy: 0.6243\n",
       "Epoch 2/200\n",
       "335/335 [==============================] - 59s 175ms/step - loss: 1.1855 - accuracy: 0.6110 - val_loss: 0.8513 - val_accuracy: 0.7043\n",
       "Epoch 3/200\n",
       "335/335 [==============================] - 59s 175ms/step - loss: 1.0276 - accuracy: 0.6321 - val_loss: 0.7533 - val_accuracy: 0.7184\n",
       "Epoch 4/200\n",
       "335/335 [==============================] - 59s 176ms/step - loss: 1.0104 - accuracy: 0.6425 - val_loss: 0.7314 - val_accuracy: 0.7304\n",
       "Epoch 5/200\n",
       "335/335 [==============================] - 43s 128ms/step - loss: 0.9710 - accuracy: 0.6575 - val_loss: 0.7390 - val_accuracy: 0.7341\n",
       "Epoch 6/200\n",
       "335/335 [==============================] - 46s 138ms/step - loss: 0.8463 - accuracy: 0.6746 - val_loss: 0.6707 - val_accuracy: 0.7446\n",
       "Epoch 7/200\n",
       "335/335 [==============================] - 56s 167ms/step - loss: 0.8524 - accuracy: 0.6784 - val_loss: 0.7167 - val_accuracy: 0.7416\n",
       "Epoch 8/200\n",
       "335/335 [==============================] - 53s 157ms/step - loss: 0.8360 - accuracy: 0.6853 - val_loss: 0.6323 - val_accuracy: 0.7521\n",
       "Epoch 9/200\n",
       "335/335 [==============================] - 58s 173ms/step - loss: 0.8593 - accuracy: 0.6793 - val_loss: 0.6628 - val_accuracy: 0.7341\n",
       "Epoch 10/200\n",
       "335/335 [==============================] - 58s 173ms/step - loss: 0.8124 - accuracy: 0.6903 - val_loss: 0.5940 - val_accuracy: 0.7476\n",
       "Epoch 11/200\n",
       "335/335 [==============================] - 51s 151ms/step - loss: 0.8007 - accuracy: 0.7036 - val_loss: 0.5888 - val_accuracy: 0.7498\n",
       "Epoch 12/200\n",
       "335/335 [==============================] - 45s 133ms/step - loss: 0.7800 - accuracy: 0.7023 - val_loss: 0.5885 - val_accuracy: 0.7610\n",
       "Epoch 13/200\n",
       "335/335 [==============================] - 39s 117ms/step - loss: 0.8008 - accuracy: 0.7000 - val_loss: 0.5851 - val_accuracy: 0.7513\n",
       "Epoch 14/200\n",
       "335/335 [==============================] - 32s 97ms/step - loss: 0.8083 - accuracy: 0.7004 - val_loss: 0.5804 - val_accuracy: 0.7685\n",
       "Epoch 15/200\n",
       "335/335 [==============================] - 26s 78ms/step - loss: 0.7818 - accuracy: 0.6982 - val_loss: 0.5931 - val_accuracy: 0.7677\n",
       "Epoch 16/200\n",
       "335/335 [==============================] - 23s 69ms/step - loss: 0.7658 - accuracy: 0.7079 - val_loss: 0.5896 - val_accuracy: 0.7625\n",
       "Epoch 17/200\n",
       "335/335 [==============================] - 23s 69ms/step - loss: 0.7652 - accuracy: 0.7079 - val_loss: 0.6104 - val_accuracy: 0.7633\n"
      ]
     },
     "metadata": {},
     "output_type": "display_data"
    },
    {
     "data": {
      "text/plain": [
       "[stdout:3] Epoch 1/200\n",
       "335/335 [==============================] - 68s 193ms/step - loss: 1.4759 - accuracy: 0.5602 - val_loss: 0.8957 - val_accuracy: 0.6580\n",
       "Epoch 2/200\n",
       "335/335 [==============================] - 60s 178ms/step - loss: 1.1484 - accuracy: 0.6199 - val_loss: 0.7944 - val_accuracy: 0.6916\n",
       "Epoch 3/200\n",
       "335/335 [==============================] - 58s 174ms/step - loss: 1.0289 - accuracy: 0.6451 - val_loss: 0.7080 - val_accuracy: 0.7072\n",
       "Epoch 4/200\n",
       "335/335 [==============================] - 58s 173ms/step - loss: 1.0007 - accuracy: 0.6431 - val_loss: 0.6915 - val_accuracy: 0.7334\n",
       "Epoch 5/200\n",
       "335/335 [==============================] - 42s 126ms/step - loss: 0.8990 - accuracy: 0.6662 - val_loss: 0.7006 - val_accuracy: 0.7274\n",
       "Epoch 6/200\n",
       "335/335 [==============================] - 57s 170ms/step - loss: 0.9222 - accuracy: 0.6664 - val_loss: 0.6632 - val_accuracy: 0.7229\n",
       "Epoch 7/200\n",
       "335/335 [==============================] - 57s 170ms/step - loss: 0.8439 - accuracy: 0.6894 - val_loss: 0.6504 - val_accuracy: 0.7483\n",
       "Epoch 8/200\n",
       "335/335 [==============================] - 56s 169ms/step - loss: 0.8552 - accuracy: 0.6853 - val_loss: 0.6263 - val_accuracy: 0.7438\n",
       "Epoch 9/200\n",
       "335/335 [==============================] - 56s 166ms/step - loss: 0.8220 - accuracy: 0.6855 - val_loss: 0.6211 - val_accuracy: 0.7565\n",
       "Epoch 10/200\n",
       "335/335 [==============================] - 46s 137ms/step - loss: 0.8285 - accuracy: 0.6918 - val_loss: 0.7035 - val_accuracy: 0.7371\n",
       "Epoch 11/200\n",
       "335/335 [==============================] - 40s 120ms/step - loss: 0.7871 - accuracy: 0.6946 - val_loss: 0.5975 - val_accuracy: 0.7461\n",
       "Epoch 12/200\n",
       "335/335 [==============================] - 34s 102ms/step - loss: 0.7712 - accuracy: 0.6978 - val_loss: 0.6059 - val_accuracy: 0.7662\n",
       "Epoch 13/200\n",
       "335/335 [==============================] - 36s 108ms/step - loss: 0.8340 - accuracy: 0.6853 - val_loss: 0.6198 - val_accuracy: 0.7311\n",
       "Epoch 14/200\n",
       "335/335 [==============================] - 32s 97ms/step - loss: 0.7569 - accuracy: 0.7026 - val_loss: 0.6731 - val_accuracy: 0.7334\n"
      ]
     },
     "metadata": {},
     "output_type": "display_data"
    },
    {
     "data": {
      "text/plain": [
       "[stdout:6] Epoch 1/200\n",
       "335/335 [==============================] - 67s 189ms/step - loss: 1.4977 - accuracy: 0.5449 - val_loss: 0.8490 - val_accuracy: 0.6744\n",
       "Epoch 2/200\n",
       "335/335 [==============================] - 59s 175ms/step - loss: 1.1440 - accuracy: 0.6138 - val_loss: 0.7404 - val_accuracy: 0.7013\n",
       "Epoch 3/200\n",
       "335/335 [==============================] - 59s 175ms/step - loss: 1.0068 - accuracy: 0.6328 - val_loss: 0.7126 - val_accuracy: 0.7184\n",
       "Epoch 4/200\n",
       "335/335 [==============================] - 50s 150ms/step - loss: 0.9529 - accuracy: 0.6470 - val_loss: 0.7116 - val_accuracy: 0.7080\n",
       "Epoch 5/200\n",
       "335/335 [==============================] - 59s 177ms/step - loss: 0.9221 - accuracy: 0.6586 - val_loss: 0.7680 - val_accuracy: 0.6819\n",
       "Epoch 6/200\n",
       "335/335 [==============================] - 60s 179ms/step - loss: 0.8409 - accuracy: 0.6864 - val_loss: 0.6330 - val_accuracy: 0.7371\n",
       "Epoch 7/200\n",
       "335/335 [==============================] - 58s 174ms/step - loss: 0.8560 - accuracy: 0.6795 - val_loss: 0.6114 - val_accuracy: 0.7521\n",
       "Epoch 8/200\n",
       "335/335 [==============================] - 46s 136ms/step - loss: 0.8199 - accuracy: 0.6814 - val_loss: 0.6091 - val_accuracy: 0.7446\n",
       "Epoch 9/200\n",
       "335/335 [==============================] - 45s 133ms/step - loss: 0.7785 - accuracy: 0.6968 - val_loss: 0.5666 - val_accuracy: 0.7722\n",
       "Epoch 10/200\n",
       "335/335 [==============================] - 44s 133ms/step - loss: 0.8038 - accuracy: 0.6931 - val_loss: 0.5961 - val_accuracy: 0.7521\n",
       "Epoch 11/200\n",
       "335/335 [==============================] - 43s 130ms/step - loss: 0.8059 - accuracy: 0.6987 - val_loss: 0.5760 - val_accuracy: 0.7595\n",
       "Epoch 12/200\n",
       "335/335 [==============================] - 29s 88ms/step - loss: 0.7755 - accuracy: 0.7030 - val_loss: 0.7225 - val_accuracy: 0.7020\n"
      ]
     },
     "metadata": {},
     "output_type": "display_data"
    },
    {
     "data": {
      "text/plain": [
       "[stdout:5] Epoch 1/200\n",
       "335/335 [==============================] - 68s 191ms/step - loss: 1.5489 - accuracy: 0.5371 - val_loss: 0.8852 - val_accuracy: 0.6460\n",
       "Epoch 2/200\n",
       "335/335 [==============================] - 60s 178ms/step - loss: 1.1430 - accuracy: 0.6151 - val_loss: 0.7342 - val_accuracy: 0.6953\n",
       "Epoch 3/200\n",
       "335/335 [==============================] - 58s 174ms/step - loss: 1.0220 - accuracy: 0.6360 - val_loss: 0.7607 - val_accuracy: 0.7147\n",
       "Epoch 4/200\n",
       "335/335 [==============================] - 42s 124ms/step - loss: 0.9781 - accuracy: 0.6483 - val_loss: 0.6883 - val_accuracy: 0.7304\n",
       "Epoch 5/200\n",
       "335/335 [==============================] - 57s 169ms/step - loss: 0.9211 - accuracy: 0.6584 - val_loss: 0.7143 - val_accuracy: 0.7125\n",
       "Epoch 6/200\n",
       "335/335 [==============================] - 44s 132ms/step - loss: 0.8698 - accuracy: 0.6791 - val_loss: 0.6502 - val_accuracy: 0.7453\n",
       "Epoch 7/200\n",
       "335/335 [==============================] - 56s 168ms/step - loss: 0.8583 - accuracy: 0.6778 - val_loss: 0.6453 - val_accuracy: 0.7386\n",
       "Epoch 8/200\n",
       "335/335 [==============================] - 51s 153ms/step - loss: 0.8599 - accuracy: 0.6791 - val_loss: 0.6164 - val_accuracy: 0.7491\n",
       "Epoch 9/200\n",
       "335/335 [==============================] - 58s 173ms/step - loss: 0.7853 - accuracy: 0.6942 - val_loss: 0.6323 - val_accuracy: 0.7483\n",
       "Epoch 10/200\n",
       "335/335 [==============================] - 57s 171ms/step - loss: 0.8063 - accuracy: 0.6939 - val_loss: 0.6535 - val_accuracy: 0.7296\n",
       "Epoch 11/200\n",
       "335/335 [==============================] - 51s 153ms/step - loss: 0.7984 - accuracy: 0.6918 - val_loss: 0.6399 - val_accuracy: 0.7513\n"
      ]
     },
     "metadata": {},
     "output_type": "display_data"
    },
    {
     "data": {
      "text/plain": [
       "[stdout:4] Epoch 1/200\n",
       "335/335 [==============================] - 68s 191ms/step - loss: 1.5100 - accuracy: 0.5505 - val_loss: 0.8584 - val_accuracy: 0.6632\n",
       "Epoch 2/200\n",
       "335/335 [==============================] - 59s 177ms/step - loss: 1.1442 - accuracy: 0.6106 - val_loss: 0.7594 - val_accuracy: 0.7132\n",
       "Epoch 3/200\n",
       "335/335 [==============================] - 53s 157ms/step - loss: 0.9951 - accuracy: 0.6418 - val_loss: 0.7084 - val_accuracy: 0.7199\n",
       "Epoch 4/200\n",
       "335/335 [==============================] - 52s 157ms/step - loss: 0.9126 - accuracy: 0.6631 - val_loss: 0.6485 - val_accuracy: 0.7252\n",
       "Epoch 5/200\n",
       "335/335 [==============================] - 51s 152ms/step - loss: 0.8620 - accuracy: 0.6758 - val_loss: 0.6319 - val_accuracy: 0.7498\n",
       "Epoch 6/200\n",
       "335/335 [==============================] - 58s 172ms/step - loss: 0.8826 - accuracy: 0.6759 - val_loss: 0.6355 - val_accuracy: 0.7304\n",
       "Epoch 7/200\n",
       "335/335 [==============================] - 58s 172ms/step - loss: 0.8415 - accuracy: 0.6797 - val_loss: 0.6351 - val_accuracy: 0.7558\n",
       "Epoch 8/200\n",
       "335/335 [==============================] - 57s 172ms/step - loss: 0.8319 - accuracy: 0.6866 - val_loss: 0.6537 - val_accuracy: 0.7550\n"
      ]
     },
     "metadata": {},
     "output_type": "display_data"
    },
    {
     "data": {
      "text/plain": [
       "[stdout:7] Epoch 1/200\n",
       "335/335 [==============================] - 69s 194ms/step - loss: 1.5087 - accuracy: 0.5512 - val_loss: 0.9749 - val_accuracy: 0.6191\n",
       "Epoch 2/200\n",
       "335/335 [==============================] - 60s 180ms/step - loss: 1.1564 - accuracy: 0.6104 - val_loss: 1.0741 - val_accuracy: 0.5907\n",
       "Epoch 3/200\n",
       "335/335 [==============================] - 59s 175ms/step - loss: 1.0430 - accuracy: 0.6388 - val_loss: 0.7465 - val_accuracy: 0.7020\n",
       "Epoch 4/200\n",
       "335/335 [==============================] - 46s 136ms/step - loss: 0.9350 - accuracy: 0.6552 - val_loss: 0.7718 - val_accuracy: 0.6893\n",
       "Epoch 5/200\n",
       "335/335 [==============================] - 58s 175ms/step - loss: 0.9304 - accuracy: 0.6616 - val_loss: 0.8013 - val_accuracy: 0.6580\n",
       "Epoch 6/200\n",
       "335/335 [==============================] - 50s 151ms/step - loss: 0.8654 - accuracy: 0.6739 - val_loss: 0.7075 - val_accuracy: 0.6908\n",
       "Epoch 7/200\n",
       "335/335 [==============================] - 56s 167ms/step - loss: 0.8181 - accuracy: 0.6922 - val_loss: 0.6467 - val_accuracy: 0.7222\n",
       "Epoch 8/200\n",
       "335/335 [==============================] - 57s 169ms/step - loss: 0.8499 - accuracy: 0.6767 - val_loss: 0.6322 - val_accuracy: 0.7326\n",
       "Epoch 9/200\n",
       "335/335 [==============================] - 60s 178ms/step - loss: 0.8088 - accuracy: 0.6871 - val_loss: 0.6806 - val_accuracy: 0.7222\n",
       "Epoch 10/200\n",
       "335/335 [==============================] - 61s 181ms/step - loss: 0.8103 - accuracy: 0.6888 - val_loss: 0.6215 - val_accuracy: 0.7416\n",
       "Epoch 11/200\n",
       "335/335 [==============================] - 48s 144ms/step - loss: 0.7769 - accuracy: 0.6996 - val_loss: 0.6543 - val_accuracy: 0.7296\n",
       "Epoch 12/200\n",
       "335/335 [==============================] - 36s 108ms/step - loss: 0.8158 - accuracy: 0.6851 - val_loss: 0.6417 - val_accuracy: 0.7580\n",
       "Epoch 13/200\n",
       "335/335 [==============================] - 40s 120ms/step - loss: 0.7934 - accuracy: 0.6970 - val_loss: 0.6888 - val_accuracy: 0.7319\n"
      ]
     },
     "metadata": {},
     "output_type": "display_data"
    },
    {
     "data": {
      "text/plain": [
       "[stdout:0] Epoch 1/200\n",
       "335/335 [==============================] - 69s 193ms/step - loss: 1.5540 - accuracy: 0.5466 - val_loss: 0.8537 - val_accuracy: 0.6662\n",
       "Epoch 2/200\n",
       "335/335 [==============================] - 60s 179ms/step - loss: 1.1400 - accuracy: 0.6216 - val_loss: 0.7088 - val_accuracy: 0.7028\n",
       "Epoch 3/200\n",
       "335/335 [==============================] - 56s 166ms/step - loss: 1.0201 - accuracy: 0.6354 - val_loss: 0.7147 - val_accuracy: 0.6893\n",
       "Epoch 4/200\n",
       "335/335 [==============================] - 54s 161ms/step - loss: 0.9862 - accuracy: 0.6481 - val_loss: 0.7892 - val_accuracy: 0.6848\n",
       "Epoch 5/200\n",
       "335/335 [==============================] - 60s 178ms/step - loss: 0.8997 - accuracy: 0.6705 - val_loss: 0.6237 - val_accuracy: 0.7289\n",
       "Epoch 6/200\n",
       "335/335 [==============================] - 59s 176ms/step - loss: 0.9018 - accuracy: 0.6718 - val_loss: 0.6408 - val_accuracy: 0.7356\n",
       "Epoch 7/200\n",
       "335/335 [==============================] - 59s 177ms/step - loss: 0.8462 - accuracy: 0.6806 - val_loss: 0.6145 - val_accuracy: 0.7506\n",
       "Epoch 8/200\n",
       "335/335 [==============================] - 49s 145ms/step - loss: 0.8275 - accuracy: 0.6858 - val_loss: 0.6047 - val_accuracy: 0.7513\n",
       "Epoch 9/200\n",
       "335/335 [==============================] - 38s 113ms/step - loss: 0.8111 - accuracy: 0.6905 - val_loss: 0.6050 - val_accuracy: 0.7423\n",
       "Epoch 10/200\n",
       "335/335 [==============================] - 44s 131ms/step - loss: 0.8231 - accuracy: 0.6939 - val_loss: 0.5925 - val_accuracy: 0.7647\n",
       "Epoch 11/200\n",
       "335/335 [==============================] - 46s 138ms/step - loss: 0.8019 - accuracy: 0.6884 - val_loss: 0.5949 - val_accuracy: 0.7528\n",
       "Epoch 12/200\n",
       "335/335 [==============================] - 46s 139ms/step - loss: 0.7867 - accuracy: 0.7062 - val_loss: 0.5778 - val_accuracy: 0.7625\n",
       "Epoch 13/200\n",
       "335/335 [==============================] - 24s 72ms/step - loss: 0.7932 - accuracy: 0.6942 - val_loss: 0.5893 - val_accuracy: 0.7640\n",
       "Epoch 14/200\n",
       "335/335 [==============================] - 24s 71ms/step - loss: 0.7900 - accuracy: 0.6982 - val_loss: 0.5870 - val_accuracy: 0.7461\n",
       "Epoch 15/200\n",
       "335/335 [==============================] - 24s 72ms/step - loss: 0.8122 - accuracy: 0.6927 - val_loss: 0.6408 - val_accuracy: 0.7461\n"
      ]
     },
     "metadata": {},
     "output_type": "display_data"
    },
    {
     "data": {
      "application/vnd.jupyter.widget-view+json": {
       "model_id": "ff69241466084340be8cbe776e42a24d",
       "version_major": 2,
       "version_minor": 0
      },
      "text/plain": [
       "%px:   0%|          | 0/8 [00:00<?, ?tasks/s]"
      ]
     },
     "metadata": {},
     "output_type": "display_data"
    }
   ],
   "source": [
    "%%px\n",
    "\n",
    "history_1 = model_1.fit(\n",
    "    train_ds,\n",
    "    validation_data = val_ds,\n",
    "    epochs=200,\n",
    "    callbacks=[early_callback]\n",
    ")"
   ]
  },
  {
   "cell_type": "code",
   "execution_count": 29,
   "metadata": {},
   "outputs": [
    {
     "data": {
      "text/plain": [
       "[stdout:6] 84/84 [==============================] - 10s 125ms/step - loss: 0.5666 - accuracy: 0.7722\n"
      ]
     },
     "metadata": {},
     "output_type": "display_data"
    },
    {
     "data": {
      "text/plain": [
       "[stdout:3] 84/84 [==============================] - 11s 125ms/step - loss: 0.5975 - accuracy: 0.7461\n"
      ]
     },
     "metadata": {},
     "output_type": "display_data"
    },
    {
     "data": {
      "text/plain": [
       "[stdout:0] 84/84 [==============================] - 11s 130ms/step - loss: 0.5778 - accuracy: 0.7625\n"
      ]
     },
     "metadata": {},
     "output_type": "display_data"
    },
    {
     "data": {
      "text/plain": [
       "[stdout:5] 84/84 [==============================] - 11s 129ms/step - loss: 0.6164 - accuracy: 0.7491\n"
      ]
     },
     "metadata": {},
     "output_type": "display_data"
    },
    {
     "data": {
      "text/plain": [
       "[stdout:1] 84/84 [==============================] - 11s 126ms/step - loss: 0.5804 - accuracy: 0.7685\n"
      ]
     },
     "metadata": {},
     "output_type": "display_data"
    },
    {
     "data": {
      "text/plain": [
       "[stdout:7] 84/84 [==============================] - 11s 129ms/step - loss: 0.6215 - accuracy: 0.7416\n"
      ]
     },
     "metadata": {},
     "output_type": "display_data"
    },
    {
     "data": {
      "text/plain": [
       "[stdout:4] 84/84 [==============================] - 11s 128ms/step - loss: 0.6319 - accuracy: 0.7498\n"
      ]
     },
     "metadata": {},
     "output_type": "display_data"
    },
    {
     "data": {
      "text/plain": [
       "[stdout:2] 84/84 [==============================] - 11s 127ms/step - loss: 0.6034 - accuracy: 0.7468\n"
      ]
     },
     "metadata": {},
     "output_type": "display_data"
    },
    {
     "data": {
      "application/vnd.jupyter.widget-view+json": {
       "model_id": "2f22c676e8fb4861a50c7d07f91c7f9f",
       "version_major": 2,
       "version_minor": 0
      },
      "text/plain": [
       "%px:   0%|          | 0/8 [00:00<?, ?tasks/s]"
      ]
     },
     "metadata": {},
     "output_type": "display_data"
    },
    {
     "data": {
      "text/plain": [
       "\u001b[0;31mOut[6:14]: \u001b[0m[0.5666400790214539, 0.7722180485725403]"
      ]
     },
     "metadata": {
      "after": null,
      "completed": null,
      "data": {},
      "engine_id": 6,
      "engine_uuid": "cca2f73e-7f3643a6a7f8add6e2c3cd14",
      "error": null,
      "execute_input": "model_1.evaluate(val_ds)\n",
      "execute_result": {
       "data": {
        "text/plain": "[0.5666400790214539, 0.7722180485725403]"
       },
       "execution_count": 14,
       "metadata": {}
      },
      "follow": null,
      "msg_id": null,
      "outputs": [],
      "received": null,
      "started": null,
      "status": null,
      "stderr": "",
      "stdout": "84/84 [==============================] - 10s 125ms/step - loss: 0.5666 - accuracy: 0.7722\n",
      "submitted": "2022-02-26T16:16:31.277993Z"
     },
     "output_type": "display_data"
    },
    {
     "data": {
      "text/plain": [
       "\u001b[0;31mOut[1:14]: \u001b[0m[0.5803775191307068, 0.7684839367866516]"
      ]
     },
     "metadata": {
      "after": null,
      "completed": null,
      "data": {},
      "engine_id": 1,
      "engine_uuid": "a0804363-b48634861f62eea4eba26d94",
      "error": null,
      "execute_input": "model_1.evaluate(val_ds)\n",
      "execute_result": {
       "data": {
        "text/plain": "[0.5803775191307068, 0.7684839367866516]"
       },
       "execution_count": 14,
       "metadata": {}
      },
      "follow": null,
      "msg_id": null,
      "outputs": [],
      "received": null,
      "started": null,
      "status": null,
      "stderr": "",
      "stdout": "84/84 [==============================] - 11s 126ms/step - loss: 0.5804 - accuracy: 0.7685\n",
      "submitted": "2022-02-26T16:16:31.277199Z"
     },
     "output_type": "display_data"
    },
    {
     "data": {
      "text/plain": [
       "\u001b[0;31mOut[2:14]: \u001b[0m[0.6034286618232727, 0.7468259930610657]"
      ]
     },
     "metadata": {
      "after": null,
      "completed": null,
      "data": {},
      "engine_id": 2,
      "engine_uuid": "2d4485af-9f46ca1eeabb7e81d3e2bb2c",
      "error": null,
      "execute_input": "model_1.evaluate(val_ds)\n",
      "execute_result": {
       "data": {
        "text/plain": "[0.6034286618232727, 0.7468259930610657]"
       },
       "execution_count": 14,
       "metadata": {}
      },
      "follow": null,
      "msg_id": null,
      "outputs": [],
      "received": null,
      "started": null,
      "status": null,
      "stderr": "",
      "stdout": "84/84 [==============================] - 11s 127ms/step - loss: 0.6034 - accuracy: 0.7468\n",
      "submitted": "2022-02-26T16:16:31.277334Z"
     },
     "output_type": "display_data"
    },
    {
     "data": {
      "text/plain": [
       "\u001b[0;31mOut[4:14]: \u001b[0m[0.6319094300270081, 0.7498133182525635]"
      ]
     },
     "metadata": {
      "after": null,
      "completed": null,
      "data": {},
      "engine_id": 4,
      "engine_uuid": "f79a63cf-cf3d342472b605acb3aceb67",
      "error": null,
      "execute_input": "model_1.evaluate(val_ds)\n",
      "execute_result": {
       "data": {
        "text/plain": "[0.6319094300270081, 0.7498133182525635]"
       },
       "execution_count": 14,
       "metadata": {}
      },
      "follow": null,
      "msg_id": null,
      "outputs": [],
      "received": null,
      "started": null,
      "status": null,
      "stderr": "",
      "stdout": "84/84 [==============================] - 11s 128ms/step - loss: 0.6319 - accuracy: 0.7498\n",
      "submitted": "2022-02-26T16:16:31.277756Z"
     },
     "output_type": "display_data"
    },
    {
     "data": {
      "text/plain": [
       "\u001b[0;31mOut[5:14]: \u001b[0m[0.6164113879203796, 0.7490664720535278]"
      ]
     },
     "metadata": {
      "after": null,
      "completed": null,
      "data": {},
      "engine_id": 5,
      "engine_uuid": "38a7dee2-ef02057376c8a23a0af05016",
      "error": null,
      "execute_input": "model_1.evaluate(val_ds)\n",
      "execute_result": {
       "data": {
        "text/plain": "[0.6164113879203796, 0.7490664720535278]"
       },
       "execution_count": 14,
       "metadata": {}
      },
      "follow": null,
      "msg_id": null,
      "outputs": [],
      "received": null,
      "started": null,
      "status": null,
      "stderr": "",
      "stdout": "84/84 [==============================] - 11s 129ms/step - loss: 0.6164 - accuracy: 0.7491\n",
      "submitted": "2022-02-26T16:16:31.277841Z"
     },
     "output_type": "display_data"
    },
    {
     "data": {
      "text/plain": [
       "\u001b[0;31mOut[7:14]: \u001b[0m[0.6215060353279114, 0.7415981888771057]"
      ]
     },
     "metadata": {
      "after": null,
      "completed": null,
      "data": {},
      "engine_id": 7,
      "engine_uuid": "7e69b096-33e8056ed7233ff9c06c09ed",
      "error": null,
      "execute_input": "model_1.evaluate(val_ds)\n",
      "execute_result": {
       "data": {
        "text/plain": "[0.6215060353279114, 0.7415981888771057]"
       },
       "execution_count": 14,
       "metadata": {}
      },
      "follow": null,
      "msg_id": null,
      "outputs": [],
      "received": null,
      "started": null,
      "status": null,
      "stderr": "",
      "stdout": "84/84 [==============================] - 11s 129ms/step - loss: 0.6215 - accuracy: 0.7416\n",
      "submitted": "2022-02-26T16:16:31.278081Z"
     },
     "output_type": "display_data"
    },
    {
     "data": {
      "text/plain": [
       "\u001b[0;31mOut[0:14]: \u001b[0m[0.577778697013855, 0.7625093460083008]"
      ]
     },
     "metadata": {
      "after": null,
      "completed": null,
      "data": {},
      "engine_id": 0,
      "engine_uuid": "bd9582ec-69d8337d77fb04f7befb1566",
      "error": null,
      "execute_input": "model_1.evaluate(val_ds)\n",
      "execute_result": {
       "data": {
        "text/plain": "[0.577778697013855, 0.7625093460083008]"
       },
       "execution_count": 14,
       "metadata": {}
      },
      "follow": null,
      "msg_id": null,
      "outputs": [],
      "received": null,
      "started": null,
      "status": null,
      "stderr": "",
      "stdout": "84/84 [==============================] - 11s 130ms/step - loss: 0.5778 - accuracy: 0.7625\n",
      "submitted": "2022-02-26T16:16:31.277072Z"
     },
     "output_type": "display_data"
    },
    {
     "data": {
      "text/plain": [
       "\u001b[0;31mOut[3:14]: \u001b[0m[0.597486674785614, 0.74607914686203]"
      ]
     },
     "metadata": {
      "after": null,
      "completed": null,
      "data": {},
      "engine_id": 3,
      "engine_uuid": "4b8efc0b-c9eb8adc70080a493a145a20",
      "error": null,
      "execute_input": "model_1.evaluate(val_ds)\n",
      "execute_result": {
       "data": {
        "text/plain": "[0.597486674785614, 0.74607914686203]"
       },
       "execution_count": 14,
       "metadata": {}
      },
      "follow": null,
      "msg_id": null,
      "outputs": [],
      "received": null,
      "started": null,
      "status": null,
      "stderr": "",
      "stdout": "84/84 [==============================] - 11s 125ms/step - loss: 0.5975 - accuracy: 0.7461\n",
      "submitted": "2022-02-26T16:16:31.277439Z"
     },
     "output_type": "display_data"
    }
   ],
   "source": [
    "%%px\n",
    "model_1.evaluate(val_ds)"
   ]
  },
  {
   "cell_type": "markdown",
   "metadata": {},
   "source": [
    "# Using multiple cores gaudi accelerators"
   ]
  },
  {
   "cell_type": "code",
   "execution_count": 34,
   "metadata": {},
   "outputs": [],
   "source": [
    "%%px\n",
    "import os\n",
    "import json \n",
    "def train_model():\n",
    "    set_tf_config()\n",
    "    options = tf.data.Options()\n",
    "    options.experimental_distribute.auto_shard_policy = tf.data.experimental.AutoShardPolicy.DATA\n",
    "    options = tf.data.Options()\n",
    "    options.experimental_distribute.auto_shard_policy = tf.data.experimental.AutoShardPolicy.OFF\n",
    "    # Create and compile the distributed CNN model.\n",
    "    model_1 = tf.keras.Model(top,bottom)\n",
    "    model_1.compile(\n",
    "    optimizer=tf.keras.optimizers.Adam(),\n",
    "    loss=tf.keras.losses.SparseCategoricalCrossentropy(),\n",
    "    metrics=['accuracy']\n",
    ")\n",
    "        \n",
    "    # Train the model.\n",
    "    print(\"Calling model.fit()...\")\n",
    "    history_1 = model_1.fit(\n",
    "    train_ds,\n",
    "    validation_data = val_ds,\n",
    "    epochs=200,\n",
    "    callbacks=[early_callback]\n",
    ")\n",
    "    print(\"Calling model.evaluate()...\")\n",
    "    eval_results = model_1.evaluate(val_ds, verbose=2)\n",
    "    print(f\"Evaluation results: {eval_results}\")"
   ]
  },
  {
   "cell_type": "code",
   "execution_count": 35,
   "metadata": {},
   "outputs": [
    {
     "data": {
      "text/plain": [
       "[stdout:0] TF_CONFIG = {\"cluster\": {\"worker\": [\"localhost:7850\", \"localhost:7851\", \"localhost:7852\", \"localhost:7853\", \"localhost:7854\", \"localhost:7855\", \"localhost:7856\", \"localhost:7857\"]}, \"task\": {\"type\": \"worker\", \"index\": 0}}\n",
       "Calling model.fit()...\n",
       "Epoch 1/200\n",
       "335/335 [==============================] - 63s 179ms/step - loss: 0.8135 - accuracy: 0.6892 - val_loss: 0.5961 - val_accuracy: 0.7670\n",
       "Epoch 2/200\n",
       "335/335 [==============================] - 59s 175ms/step - loss: 0.7740 - accuracy: 0.7051 - val_loss: 0.5761 - val_accuracy: 0.7767\n",
       "Epoch 3/200\n",
       "335/335 [==============================] - 53s 158ms/step - loss: 0.7503 - accuracy: 0.7088 - val_loss: 0.5962 - val_accuracy: 0.7692\n",
       "Epoch 4/200\n",
       "335/335 [==============================] - 58s 174ms/step - loss: 0.8147 - accuracy: 0.6954 - val_loss: 0.7154 - val_accuracy: 0.7028\n",
       "Epoch 5/200\n",
       "335/335 [==============================] - 59s 175ms/step - loss: 0.7790 - accuracy: 0.7002 - val_loss: 0.5636 - val_accuracy: 0.7550\n",
       "Epoch 6/200\n",
       "335/335 [==============================] - 48s 143ms/step - loss: 0.7889 - accuracy: 0.7049 - val_loss: 0.5486 - val_accuracy: 0.7603\n",
       "Epoch 7/200\n",
       "335/335 [==============================] - 45s 133ms/step - loss: 0.7365 - accuracy: 0.7196 - val_loss: 0.5983 - val_accuracy: 0.7633\n",
       "Epoch 8/200\n",
       "335/335 [==============================] - 45s 135ms/step - loss: 0.8091 - accuracy: 0.6976 - val_loss: 0.6012 - val_accuracy: 0.7625\n",
       "Epoch 9/200\n",
       "335/335 [==============================] - 38s 115ms/step - loss: 0.7877 - accuracy: 0.7054 - val_loss: 0.5970 - val_accuracy: 0.7647\n",
       "Calling model.evaluate()...\n",
       "84/84 - 6s - loss: 0.5486 - accuracy: 0.7603 - 6s/epoch - 71ms/step\n",
       "Evaluation results: [0.5486468076705933, 0.7602688670158386]\n"
      ]
     },
     "metadata": {},
     "output_type": "display_data"
    },
    {
     "data": {
      "text/plain": [
       "[stdout:7] TF_CONFIG = {\"cluster\": {\"worker\": [\"localhost:7850\", \"localhost:7851\", \"localhost:7852\", \"localhost:7853\", \"localhost:7854\", \"localhost:7855\", \"localhost:7856\", \"localhost:7857\"]}, \"task\": {\"type\": \"worker\", \"index\": 7}}\n",
       "Calling model.fit()...\n",
       "Epoch 1/200\n",
       "335/335 [==============================] - 63s 178ms/step - loss: 0.8118 - accuracy: 0.6952 - val_loss: 0.5839 - val_accuracy: 0.7528\n",
       "Epoch 2/200\n",
       "335/335 [==============================] - 57s 170ms/step - loss: 0.7909 - accuracy: 0.6935 - val_loss: 0.6440 - val_accuracy: 0.7461\n",
       "Epoch 3/200\n",
       "335/335 [==============================] - 49s 146ms/step - loss: 0.8049 - accuracy: 0.6954 - val_loss: 0.6028 - val_accuracy: 0.7655\n",
       "Epoch 4/200\n",
       "335/335 [==============================] - 49s 146ms/step - loss: 0.7956 - accuracy: 0.7011 - val_loss: 0.6228 - val_accuracy: 0.7498\n",
       "Calling model.evaluate()...\n",
       "84/84 - 8s - loss: 0.5839 - accuracy: 0.7528 - 8s/epoch - 91ms/step\n",
       "Evaluation results: [0.5839441418647766, 0.7528005838394165]\n"
      ]
     },
     "metadata": {},
     "output_type": "display_data"
    },
    {
     "data": {
      "text/plain": [
       "[stdout:1] TF_CONFIG = {\"cluster\": {\"worker\": [\"localhost:7850\", \"localhost:7851\", \"localhost:7852\", \"localhost:7853\", \"localhost:7854\", \"localhost:7855\", \"localhost:7856\", \"localhost:7857\"]}, \"task\": {\"type\": \"worker\", \"index\": 1}}\n",
       "Calling model.fit()...\n",
       "Epoch 1/200\n",
       "335/335 [==============================] - 63s 177ms/step - loss: 0.7802 - accuracy: 0.7116 - val_loss: 0.6339 - val_accuracy: 0.7446\n",
       "Epoch 2/200\n",
       "335/335 [==============================] - 57s 171ms/step - loss: 0.7514 - accuracy: 0.7129 - val_loss: 0.7169 - val_accuracy: 0.7102\n",
       "Epoch 3/200\n",
       "335/335 [==============================] - 41s 123ms/step - loss: 0.7797 - accuracy: 0.7069 - val_loss: 0.5482 - val_accuracy: 0.7872\n",
       "Epoch 4/200\n",
       "335/335 [==============================] - 48s 142ms/step - loss: 0.7577 - accuracy: 0.7073 - val_loss: 0.5935 - val_accuracy: 0.7707\n",
       "Epoch 5/200\n",
       "335/335 [==============================] - 24s 73ms/step - loss: 0.7658 - accuracy: 0.7071 - val_loss: 0.5993 - val_accuracy: 0.7506\n",
       "Epoch 6/200\n",
       "335/335 [==============================] - 24s 72ms/step - loss: 0.7509 - accuracy: 0.7069 - val_loss: 0.6071 - val_accuracy: 0.7565\n",
       "Calling model.evaluate()...\n",
       "84/84 - 4s - loss: 0.5482 - accuracy: 0.7872 - 4s/epoch - 52ms/step\n",
       "Evaluation results: [0.548214852809906, 0.7871546149253845]\n"
      ]
     },
     "metadata": {},
     "output_type": "display_data"
    },
    {
     "data": {
      "text/plain": [
       "[stdout:3] TF_CONFIG = {\"cluster\": {\"worker\": [\"localhost:7850\", \"localhost:7851\", \"localhost:7852\", \"localhost:7853\", \"localhost:7854\", \"localhost:7855\", \"localhost:7856\", \"localhost:7857\"]}, \"task\": {\"type\": \"worker\", \"index\": 3}}\n",
       "Calling model.fit()...\n",
       "Epoch 1/200\n",
       "335/335 [==============================] - 61s 173ms/step - loss: 0.7571 - accuracy: 0.7062 - val_loss: 0.5660 - val_accuracy: 0.7737\n",
       "Epoch 2/200\n",
       "335/335 [==============================] - 57s 171ms/step - loss: 0.7585 - accuracy: 0.7086 - val_loss: 0.6285 - val_accuracy: 0.7565\n",
       "Epoch 3/200\n",
       "335/335 [==============================] - 49s 146ms/step - loss: 0.7496 - accuracy: 0.7122 - val_loss: 0.5990 - val_accuracy: 0.7760\n",
       "Epoch 4/200\n",
       "335/335 [==============================] - 48s 144ms/step - loss: 0.7670 - accuracy: 0.7084 - val_loss: 0.6468 - val_accuracy: 0.7535\n",
       "Calling model.evaluate()...\n",
       "84/84 - 8s - loss: 0.5660 - accuracy: 0.7737 - 8s/epoch - 98ms/step\n",
       "Evaluation results: [0.5660067796707153, 0.7737117409706116]\n"
      ]
     },
     "metadata": {},
     "output_type": "display_data"
    },
    {
     "data": {
      "text/plain": [
       "[stdout:6] TF_CONFIG = {\"cluster\": {\"worker\": [\"localhost:7850\", \"localhost:7851\", \"localhost:7852\", \"localhost:7853\", \"localhost:7854\", \"localhost:7855\", \"localhost:7856\", \"localhost:7857\"]}, \"task\": {\"type\": \"worker\", \"index\": 6}}\n",
       "Calling model.fit()...\n",
       "Epoch 1/200\n",
       "335/335 [==============================] - 62s 175ms/step - loss: 0.8120 - accuracy: 0.6840 - val_loss: 0.7136 - val_accuracy: 0.7028\n",
       "Epoch 2/200\n",
       "335/335 [==============================] - 58s 173ms/step - loss: 0.8114 - accuracy: 0.6940 - val_loss: 0.5857 - val_accuracy: 0.7715\n",
       "Epoch 3/200\n",
       "335/335 [==============================] - 58s 172ms/step - loss: 0.7715 - accuracy: 0.7032 - val_loss: 0.6263 - val_accuracy: 0.7341\n",
       "Epoch 4/200\n",
       "335/335 [==============================] - 57s 171ms/step - loss: 0.7804 - accuracy: 0.7049 - val_loss: 0.6336 - val_accuracy: 0.7423\n",
       "Epoch 5/200\n",
       "335/335 [==============================] - 54s 163ms/step - loss: 0.7096 - accuracy: 0.7176 - val_loss: 0.5653 - val_accuracy: 0.7677\n",
       "Epoch 6/200\n",
       "335/335 [==============================] - 44s 131ms/step - loss: 0.7814 - accuracy: 0.7043 - val_loss: 0.6978 - val_accuracy: 0.7177\n",
       "Epoch 7/200\n",
       "335/335 [==============================] - 43s 130ms/step - loss: 0.7618 - accuracy: 0.7041 - val_loss: 0.6136 - val_accuracy: 0.7364\n",
       "Epoch 8/200\n",
       "335/335 [==============================] - 43s 129ms/step - loss: 0.7622 - accuracy: 0.7103 - val_loss: 0.7468 - val_accuracy: 0.6856\n",
       "Calling model.evaluate()...\n",
       "84/84 - 8s - loss: 0.5653 - accuracy: 0.7677 - 8s/epoch - 91ms/step\n",
       "Evaluation results: [0.5653393268585205, 0.767737090587616]\n"
      ]
     },
     "metadata": {},
     "output_type": "display_data"
    },
    {
     "data": {
      "text/plain": [
       "[stdout:2] TF_CONFIG = {\"cluster\": {\"worker\": [\"localhost:7850\", \"localhost:7851\", \"localhost:7852\", \"localhost:7853\", \"localhost:7854\", \"localhost:7855\", \"localhost:7856\", \"localhost:7857\"]}, \"task\": {\"type\": \"worker\", \"index\": 2}}\n",
       "Calling model.fit()...\n",
       "Epoch 1/200\n",
       "335/335 [==============================] - 61s 172ms/step - loss: 0.8165 - accuracy: 0.6959 - val_loss: 0.5917 - val_accuracy: 0.7662\n",
       "Epoch 2/200\n",
       "335/335 [==============================] - 57s 171ms/step - loss: 0.7626 - accuracy: 0.7105 - val_loss: 0.6237 - val_accuracy: 0.7543\n",
       "Epoch 3/200\n",
       "335/335 [==============================] - 50s 150ms/step - loss: 0.7599 - accuracy: 0.7073 - val_loss: 0.5738 - val_accuracy: 0.7618\n",
       "Epoch 4/200\n",
       "335/335 [==============================] - 58s 172ms/step - loss: 0.7790 - accuracy: 0.7024 - val_loss: 0.5675 - val_accuracy: 0.7625\n",
       "Epoch 5/200\n",
       "335/335 [==============================] - 57s 170ms/step - loss: 0.7760 - accuracy: 0.7086 - val_loss: 0.6304 - val_accuracy: 0.7647\n",
       "Epoch 6/200\n",
       "335/335 [==============================] - 49s 146ms/step - loss: 0.8028 - accuracy: 0.7019 - val_loss: 0.5561 - val_accuracy: 0.7730\n",
       "Epoch 7/200\n",
       "335/335 [==============================] - 43s 130ms/step - loss: 0.8179 - accuracy: 0.6927 - val_loss: 0.5793 - val_accuracy: 0.7722\n",
       "Epoch 8/200\n",
       "335/335 [==============================] - 44s 131ms/step - loss: 0.7532 - accuracy: 0.7157 - val_loss: 0.5557 - val_accuracy: 0.7700\n",
       "Epoch 9/200\n",
       "335/335 [==============================] - 41s 121ms/step - loss: 0.7434 - accuracy: 0.7178 - val_loss: 0.5838 - val_accuracy: 0.7633\n",
       "Epoch 10/200\n",
       "335/335 [==============================] - 27s 81ms/step - loss: 0.7388 - accuracy: 0.7103 - val_loss: 0.5659 - val_accuracy: 0.7558\n",
       "Epoch 11/200\n",
       "335/335 [==============================] - 23s 68ms/step - loss: 0.7352 - accuracy: 0.7178 - val_loss: 0.7010 - val_accuracy: 0.7170\n",
       "Calling model.evaluate()...\n",
       "84/84 - 4s - loss: 0.5557 - accuracy: 0.7700 - 4s/epoch - 49ms/step\n",
       "Evaluation results: [0.5556743144989014, 0.7699775695800781]\n"
      ]
     },
     "metadata": {},
     "output_type": "display_data"
    },
    {
     "data": {
      "text/plain": [
       "[stdout:4] TF_CONFIG = {\"cluster\": {\"worker\": [\"localhost:7850\", \"localhost:7851\", \"localhost:7852\", \"localhost:7853\", \"localhost:7854\", \"localhost:7855\", \"localhost:7856\", \"localhost:7857\"]}, \"task\": {\"type\": \"worker\", \"index\": 4}}\n",
       "Calling model.fit()...\n",
       "Epoch 1/200\n",
       "335/335 [==============================] - 64s 180ms/step - loss: 0.7970 - accuracy: 0.6991 - val_loss: 0.5801 - val_accuracy: 0.7707\n",
       "Epoch 2/200\n",
       "335/335 [==============================] - 58s 173ms/step - loss: 0.7657 - accuracy: 0.6965 - val_loss: 0.5575 - val_accuracy: 0.7677\n",
       "Epoch 3/200\n",
       "335/335 [==============================] - 53s 157ms/step - loss: 0.7977 - accuracy: 0.7032 - val_loss: 0.5677 - val_accuracy: 0.7535\n",
       "Epoch 4/200\n",
       "335/335 [==============================] - 59s 176ms/step - loss: 0.7462 - accuracy: 0.7112 - val_loss: 0.5702 - val_accuracy: 0.7722\n",
       "Epoch 5/200\n",
       "335/335 [==============================] - 58s 173ms/step - loss: 0.7951 - accuracy: 0.7017 - val_loss: 0.5894 - val_accuracy: 0.7573\n",
       "Calling model.evaluate()...\n",
       "84/84 - 11s - loss: 0.5575 - accuracy: 0.7677 - 11s/epoch - 126ms/step\n",
       "Evaluation results: [0.5574930906295776, 0.767737090587616]\n"
      ]
     },
     "metadata": {},
     "output_type": "display_data"
    },
    {
     "data": {
      "text/plain": [
       "[stdout:5] TF_CONFIG = {\"cluster\": {\"worker\": [\"localhost:7850\", \"localhost:7851\", \"localhost:7852\", \"localhost:7853\", \"localhost:7854\", \"localhost:7855\", \"localhost:7856\", \"localhost:7857\"]}, \"task\": {\"type\": \"worker\", \"index\": 5}}\n",
       "Calling model.fit()...\n",
       "Epoch 1/200\n",
       "335/335 [==============================] - 61s 172ms/step - loss: 0.7852 - accuracy: 0.7060 - val_loss: 0.5806 - val_accuracy: 0.7640\n",
       "Epoch 2/200\n",
       "335/335 [==============================] - 57s 171ms/step - loss: 0.7678 - accuracy: 0.7079 - val_loss: 0.6229 - val_accuracy: 0.7521\n",
       "Epoch 3/200\n",
       "335/335 [==============================] - 40s 119ms/step - loss: 0.7772 - accuracy: 0.6993 - val_loss: 0.7239 - val_accuracy: 0.7043\n",
       "Epoch 4/200\n",
       "335/335 [==============================] - 46s 137ms/step - loss: 0.7482 - accuracy: 0.7131 - val_loss: 0.6360 - val_accuracy: 0.7468\n",
       "Calling model.evaluate()...\n",
       "84/84 - 10s - loss: 0.5806 - accuracy: 0.7640 - 10s/epoch - 124ms/step\n",
       "Evaluation results: [0.5805648565292358, 0.7640029788017273]\n"
      ]
     },
     "metadata": {},
     "output_type": "display_data"
    },
    {
     "data": {
      "application/vnd.jupyter.widget-view+json": {
       "model_id": "75bc51f6ca9b468193503323a192fd0e",
       "version_major": 2,
       "version_minor": 0
      },
      "text/plain": [
       "%px:   0%|          | 0/8 [00:00<?, ?tasks/s]"
      ]
     },
     "metadata": {},
     "output_type": "display_data"
    }
   ],
   "source": [
    "%%px\n",
    "train_model()"
   ]
  },
  {
   "cell_type": "code",
   "execution_count": 36,
   "metadata": {},
   "outputs": [
    {
     "data": {
      "application/vnd.jupyter.widget-view+json": {
       "model_id": "00e1993483004750b75891f911a35dde",
       "version_major": 2,
       "version_minor": 0
      },
      "text/plain": [
       "%px:   0%|          | 0/8 [00:00<?, ?tasks/s]"
      ]
     },
     "metadata": {},
     "output_type": "display_data"
    },
    {
     "data": {
      "text/plain": [
       "[stdout:6] 84/84 - 10s - loss: 0.5653 - accuracy: 0.7677 - 10s/epoch - 123ms/step\n"
      ]
     },
     "metadata": {},
     "output_type": "display_data"
    },
    {
     "data": {
      "text/plain": [
       "[stdout:0] 84/84 - 10s - loss: 0.5486 - accuracy: 0.7603 - 10s/epoch - 124ms/step\n"
      ]
     },
     "metadata": {},
     "output_type": "display_data"
    },
    {
     "data": {
      "text/plain": [
       "[stdout:5] 84/84 - 11s - loss: 0.5806 - accuracy: 0.7640 - 11s/epoch - 125ms/step\n"
      ]
     },
     "metadata": {},
     "output_type": "display_data"
    },
    {
     "data": {
      "text/plain": [
       "[stdout:3] 84/84 - 11s - loss: 0.5660 - accuracy: 0.7737 - 11s/epoch - 125ms/step\n"
      ]
     },
     "metadata": {},
     "output_type": "display_data"
    },
    {
     "data": {
      "text/plain": [
       "[stdout:7] 84/84 - 11s - loss: 0.5839 - accuracy: 0.7528 - 11s/epoch - 126ms/step\n"
      ]
     },
     "metadata": {},
     "output_type": "display_data"
    },
    {
     "data": {
      "text/plain": [
       "[stdout:1] 84/84 - 11s - loss: 0.5482 - accuracy: 0.7872 - 11s/epoch - 127ms/step\n"
      ]
     },
     "metadata": {},
     "output_type": "display_data"
    },
    {
     "data": {
      "text/plain": [
       "[stdout:2] 84/84 - 11s - loss: 0.5557 - accuracy: 0.7700 - 11s/epoch - 127ms/step\n"
      ]
     },
     "metadata": {},
     "output_type": "display_data"
    },
    {
     "data": {
      "text/plain": [
       "[stdout:4] 84/84 - 11s - loss: 0.5575 - accuracy: 0.7677 - 11s/epoch - 127ms/step\n"
      ]
     },
     "metadata": {},
     "output_type": "display_data"
    }
   ],
   "source": [
    "%%px\n",
    "eval_results = model_1.evaluate(val_ds, verbose=2)"
   ]
  },
  {
   "cell_type": "code",
   "execution_count": 37,
   "metadata": {},
   "outputs": [
    {
     "data": {
      "application/vnd.jupyter.widget-view+json": {
       "model_id": "9ca18c6587ce47ef8f1a431df0b1cad5",
       "version_major": 2,
       "version_minor": 0
      },
      "text/plain": [
       "%px:   0%|          | 0/8 [00:00<?, ?tasks/s]"
      ]
     },
     "metadata": {},
     "output_type": "display_data"
    },
    {
     "data": {
      "text/plain": [
       "[stderr:2] 2022-02-26 16:34:33.418189: W tensorflow/python/util/util.cc:368] Sets are not currently considered sequences, but this may change in the future, so consider avoiding using them.\n",
       "/home/ubuntu/.local/lib/python3.7/site-packages/keras/engine/functional.py:1410: CustomMaskWarning: Custom mask layers require a config and must override get_config. When loading, the custom mask layer must be passed to the custom_objects argument.\n",
       "  layer_config = serialize_layer_fn(layer)\n",
       "/home/ubuntu/.local/lib/python3.7/site-packages/keras/saving/saved_model/layer_serialization.py:112: CustomMaskWarning: Custom mask layers require a config and must override get_config. When loading, the custom mask layer must be passed to the custom_objects argument.\n",
       "  return generic_utils.serialize_keras_object(obj)\n"
      ]
     },
     "metadata": {},
     "output_type": "display_data"
    },
    {
     "data": {
      "text/plain": [
       "[stderr:3] 2022-02-26 16:34:33.458913: W tensorflow/python/util/util.cc:368] Sets are not currently considered sequences, but this may change in the future, so consider avoiding using them.\n",
       "/home/ubuntu/.local/lib/python3.7/site-packages/keras/engine/functional.py:1410: CustomMaskWarning: Custom mask layers require a config and must override get_config. When loading, the custom mask layer must be passed to the custom_objects argument.\n",
       "  layer_config = serialize_layer_fn(layer)\n",
       "/home/ubuntu/.local/lib/python3.7/site-packages/keras/saving/saved_model/layer_serialization.py:112: CustomMaskWarning: Custom mask layers require a config and must override get_config. When loading, the custom mask layer must be passed to the custom_objects argument.\n",
       "  return generic_utils.serialize_keras_object(obj)\n"
      ]
     },
     "metadata": {},
     "output_type": "display_data"
    },
    {
     "data": {
      "text/plain": [
       "[stderr:7] 2022-02-26 16:34:33.548794: W tensorflow/python/util/util.cc:368] Sets are not currently considered sequences, but this may change in the future, so consider avoiding using them.\n",
       "/home/ubuntu/.local/lib/python3.7/site-packages/keras/engine/functional.py:1410: CustomMaskWarning: Custom mask layers require a config and must override get_config. When loading, the custom mask layer must be passed to the custom_objects argument.\n",
       "  layer_config = serialize_layer_fn(layer)\n",
       "/home/ubuntu/.local/lib/python3.7/site-packages/keras/saving/saved_model/layer_serialization.py:112: CustomMaskWarning: Custom mask layers require a config and must override get_config. When loading, the custom mask layer must be passed to the custom_objects argument.\n",
       "  return generic_utils.serialize_keras_object(obj)\n"
      ]
     },
     "metadata": {},
     "output_type": "display_data"
    },
    {
     "data": {
      "text/plain": [
       "[stderr:4] 2022-02-26 16:34:33.587985: W tensorflow/python/util/util.cc:368] Sets are not currently considered sequences, but this may change in the future, so consider avoiding using them.\n",
       "/home/ubuntu/.local/lib/python3.7/site-packages/keras/engine/functional.py:1410: CustomMaskWarning: Custom mask layers require a config and must override get_config. When loading, the custom mask layer must be passed to the custom_objects argument.\n",
       "  layer_config = serialize_layer_fn(layer)\n",
       "/home/ubuntu/.local/lib/python3.7/site-packages/keras/saving/saved_model/layer_serialization.py:112: CustomMaskWarning: Custom mask layers require a config and must override get_config. When loading, the custom mask layer must be passed to the custom_objects argument.\n",
       "  return generic_utils.serialize_keras_object(obj)\n"
      ]
     },
     "metadata": {},
     "output_type": "display_data"
    },
    {
     "data": {
      "text/plain": [
       "[stderr:0] 2022-02-26 16:34:33.584328: W tensorflow/python/util/util.cc:368] Sets are not currently considered sequences, but this may change in the future, so consider avoiding using them.\n",
       "/home/ubuntu/.local/lib/python3.7/site-packages/keras/engine/functional.py:1410: CustomMaskWarning: Custom mask layers require a config and must override get_config. When loading, the custom mask layer must be passed to the custom_objects argument.\n",
       "  layer_config = serialize_layer_fn(layer)\n",
       "/home/ubuntu/.local/lib/python3.7/site-packages/keras/saving/saved_model/layer_serialization.py:112: CustomMaskWarning: Custom mask layers require a config and must override get_config. When loading, the custom mask layer must be passed to the custom_objects argument.\n",
       "  return generic_utils.serialize_keras_object(obj)\n"
      ]
     },
     "metadata": {},
     "output_type": "display_data"
    },
    {
     "data": {
      "text/plain": [
       "[stderr:6] 2022-02-26 16:34:33.593772: W tensorflow/python/util/util.cc:368] Sets are not currently considered sequences, but this may change in the future, so consider avoiding using them.\n",
       "/home/ubuntu/.local/lib/python3.7/site-packages/keras/engine/functional.py:1410: CustomMaskWarning: Custom mask layers require a config and must override get_config. When loading, the custom mask layer must be passed to the custom_objects argument.\n",
       "  layer_config = serialize_layer_fn(layer)\n",
       "/home/ubuntu/.local/lib/python3.7/site-packages/keras/saving/saved_model/layer_serialization.py:112: CustomMaskWarning: Custom mask layers require a config and must override get_config. When loading, the custom mask layer must be passed to the custom_objects argument.\n",
       "  return generic_utils.serialize_keras_object(obj)\n"
      ]
     },
     "metadata": {},
     "output_type": "display_data"
    },
    {
     "data": {
      "text/plain": [
       "[stderr:5] 2022-02-26 16:34:33.605380: W tensorflow/python/util/util.cc:368] Sets are not currently considered sequences, but this may change in the future, so consider avoiding using them.\n",
       "/home/ubuntu/.local/lib/python3.7/site-packages/keras/engine/functional.py:1410: CustomMaskWarning: Custom mask layers require a config and must override get_config. When loading, the custom mask layer must be passed to the custom_objects argument.\n",
       "  layer_config = serialize_layer_fn(layer)\n",
       "/home/ubuntu/.local/lib/python3.7/site-packages/keras/saving/saved_model/layer_serialization.py:112: CustomMaskWarning: Custom mask layers require a config and must override get_config. When loading, the custom mask layer must be passed to the custom_objects argument.\n",
       "  return generic_utils.serialize_keras_object(obj)\n"
      ]
     },
     "metadata": {},
     "output_type": "display_data"
    },
    {
     "data": {
      "text/plain": [
       "[stderr:1] 2022-02-26 16:34:34.130527: W tensorflow/python/util/util.cc:368] Sets are not currently considered sequences, but this may change in the future, so consider avoiding using them.\n",
       "/home/ubuntu/.local/lib/python3.7/site-packages/keras/engine/functional.py:1410: CustomMaskWarning: Custom mask layers require a config and must override get_config. When loading, the custom mask layer must be passed to the custom_objects argument.\n",
       "  layer_config = serialize_layer_fn(layer)\n",
       "/home/ubuntu/.local/lib/python3.7/site-packages/keras/saving/saved_model/layer_serialization.py:112: CustomMaskWarning: Custom mask layers require a config and must override get_config. When loading, the custom mask layer must be passed to the custom_objects argument.\n",
       "  return generic_utils.serialize_keras_object(obj)\n"
      ]
     },
     "metadata": {},
     "output_type": "display_data"
    }
   ],
   "source": [
    "%%px\n",
    "model_1.save(\"model1\")"
   ]
  },
  {
   "cell_type": "code",
   "execution_count": 38,
   "metadata": {},
   "outputs": [
    {
     "data": {
      "text/plain": [
       "\u001b[0;31mOut[6:23]: \u001b[0m[<matplotlib.lines.Line2D at 0x7f6d0852cbd0>]"
      ]
     },
     "metadata": {
      "after": null,
      "completed": null,
      "data": {},
      "engine_id": 6,
      "engine_uuid": "cca2f73e-7f3643a6a7f8add6e2c3cd14",
      "error": null,
      "execute_input": "import matplotlib.pyplot as plt\n\nplt.plot(history_1.history['val_accuracy'])\nplt.plot(history_1.history['accuracy'])\n",
      "execute_result": {
       "data": {
        "text/plain": "[<matplotlib.lines.Line2D at 0x7f6d0852cbd0>]"
       },
       "execution_count": 23,
       "metadata": {}
      },
      "follow": null,
      "msg_id": null,
      "outputs": [],
      "received": null,
      "started": null,
      "status": null,
      "stderr": "",
      "stdout": "",
      "submitted": "2022-02-26T16:34:59.230559Z"
     },
     "output_type": "display_data"
    },
    {
     "data": {
      "text/plain": [
       "\u001b[0;31mOut[1:23]: \u001b[0m[<matplotlib.lines.Line2D at 0x7efde00b4f90>]"
      ]
     },
     "metadata": {
      "after": null,
      "completed": null,
      "data": {},
      "engine_id": 1,
      "engine_uuid": "a0804363-b48634861f62eea4eba26d94",
      "error": null,
      "execute_input": "import matplotlib.pyplot as plt\n\nplt.plot(history_1.history['val_accuracy'])\nplt.plot(history_1.history['accuracy'])\n",
      "execute_result": {
       "data": {
        "text/plain": "[<matplotlib.lines.Line2D at 0x7efde00b4f90>]"
       },
       "execution_count": 23,
       "metadata": {}
      },
      "follow": null,
      "msg_id": null,
      "outputs": [],
      "received": null,
      "started": null,
      "status": null,
      "stderr": "",
      "stdout": "",
      "submitted": "2022-02-26T16:34:59.230227Z"
     },
     "output_type": "display_data"
    },
    {
     "data": {
      "text/plain": [
       "\u001b[0;31mOut[3:23]: \u001b[0m[<matplotlib.lines.Line2D at 0x7f1e538df890>]"
      ]
     },
     "metadata": {
      "after": null,
      "completed": null,
      "data": {},
      "engine_id": 3,
      "engine_uuid": "4b8efc0b-c9eb8adc70080a493a145a20",
      "error": null,
      "execute_input": "import matplotlib.pyplot as plt\n\nplt.plot(history_1.history['val_accuracy'])\nplt.plot(history_1.history['accuracy'])\n",
      "execute_result": {
       "data": {
        "text/plain": "[<matplotlib.lines.Line2D at 0x7f1e538df890>]"
       },
       "execution_count": 23,
       "metadata": {}
      },
      "follow": null,
      "msg_id": null,
      "outputs": [],
      "received": null,
      "started": null,
      "status": null,
      "stderr": "",
      "stdout": "",
      "submitted": "2022-02-26T16:34:59.230384Z"
     },
     "output_type": "display_data"
    },
    {
     "data": {
      "text/plain": [
       "[output:6]"
      ]
     },
     "metadata": {},
     "output_type": "display_data"
    },
    {
     "data": {
      "image/png": "[encoded data removed]",
      "text/plain": [
       "<Figure size 432x288 with 1 Axes>"
      ]
     },
     "metadata": {
      "engine": 6,
      "needs_background": "light"
     },
     "output_type": "display_data"
    },
    {
     "data": {
      "text/plain": [
       "\u001b[0;31mOut[4:23]: \u001b[0m[<matplotlib.lines.Line2D at 0x7f95a02dd510>]"
      ]
     },
     "metadata": {
      "after": null,
      "completed": null,
      "data": {},
      "engine_id": 4,
      "engine_uuid": "f79a63cf-cf3d342472b605acb3aceb67",
      "error": null,
      "execute_input": "import matplotlib.pyplot as plt\n\nplt.plot(history_1.history['val_accuracy'])\nplt.plot(history_1.history['accuracy'])\n",
      "execute_result": {
       "data": {
        "text/plain": "[<matplotlib.lines.Line2D at 0x7f95a02dd510>]"
       },
       "execution_count": 23,
       "metadata": {}
      },
      "follow": null,
      "msg_id": null,
      "outputs": [],
      "received": null,
      "started": null,
      "status": null,
      "stderr": "",
      "stdout": "",
      "submitted": "2022-02-26T16:34:59.230442Z"
     },
     "output_type": "display_data"
    },
    {
     "data": {
      "application/vnd.jupyter.widget-view+json": {
       "model_id": "868eff5074a04298aa7762bdfcce90c9",
       "version_major": 2,
       "version_minor": 0
      },
      "text/plain": [
       "%px:   0%|          | 0/8 [00:00<?, ?tasks/s]"
      ]
     },
     "metadata": {},
     "output_type": "display_data"
    },
    {
     "data": {
      "text/plain": [
       "[output:3]"
      ]
     },
     "metadata": {},
     "output_type": "display_data"
    },
    {
     "data": {
      "image/png": "[encoded data removed]",
      "text/plain": [
       "<Figure size 432x288 with 1 Axes>"
      ]
     },
     "metadata": {
      "engine": 3,
      "needs_background": "light"
     },
     "output_type": "display_data"
    },
    {
     "data": {
      "text/plain": [
       "[output:1]"
      ]
     },
     "metadata": {},
     "output_type": "display_data"
    },
    {
     "data": {
      "image/png": "[encoded data removed]",
      "text/plain": [
       "<Figure size 432x288 with 1 Axes>"
      ]
     },
     "metadata": {
      "engine": 1,
      "needs_background": "light"
     },
     "output_type": "display_data"
    },
    {
     "data": {
      "text/plain": [
       "[output:4]"
      ]
     },
     "metadata": {},
     "output_type": "display_data"
    },
    {
     "data": {
      "image/png": "[encoded data removed]",
      "text/plain": [
       "<Figure size 432x288 with 1 Axes>"
      ]
     },
     "metadata": {
      "engine": 4,
      "needs_background": "light"
     },
     "output_type": "display_data"
    },
    {
     "data": {
      "text/plain": [
       "\u001b[0;31mOut[0:23]: \u001b[0m[<matplotlib.lines.Line2D at 0x7f1f50f44690>]"
      ]
     },
     "metadata": {
      "after": null,
      "completed": null,
      "data": {},
      "engine_id": 0,
      "engine_uuid": "bd9582ec-69d8337d77fb04f7befb1566",
      "error": null,
      "execute_input": "import matplotlib.pyplot as plt\n\nplt.plot(history_1.history['val_accuracy'])\nplt.plot(history_1.history['accuracy'])\n",
      "execute_result": {
       "data": {
        "text/plain": "[<matplotlib.lines.Line2D at 0x7f1f50f44690>]"
       },
       "execution_count": 23,
       "metadata": {}
      },
      "follow": null,
      "msg_id": null,
      "outputs": [],
      "received": null,
      "started": null,
      "status": null,
      "stderr": "",
      "stdout": "",
      "submitted": "2022-02-26T16:34:59.230094Z"
     },
     "output_type": "display_data"
    },
    {
     "data": {
      "text/plain": [
       "\u001b[0;31mOut[5:23]: \u001b[0m[<matplotlib.lines.Line2D at 0x7fe1e07b8710>]"
      ]
     },
     "metadata": {
      "after": null,
      "completed": null,
      "data": {},
      "engine_id": 5,
      "engine_uuid": "38a7dee2-ef02057376c8a23a0af05016",
      "error": null,
      "execute_input": "import matplotlib.pyplot as plt\n\nplt.plot(history_1.history['val_accuracy'])\nplt.plot(history_1.history['accuracy'])\n",
      "execute_result": {
       "data": {
        "text/plain": "[<matplotlib.lines.Line2D at 0x7fe1e07b8710>]"
       },
       "execution_count": 23,
       "metadata": {}
      },
      "follow": null,
      "msg_id": null,
      "outputs": [],
      "received": null,
      "started": null,
      "status": null,
      "stderr": "",
      "stdout": "",
      "submitted": "2022-02-26T16:34:59.230502Z"
     },
     "output_type": "display_data"
    },
    {
     "data": {
      "text/plain": [
       "[output:0]"
      ]
     },
     "metadata": {},
     "output_type": "display_data"
    },
    {
     "data": {
      "image/png": "[encoded data removed]",
      "text/plain": [
       "<Figure size 432x288 with 1 Axes>"
      ]
     },
     "metadata": {
      "engine": 0,
      "needs_background": "light"
     },
     "output_type": "display_data"
    },
    {
     "data": {
      "text/plain": [
       "[output:5]"
      ]
     },
     "metadata": {},
     "output_type": "display_data"
    },
    {
     "data": {
      "image/png": "[encoded data removed]",
      "text/plain": [
       "<Figure size 432x288 with 1 Axes>"
      ]
     },
     "metadata": {
      "engine": 5,
      "needs_background": "light"
     },
     "output_type": "display_data"
    },
    {
     "data": {
      "text/plain": [
       "\u001b[0;31mOut[2:23]: \u001b[0m[<matplotlib.lines.Line2D at 0x7f19d4106390>]"
      ]
     },
     "metadata": {
      "after": null,
      "completed": null,
      "data": {},
      "engine_id": 2,
      "engine_uuid": "2d4485af-9f46ca1eeabb7e81d3e2bb2c",
      "error": null,
      "execute_input": "import matplotlib.pyplot as plt\n\nplt.plot(history_1.history['val_accuracy'])\nplt.plot(history_1.history['accuracy'])\n",
      "execute_result": {
       "data": {
        "text/plain": "[<matplotlib.lines.Line2D at 0x7f19d4106390>]"
       },
       "execution_count": 23,
       "metadata": {}
      },
      "follow": null,
      "msg_id": null,
      "outputs": [],
      "received": null,
      "started": null,
      "status": null,
      "stderr": "",
      "stdout": "",
      "submitted": "2022-02-26T16:34:59.230324Z"
     },
     "output_type": "display_data"
    },
    {
     "data": {
      "text/plain": [
       "\u001b[0;31mOut[7:23]: \u001b[0m[<matplotlib.lines.Line2D at 0x7f3f28349590>]"
      ]
     },
     "metadata": {
      "after": null,
      "completed": null,
      "data": {},
      "engine_id": 7,
      "engine_uuid": "7e69b096-33e8056ed7233ff9c06c09ed",
      "error": null,
      "execute_input": "import matplotlib.pyplot as plt\n\nplt.plot(history_1.history['val_accuracy'])\nplt.plot(history_1.history['accuracy'])\n",
      "execute_result": {
       "data": {
        "text/plain": "[<matplotlib.lines.Line2D at 0x7f3f28349590>]"
       },
       "execution_count": 23,
       "metadata": {}
      },
      "follow": null,
      "msg_id": null,
      "outputs": [],
      "received": null,
      "started": null,
      "status": null,
      "stderr": "",
      "stdout": "",
      "submitted": "2022-02-26T16:34:59.230615Z"
     },
     "output_type": "display_data"
    },
    {
     "data": {
      "text/plain": [
       "[output:2]"
      ]
     },
     "metadata": {},
     "output_type": "display_data"
    },
    {
     "data": {
      "image/png": "[encoded data removed]",
      "text/plain": [
       "<Figure size 432x288 with 1 Axes>"
      ]
     },
     "metadata": {
      "engine": 2,
      "needs_background": "light"
     },
     "output_type": "display_data"
    },
    {
     "data": {
      "text/plain": [
       "[output:7]"
      ]
     },
     "metadata": {},
     "output_type": "display_data"
    },
    {
     "data": {
      "image/png": "[encoded data removed]",
      "text/plain": [
       "<Figure size 432x288 with 1 Axes>"
      ]
     },
     "metadata": {
      "engine": 7,
      "needs_background": "light"
     },
     "output_type": "display_data"
    }
   ],
   "source": [
    "%%px\n",
    "import matplotlib.pyplot as plt\n",
    "\n",
    "plt.plot(history_1.history['val_accuracy'])\n",
    "plt.plot(history_1.history['accuracy'])"
   ]
  },
  {
   "cell_type": "code",
   "execution_count": 39,
   "metadata": {},
   "outputs": [
    {
     "name": "stdout",
     "output_type": "stream",
     "text": [
      "Controller stopped: {'exit_code': 0, 'pid': 84988, 'identifier': 'ipcontroller-1645891304-uh4w-84798'}\n",
      "engine set stopped 1645891305: {'exit_code': 0, 'pid': 85082, 'identifier': 'ipengine-1645891304-uh4w-1645891305-84798'}\n"
     ]
    }
   ],
   "source": [
    "client.shutdown(hub=True)"
   ]
  },
  {
   "cell_type": "code",
   "execution_count": 1,
   "metadata": {},
   "outputs": [
    {
     "name": "stderr",
     "output_type": "stream",
     "text": [
      "2022-02-26 16:35:55.034239: I tensorflow/core/platform/cpu_feature_guard.cc:151] This TensorFlow binary is optimized with oneAPI Deep Neural Network Library (oneDNN) to use the following CPU instructions in performance-critical operations:  AVX512F\n",
      "To enable them in other operations, rebuild TensorFlow with the appropriate compiler flags.\n",
      "2022-02-26 16:36:04.693314: W tensorflow/compiler/mlir/lite/python/tf_tfl_flatbuffer_helpers.cc:363] Ignored output_format.\n",
      "2022-02-26 16:36:04.693355: W tensorflow/compiler/mlir/lite/python/tf_tfl_flatbuffer_helpers.cc:366] Ignored drop_control_dependency.\n",
      "2022-02-26 16:36:04.693363: W tensorflow/compiler/mlir/lite/python/tf_tfl_flatbuffer_helpers.cc:372] Ignored change_concat_input_ranges.\n",
      "2022-02-26 16:36:04.694152: I tensorflow/cc/saved_model/reader.cc:43] Reading SavedModel from: model1\n",
      "2022-02-26 16:36:04.783062: I tensorflow/cc/saved_model/reader.cc:107] Reading meta graph with tags { serve }\n",
      "2022-02-26 16:36:04.783089: I tensorflow/cc/saved_model/reader.cc:148] Reading SavedModel debug info (if present) from: model1\n",
      "2022-02-26 16:36:05.119180: I tensorflow/cc/saved_model/loader.cc:210] Restoring SavedModel bundle.\n",
      "2022-02-26 16:36:05.800918: I tensorflow/cc/saved_model/loader.cc:194] Running initialization op on SavedModel bundle at path: model1\n",
      "2022-02-26 16:36:06.176639: I tensorflow/cc/saved_model/loader.cc:283] SavedModel load for tags { serve }; Status: success: OK. Took 1482489 microseconds.\n",
      "2022-02-26 16:36:06.984510: I tensorflow/compiler/mlir/tensorflow/utils/dump_mlir_util.cc:237] disabling MLIR crash reproducer, set env var `MLIR_CRASH_REPRODUCER_DIRECTORY` to enable.\n",
      "WARNING:absl:Buffer deduplication procedure will be skipped when flatbuffer library is not properly loaded\n"
     ]
    }
   ],
   "source": [
    "import tensorflow as tf\n",
    "\n",
    "# Convert the model\n",
    "converter = tf.lite.TFLiteConverter.from_saved_model('model1') #path to the SavedModel directory\n",
    "tflite_model = converter.convert()\n",
    "\n",
    "# Save the model.\n",
    "\n",
    "with open('model1.tflite', 'wb') as f:\n",
    "  f.write(tflite_model)"
   ]
  },
  {
   "cell_type": "code",
   "execution_count": null,
   "metadata": {},
   "outputs": [],
   "source": []
  }
 ],
 "metadata": {
  "interpreter": {
   "hash": "916dbcbb3f70747c44a77c7bcd40155683ae19c65e1c03b4aa3499c5328201f1"
  },
  "kernelspec": {
   "display_name": "Python 3.8.10 64-bit",
   "language": "python",
   "name": "python3"
  },
  "language_info": {
   "codemirror_mode": {
    "name": "ipython",
    "version": 3
   },
   "file_extension": ".py",
   "mimetype": "text/x-python",
   "name": "python",
   "nbconvert_exporter": "python",
   "pygments_lexer": "ipython3",
   "version": "3.7.5"
  },
  "orig_nbformat": 4
 },
 "nbformat": 4,
 "nbformat_minor": 2
}
