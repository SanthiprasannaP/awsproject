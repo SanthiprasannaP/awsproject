{
 "cells": [
  {
   "cell_type": "code",
   "execution_count": 1,
   "metadata": {},
   "outputs": [
    {
     "data": {
      "text/plain": [
       "['20140911_1315.jpg',\n",
       " '20140325_1020.jpg',\n",
       " '20141103_1640.jpg',\n",
       " '20140613_1445.jpg',\n",
       " '20140322_1620.jpg']"
      ]
     },
     "execution_count": 1,
     "metadata": {},
     "output_type": "execute_result"
    }
   ],
   "source": [
    "import os\n",
    "images = []\n",
    "for dirs, subdirs, files in os.walk('Phoenix1'):\n",
    "    images.append(files)\n",
    "\n",
    "images[0][:5]"
   ]
  },
  {
   "cell_type": "code",
   "execution_count": 2,
   "metadata": {},
   "outputs": [
    {
     "data": {
      "text/plain": [
       "['20140911_1315.jpg',\n",
       " '20140325_1020.jpg',\n",
       " '20141103_1640.jpg',\n",
       " '20140613_1445.jpg',\n",
       " '20140322_1620.jpg']"
      ]
     },
     "execution_count": 2,
     "metadata": {},
     "output_type": "execute_result"
    }
   ],
   "source": [
    "flattened_images_list = [image for images_item in images for image in images_item]\n",
    "flattened_images_list[:5]"
   ]
  },
  {
   "cell_type": "code",
   "execution_count": 3,
   "metadata": {},
   "outputs": [
    {
     "data": {
      "text/plain": [
       "4303"
      ]
     },
     "execution_count": 3,
     "metadata": {},
     "output_type": "execute_result"
    }
   ],
   "source": [
    "len(flattened_images_list)"
   ]
  },
  {
   "cell_type": "code",
   "execution_count": 4,
   "metadata": {},
   "outputs": [],
   "source": [
    "import pandas as pd \n",
    "df = pd.read_csv(\"pm2.csv\")"
   ]
  },
  {
   "cell_type": "code",
   "execution_count": 5,
   "metadata": {},
   "outputs": [
    {
     "data": {
      "text/html": [
       "<div>\n",
       "<style scoped>\n",
       "    .dataframe tbody tr th:only-of-type {\n",
       "        vertical-align: middle;\n",
       "    }\n",
       "\n",
       "    .dataframe tbody tr th {\n",
       "        vertical-align: top;\n",
       "    }\n",
       "\n",
       "    .dataframe thead th {\n",
       "        text-align: right;\n",
       "    }\n",
       "</style>\n",
       "<table border=\"1\" class=\"dataframe\">\n",
       "  <thead>\n",
       "    <tr style=\"text-align: right;\">\n",
       "      <th></th>\n",
       "      <th>date</th>\n",
       "      <th>pm2.5</th>\n",
       "    </tr>\n",
       "  </thead>\n",
       "  <tbody>\n",
       "    <tr>\n",
       "      <th>0</th>\n",
       "      <td>20140101</td>\n",
       "      <td>73</td>\n",
       "    </tr>\n",
       "    <tr>\n",
       "      <th>1</th>\n",
       "      <td>20140102</td>\n",
       "      <td>86</td>\n",
       "    </tr>\n",
       "    <tr>\n",
       "      <th>2</th>\n",
       "      <td>20140103</td>\n",
       "      <td>59</td>\n",
       "    </tr>\n",
       "    <tr>\n",
       "      <th>3</th>\n",
       "      <td>20140104</td>\n",
       "      <td>83</td>\n",
       "    </tr>\n",
       "    <tr>\n",
       "      <th>4</th>\n",
       "      <td>20140105</td>\n",
       "      <td>79</td>\n",
       "    </tr>\n",
       "  </tbody>\n",
       "</table>\n",
       "</div>"
      ],
      "text/plain": [
       "       date  pm2.5\n",
       "0  20140101     73\n",
       "1  20140102     86\n",
       "2  20140103     59\n",
       "3  20140104     83\n",
       "4  20140105     79"
      ]
     },
     "execution_count": 5,
     "metadata": {},
     "output_type": "execute_result"
    }
   ],
   "source": [
    "df.head()"
   ]
  },
  {
   "cell_type": "code",
   "execution_count": 6,
   "metadata": {},
   "outputs": [],
   "source": [
    "from struct import unpack\n",
    "import os\n",
    "\n",
    "\n",
    "marker_mapping = {\n",
    "    0xffd8: \"Start of Image\",\n",
    "    0xffe0: \"Application Default Header\",\n",
    "    0xffdb: \"Quantization Table\",\n",
    "    0xffc0: \"Start of Frame\",\n",
    "    0xffc4: \"Define Huffman Table\",\n",
    "    0xffda: \"Start of Scan\",\n",
    "    0xffd9: \"End of Image\"\n",
    "}\n",
    "\n",
    "\n",
    "class JPEG:\n",
    "    def __init__(self, image_file):\n",
    "        with open(image_file, 'rb') as f:\n",
    "            self.img_data = f.read()\n",
    "    \n",
    "    def decode(self):\n",
    "        data = self.img_data\n",
    "        while(True):\n",
    "            marker, = unpack(\">H\", data[0:2])\n",
    "            # print(marker_mapping.get(marker))\n",
    "            if marker == 0xffd8:\n",
    "                data = data[2:]\n",
    "            elif marker == 0xffd9:\n",
    "                return\n",
    "            elif marker == 0xffda:\n",
    "                data = data[-2:]\n",
    "            else:\n",
    "                lenchunk, = unpack(\">H\", data[2:4])\n",
    "                data = data[2+lenchunk:]            \n",
    "            if len(data)==0:\n",
    "                break        \n",
    "\n",
    "\n",
    "bads = []\n",
    "root_img = 'Phoenix1/'\n",
    "for img in flattened_images_list:\n",
    "    image = os.path.join(root_img,img)\n",
    "    image = JPEG(image) \n",
    "    try:\n",
    "        image.decode()   \n",
    "\n",
    "    except:\n",
    "        bads.append(img)\n",
    "\n",
    "for name in bads:\n",
    "    print(name)\n",
    "    os.remove(os.path.join(root_img,name))"
   ]
  },
  {
   "cell_type": "code",
   "execution_count": 7,
   "metadata": {},
   "outputs": [
    {
     "data": {
      "text/plain": [
       "['20140911_1315.jpg',\n",
       " '20140325_1020.jpg',\n",
       " '20141103_1640.jpg',\n",
       " '20140613_1445.jpg',\n",
       " '20140322_1620.jpg']"
      ]
     },
     "execution_count": 7,
     "metadata": {},
     "output_type": "execute_result"
    }
   ],
   "source": [
    "images = []\n",
    "for dirs, subdirs, files in os.walk('Phoenix1'):\n",
    "    images.append(files)\n",
    "\n",
    "images[0][:5]"
   ]
  },
  {
   "cell_type": "code",
   "execution_count": 8,
   "metadata": {},
   "outputs": [
    {
     "data": {
      "text/plain": [
       "['20140911_1315.jpg',\n",
       " '20140325_1020.jpg',\n",
       " '20141103_1640.jpg',\n",
       " '20140613_1445.jpg',\n",
       " '20140322_1620.jpg']"
      ]
     },
     "execution_count": 8,
     "metadata": {},
     "output_type": "execute_result"
    }
   ],
   "source": [
    "flattened_images_list = [image for images_item in images for image in images_item]\n",
    "flattened_images_list[:5]"
   ]
  },
  {
   "cell_type": "code",
   "execution_count": 9,
   "metadata": {},
   "outputs": [
    {
     "data": {
      "text/plain": [
       "4303"
      ]
     },
     "execution_count": 9,
     "metadata": {},
     "output_type": "execute_result"
    }
   ],
   "source": [
    "len(flattened_images_list)"
   ]
  },
  {
   "cell_type": "code",
   "execution_count": 10,
   "metadata": {},
   "outputs": [],
   "source": [
    "import shutil\n",
    "def copyfile(filename,destination):\n",
    "    shutil.copyfile(filename,destination)"
   ]
  },
  {
   "cell_type": "markdown",
   "metadata": {},
   "source": [
    "for image in flattened_images_list:\n",
    "    date = image[:8]\n",
    "    index_val = df[df['date'] == int(date)].index.values[0]\n",
    "    pm_val = df['pm2.5'][index_val]\n",
    "    print(pm_val)\n",
    "    if pm_val > 54:\n",
    "        filename = 'Phoenix1/'+image\n",
    "        destination = 'dataset/danger/'+image\n",
    "        copyfile(filename,destination)\n",
    "        continue\n",
    "    elif pm_val < 30:\n",
    "        filename = 'Phoenix1/'+image\n",
    "        destination = 'dataset/healthy/'+image\n",
    "        copyfile(filename,destination)\n",
    "        continue\n",
    "    else:\n",
    "        filename = 'Phoenix1/'+image\n",
    "        destination = 'dataset/moderate/'+image\n",
    "        copyfile(filename,destination)\n"
   ]
  },
  {
   "cell_type": "code",
   "execution_count": 11,
   "metadata": {},
   "outputs": [
    {
     "data": {
      "text/plain": [
       "['healthy', 'danger', 'moderate']"
      ]
     },
     "execution_count": 11,
     "metadata": {},
     "output_type": "execute_result"
    }
   ],
   "source": [
    "class_names = []\n",
    "for dirs, subdirs,files in os.walk('dataset'):\n",
    "    class_names.append(subdirs)\n",
    "class_names = [item for sublist in class_names for item in sublist]\n",
    "class_names"
   ]
  },
  {
   "cell_type": "code",
   "execution_count": 12,
   "metadata": {},
   "outputs": [
    {
     "name": "stdout",
     "output_type": "stream",
     "text": [
      "healthy\n",
      "2232\n",
      "danger\n",
      "2232\n",
      "moderate\n",
      "2232\n"
     ]
    }
   ],
   "source": [
    "for dir in os.listdir('dataset'):\n",
    "    print(dir)\n",
    "    print(len(os.listdir('dataset/'+dir)))"
   ]
  },
  {
   "cell_type": "code",
   "execution_count": 13,
   "metadata": {},
   "outputs": [],
   "source": [
    "import tensorflow as tf "
   ]
  },
  {
   "cell_type": "code",
   "execution_count": 14,
   "metadata": {},
   "outputs": [],
   "source": [
    "import habana_frameworks.tensorflow as htf\n",
    "htf.load_habana_module()"
   ]
  },
  {
   "cell_type": "code",
   "execution_count": 15,
   "metadata": {},
   "outputs": [
    {
     "name": "stdout",
     "output_type": "stream",
     "text": [
      "Starting 8 engines with <class 'ipyparallel.cluster.launcher.MPIEngineSetLauncher'>\n"
     ]
    },
    {
     "data": {
      "application/vnd.jupyter.widget-view+json": {
       "model_id": "5b63c7b4457d4bfaa2abfdc0809899b1",
       "version_major": 2,
       "version_minor": 0
      },
      "text/plain": [
       "  0%|          | 0/8 [00:00<?, ?engine/s]"
      ]
     },
     "metadata": {},
     "output_type": "display_data"
    }
   ],
   "source": [
    "import ipyparallel as ipp\n",
    "import os\n",
    "os.environ[\"OMPI_ALLOW_RUN_AS_ROOT\"] = \"1\"\n",
    "os.environ[\"OMPI_ALLOW_RUN_AS_ROOT_CONFIRM\"] = \"1\"\n",
    "\n",
    "n_hpu=8\n",
    "cluster = ipp.Cluster(engines='mpi', n=n_hpu)\n",
    "client = cluster.start_and_connect_sync()"
   ]
  },
  {
   "cell_type": "code",
   "execution_count": 16,
   "metadata": {},
   "outputs": [],
   "source": [
    "%%px\n",
    "import tensorflow as tf\n"
   ]
  },
  {
   "cell_type": "code",
   "execution_count": 17,
   "metadata": {},
   "outputs": [],
   "source": [
    "%%px\n",
    "batch_size = 16\n",
    "img_height = 180\n",
    "img_width = 180\n",
    "data_dir = 'dataset/'"
   ]
  },
  {
   "cell_type": "code",
   "execution_count": 18,
   "metadata": {},
   "outputs": [
    {
     "data": {
      "text/plain": [
       "[stdout:3] Found 6696 files belonging to 3 classes.\n",
       "Using 5357 files for training.\n"
      ]
     },
     "metadata": {},
     "output_type": "display_data"
    },
    {
     "data": {
      "text/plain": [
       "[stdout:1] Found 6696 files belonging to 3 classes.\n",
       "Using 5357 files for training.\n"
      ]
     },
     "metadata": {},
     "output_type": "display_data"
    },
    {
     "data": {
      "text/plain": [
       "[stderr:3] 2022-02-26 14:11:39.256955: I tensorflow/core/platform/cpu_feature_guard.cc:151] This TensorFlow binary is optimized with oneAPI Deep Neural Network Library (oneDNN) to use the following CPU instructions in performance-critical operations:  AVX512F\n",
       "To enable them in other operations, rebuild TensorFlow with the appropriate compiler flags.\n"
      ]
     },
     "metadata": {},
     "output_type": "display_data"
    },
    {
     "data": {
      "text/plain": [
       "[stderr:1] 2022-02-26 14:11:39.257423: I tensorflow/core/platform/cpu_feature_guard.cc:151] This TensorFlow binary is optimized with oneAPI Deep Neural Network Library (oneDNN) to use the following CPU instructions in performance-critical operations:  AVX512F\n",
       "To enable them in other operations, rebuild TensorFlow with the appropriate compiler flags.\n"
      ]
     },
     "metadata": {},
     "output_type": "display_data"
    },
    {
     "data": {
      "text/plain": [
       "[stdout:5] Found 6696 files belonging to 3 classes.\n",
       "Using 5357 files for training.\n"
      ]
     },
     "metadata": {},
     "output_type": "display_data"
    },
    {
     "data": {
      "text/plain": [
       "[stdout:0] Found 6696 files belonging to 3 classes.\n",
       "Using 5357 files for training.\n"
      ]
     },
     "metadata": {},
     "output_type": "display_data"
    },
    {
     "data": {
      "text/plain": [
       "[stdout:4] Found 6696 files belonging to 3 classes.\n",
       "Using 5357 files for training.\n"
      ]
     },
     "metadata": {},
     "output_type": "display_data"
    },
    {
     "data": {
      "text/plain": [
       "[stderr:5] 2022-02-26 14:11:39.257884: I tensorflow/core/platform/cpu_feature_guard.cc:151] This TensorFlow binary is optimized with oneAPI Deep Neural Network Library (oneDNN) to use the following CPU instructions in performance-critical operations:  AVX512F\n",
       "To enable them in other operations, rebuild TensorFlow with the appropriate compiler flags.\n"
      ]
     },
     "metadata": {},
     "output_type": "display_data"
    },
    {
     "data": {
      "text/plain": [
       "[stderr:0] 2022-02-26 14:11:39.257994: I tensorflow/core/platform/cpu_feature_guard.cc:151] This TensorFlow binary is optimized with oneAPI Deep Neural Network Library (oneDNN) to use the following CPU instructions in performance-critical operations:  AVX512F\n",
       "To enable them in other operations, rebuild TensorFlow with the appropriate compiler flags.\n"
      ]
     },
     "metadata": {},
     "output_type": "display_data"
    },
    {
     "data": {
      "text/plain": [
       "[stderr:4] 2022-02-26 14:11:39.257577: I tensorflow/core/platform/cpu_feature_guard.cc:151] This TensorFlow binary is optimized with oneAPI Deep Neural Network Library (oneDNN) to use the following CPU instructions in performance-critical operations:  AVX512F\n",
       "To enable them in other operations, rebuild TensorFlow with the appropriate compiler flags.\n"
      ]
     },
     "metadata": {},
     "output_type": "display_data"
    },
    {
     "data": {
      "text/plain": [
       "[stdout:6] Found 6696 files belonging to 3 classes.\n",
       "Using 5357 files for training.\n"
      ]
     },
     "metadata": {},
     "output_type": "display_data"
    },
    {
     "data": {
      "text/plain": [
       "[stderr:6] 2022-02-26 14:11:39.258237: I tensorflow/core/platform/cpu_feature_guard.cc:151] This TensorFlow binary is optimized with oneAPI Deep Neural Network Library (oneDNN) to use the following CPU instructions in performance-critical operations:  AVX512F\n",
       "To enable them in other operations, rebuild TensorFlow with the appropriate compiler flags.\n"
      ]
     },
     "metadata": {},
     "output_type": "display_data"
    },
    {
     "data": {
      "text/plain": [
       "[stdout:2] Found 6696 files belonging to 3 classes.\n",
       "Using 5357 files for training.\n"
      ]
     },
     "metadata": {},
     "output_type": "display_data"
    },
    {
     "data": {
      "text/plain": [
       "[stderr:2] 2022-02-26 14:11:39.264815: I tensorflow/core/platform/cpu_feature_guard.cc:151] This TensorFlow binary is optimized with oneAPI Deep Neural Network Library (oneDNN) to use the following CPU instructions in performance-critical operations:  AVX512F\n",
       "To enable them in other operations, rebuild TensorFlow with the appropriate compiler flags.\n"
      ]
     },
     "metadata": {},
     "output_type": "display_data"
    },
    {
     "data": {
      "text/plain": [
       "[stdout:7] Found 6696 files belonging to 3 classes.\n",
       "Using 5357 files for training.\n"
      ]
     },
     "metadata": {},
     "output_type": "display_data"
    },
    {
     "data": {
      "text/plain": [
       "[stderr:7] 2022-02-26 14:11:39.270261: I tensorflow/core/platform/cpu_feature_guard.cc:151] This TensorFlow binary is optimized with oneAPI Deep Neural Network Library (oneDNN) to use the following CPU instructions in performance-critical operations:  AVX512F\n",
       "To enable them in other operations, rebuild TensorFlow with the appropriate compiler flags.\n"
      ]
     },
     "metadata": {},
     "output_type": "display_data"
    }
   ],
   "source": [
    "%%px\n",
    "train_ds = tf.keras.utils.image_dataset_from_directory(\n",
    "    data_dir,\n",
    "    validation_split = 0.2,\n",
    "    subset = 'training',\n",
    "    seed = 42,\n",
    "    image_size = (img_height,img_width),\n",
    "    batch_size=batch_size\n",
    ")"
   ]
  },
  {
   "cell_type": "code",
   "execution_count": 19,
   "metadata": {},
   "outputs": [
    {
     "data": {
      "text/plain": [
       "[stdout:4] Found 6696 files belonging to 3 classes.\n",
       "Using 1339 files for validation.\n"
      ]
     },
     "metadata": {},
     "output_type": "display_data"
    },
    {
     "data": {
      "text/plain": [
       "[stdout:6] Found 6696 files belonging to 3 classes.\n",
       "Using 1339 files for validation.\n"
      ]
     },
     "metadata": {},
     "output_type": "display_data"
    },
    {
     "data": {
      "text/plain": [
       "[stdout:5] Found 6696 files belonging to 3 classes.\n",
       "Using 1339 files for validation.\n"
      ]
     },
     "metadata": {},
     "output_type": "display_data"
    },
    {
     "data": {
      "text/plain": [
       "[stdout:7] Found 6696 files belonging to 3 classes.\n",
       "Using 1339 files for validation.\n"
      ]
     },
     "metadata": {},
     "output_type": "display_data"
    },
    {
     "data": {
      "text/plain": [
       "[stdout:2] Found 6696 files belonging to 3 classes.\n",
       "Using 1339 files for validation.\n"
      ]
     },
     "metadata": {},
     "output_type": "display_data"
    },
    {
     "data": {
      "text/plain": [
       "[stdout:1] Found 6696 files belonging to 3 classes.\n",
       "Using 1339 files for validation.\n"
      ]
     },
     "metadata": {},
     "output_type": "display_data"
    },
    {
     "data": {
      "text/plain": [
       "[stdout:3] Found 6696 files belonging to 3 classes.\n",
       "Using 1339 files for validation.\n"
      ]
     },
     "metadata": {},
     "output_type": "display_data"
    },
    {
     "data": {
      "text/plain": [
       "[stdout:0] Found 6696 files belonging to 3 classes.\n",
       "Using 1339 files for validation.\n"
      ]
     },
     "metadata": {},
     "output_type": "display_data"
    }
   ],
   "source": [
    "%%px\n",
    "val_ds = tf.keras.utils.image_dataset_from_directory(\n",
    "    data_dir,\n",
    "    validation_split = 0.2,\n",
    "    subset = 'validation',\n",
    "    seed = 42,\n",
    "    image_size = (img_height,img_width),\n",
    "    batch_size=batch_size\n",
    ")"
   ]
  },
  {
   "cell_type": "code",
   "execution_count": 20,
   "metadata": {},
   "outputs": [],
   "source": [
    "%%px\n",
    "AUTOTUNE = tf.data.AUTOTUNE\n",
    "\n",
    "train_ds = train_ds.cache().prefetch(buffer_size=AUTOTUNE)\n",
    "val_ds = val_ds.cache().prefetch(buffer_size=AUTOTUNE)"
   ]
  },
  {
   "cell_type": "code",
   "execution_count": 21,
   "metadata": {},
   "outputs": [],
   "source": [
    "%%px\n",
    "base_model = tf.keras.applications.efficientnet.EfficientNetB0(\n",
    "    include_top=False, weights='imagenet',\n",
    ")"
   ]
  },
  {
   "cell_type": "code",
   "execution_count": 22,
   "metadata": {},
   "outputs": [],
   "source": [
    "%%px\n",
    "base_model.trainable = False\n",
    "for layer in base_model.layers[-100:]:\n",
    "    layer.trainable = True"
   ]
  },
  {
   "cell_type": "code",
   "execution_count": 23,
   "metadata": {},
   "outputs": [],
   "source": [
    "%%px\n",
    "#create model\n",
    "\n",
    "top = tf.keras.layers.Input(shape=(img_height,img_width,3))\n",
    "x = base_model(top)\n",
    "x = tf.keras.layers.GlobalMaxPooling2D()(x)\n",
    "bottom = tf.keras.layers.Dense(3,activation='softmax')(x)\n",
    "\n",
    "model_1 = tf.keras.Model(top,bottom)"
   ]
  },
  {
   "cell_type": "code",
   "execution_count": 24,
   "metadata": {},
   "outputs": [
    {
     "data": {
      "text/plain": [
       "[stdout:0] Model: \"model\"\n",
       "_________________________________________________________________\n",
       " Layer (type)                Output Shape              Param #   \n",
       "=================================================================\n",
       " input_2 (InputLayer)        [(None, 180, 180, 3)]     0         \n",
       "                                                                 \n",
       " efficientnetb0 (Functional)  (None, None, None, 1280)  4049571  \n",
       "                                                                 \n",
       " global_max_pooling2d (Globa  (None, 1280)             0         \n",
       " lMaxPooling2D)                                                  \n",
       "                                                                 \n",
       " dense (Dense)               (None, 3)                 3843      \n",
       "                                                                 \n",
       "=================================================================\n",
       "Total params: 4,053,414\n",
       "Trainable params: 3,843\n",
       "Non-trainable params: 4,049,571\n",
       "_________________________________________________________________\n"
      ]
     },
     "metadata": {},
     "output_type": "display_data"
    },
    {
     "data": {
      "text/plain": [
       "[stdout:4] Model: \"model\"\n",
       "_________________________________________________________________\n",
       " Layer (type)                Output Shape              Param #   \n",
       "=================================================================\n",
       " input_2 (InputLayer)        [(None, 180, 180, 3)]     0         \n",
       "                                                                 \n",
       " efficientnetb0 (Functional)  (None, None, None, 1280)  4049571  \n",
       "                                                                 \n",
       " global_max_pooling2d (Globa  (None, 1280)             0         \n",
       " lMaxPooling2D)                                                  \n",
       "                                                                 \n",
       " dense (Dense)               (None, 3)                 3843      \n",
       "                                                                 \n",
       "=================================================================\n",
       "Total params: 4,053,414\n",
       "Trainable params: 3,843\n",
       "Non-trainable params: 4,049,571\n",
       "_________________________________________________________________\n"
      ]
     },
     "metadata": {},
     "output_type": "display_data"
    },
    {
     "data": {
      "text/plain": [
       "[stdout:2] Model: \"model\"\n",
       "_________________________________________________________________\n",
       " Layer (type)                Output Shape              Param #   \n",
       "=================================================================\n",
       " input_2 (InputLayer)        [(None, 180, 180, 3)]     0         \n",
       "                                                                 \n",
       " efficientnetb0 (Functional)  (None, None, None, 1280)  4049571  \n",
       "                                                                 \n",
       " global_max_pooling2d (Globa  (None, 1280)             0         \n",
       " lMaxPooling2D)                                                  \n",
       "                                                                 \n",
       " dense (Dense)               (None, 3)                 3843      \n",
       "                                                                 \n",
       "=================================================================\n",
       "Total params: 4,053,414\n",
       "Trainable params: 3,843\n",
       "Non-trainable params: 4,049,571\n",
       "_________________________________________________________________\n"
      ]
     },
     "metadata": {},
     "output_type": "display_data"
    },
    {
     "data": {
      "text/plain": [
       "[stdout:1] Model: \"model\"\n",
       "_________________________________________________________________\n",
       " Layer (type)                Output Shape              Param #   \n",
       "=================================================================\n",
       " input_2 (InputLayer)        [(None, 180, 180, 3)]     0         \n",
       "                                                                 \n",
       " efficientnetb0 (Functional)  (None, None, None, 1280)  4049571  \n",
       "                                                                 \n",
       " global_max_pooling2d (Globa  (None, 1280)             0         \n",
       " lMaxPooling2D)                                                  \n",
       "                                                                 \n",
       " dense (Dense)               (None, 3)                 3843      \n",
       "                                                                 \n",
       "=================================================================\n",
       "Total params: 4,053,414\n",
       "Trainable params: 3,843\n",
       "Non-trainable params: 4,049,571\n",
       "_________________________________________________________________\n"
      ]
     },
     "metadata": {},
     "output_type": "display_data"
    },
    {
     "data": {
      "text/plain": [
       "[stdout:6] Model: \"model\"\n",
       "_________________________________________________________________\n",
       " Layer (type)                Output Shape              Param #   \n",
       "=================================================================\n",
       " input_2 (InputLayer)        [(None, 180, 180, 3)]     0         \n",
       "                                                                 \n",
       " efficientnetb0 (Functional)  (None, None, None, 1280)  4049571  \n",
       "                                                                 \n",
       " global_max_pooling2d (Globa  (None, 1280)             0         \n",
       " lMaxPooling2D)                                                  \n",
       "                                                                 \n",
       " dense (Dense)               (None, 3)                 3843      \n",
       "                                                                 \n",
       "=================================================================\n",
       "Total params: 4,053,414\n",
       "Trainable params: 3,843\n",
       "Non-trainable params: 4,049,571\n",
       "_________________________________________________________________\n"
      ]
     },
     "metadata": {},
     "output_type": "display_data"
    },
    {
     "data": {
      "text/plain": [
       "[stdout:3] Model: \"model\"\n",
       "_________________________________________________________________\n",
       " Layer (type)                Output Shape              Param #   \n",
       "=================================================================\n",
       " input_2 (InputLayer)        [(None, 180, 180, 3)]     0         \n",
       "                                                                 \n",
       " efficientnetb0 (Functional)  (None, None, None, 1280)  4049571  \n",
       "                                                                 \n",
       " global_max_pooling2d (Globa  (None, 1280)             0         \n",
       " lMaxPooling2D)                                                  \n",
       "                                                                 \n",
       " dense (Dense)               (None, 3)                 3843      \n",
       "                                                                 \n",
       "=================================================================\n",
       "Total params: 4,053,414\n",
       "Trainable params: 3,843\n",
       "Non-trainable params: 4,049,571\n",
       "_________________________________________________________________\n"
      ]
     },
     "metadata": {},
     "output_type": "display_data"
    },
    {
     "data": {
      "text/plain": [
       "[stdout:7] Model: \"model\"\n",
       "_________________________________________________________________\n",
       " Layer (type)                Output Shape              Param #   \n",
       "=================================================================\n",
       " input_2 (InputLayer)        [(None, 180, 180, 3)]     0         \n",
       "                                                                 \n",
       " efficientnetb0 (Functional)  (None, None, None, 1280)  4049571  \n",
       "                                                                 \n",
       " global_max_pooling2d (Globa  (None, 1280)             0         \n",
       " lMaxPooling2D)                                                  \n",
       "                                                                 \n",
       " dense (Dense)               (None, 3)                 3843      \n",
       "                                                                 \n",
       "=================================================================\n",
       "Total params: 4,053,414\n",
       "Trainable params: 3,843\n",
       "Non-trainable params: 4,049,571\n",
       "_________________________________________________________________\n"
      ]
     },
     "metadata": {},
     "output_type": "display_data"
    },
    {
     "data": {
      "text/plain": [
       "[stdout:5] Model: \"model\"\n",
       "_________________________________________________________________\n",
       " Layer (type)                Output Shape              Param #   \n",
       "=================================================================\n",
       " input_2 (InputLayer)        [(None, 180, 180, 3)]     0         \n",
       "                                                                 \n",
       " efficientnetb0 (Functional)  (None, None, None, 1280)  4049571  \n",
       "                                                                 \n",
       " global_max_pooling2d (Globa  (None, 1280)             0         \n",
       " lMaxPooling2D)                                                  \n",
       "                                                                 \n",
       " dense (Dense)               (None, 3)                 3843      \n",
       "                                                                 \n",
       "=================================================================\n",
       "Total params: 4,053,414\n",
       "Trainable params: 3,843\n",
       "Non-trainable params: 4,049,571\n",
       "_________________________________________________________________\n"
      ]
     },
     "metadata": {},
     "output_type": "display_data"
    }
   ],
   "source": [
    "%%px\n",
    "model_1.summary()"
   ]
  },
  {
   "cell_type": "code",
   "execution_count": 25,
   "metadata": {},
   "outputs": [],
   "source": [
    "%%px\n",
    "#compile model\n",
    "\n",
    "model_1.compile(\n",
    "    optimizer=tf.keras.optimizers.Adam(),\n",
    "    loss=tf.keras.losses.SparseCategoricalCrossentropy(),\n",
    "    metrics=['accuracy']\n",
    ")"
   ]
  },
  {
   "cell_type": "code",
   "execution_count": 26,
   "metadata": {},
   "outputs": [],
   "source": [
    "%%px\n",
    "\n",
    "from mpi4py import MPI\n",
    "\n",
    "BASE_TF_SERVER_PORT = 7850\n",
    "SHUFFLE_BUFFER_SIZE = 10000\n",
    "\n",
    "num_workers = MPI.COMM_WORLD.Get_size()\n",
    "worker_index = MPI.COMM_WORLD.Get_rank()\n",
    "\n",
    "def set_tf_config():\n",
    "    \"\"\" Makes a TensorFlow cluster information and sets it to TF_CONFIG environment variable.\n",
    "    \"\"\"\n",
    "    tf_config = {\n",
    "        \"cluster\": {\n",
    "            \"worker\": [f\"localhost:{BASE_TF_SERVER_PORT + index}\" for index in range(num_workers)]\n",
    "        },\n",
    "        \"task\": {\"type\": \"worker\", \"index\": worker_index}\n",
    "    }\n",
    "    tf_config_text = json.dumps(tf_config)\n",
    "    os.environ[\"TF_CONFIG\"] = tf_config_text\n",
    "    print(f\"TF_CONFIG = {tf_config_text}\")\n",
    "    return tf_config_text"
   ]
  },
  {
   "cell_type": "code",
   "execution_count": 27,
   "metadata": {},
   "outputs": [],
   "source": [
    "%%px\n",
    "early_callback = tf.keras.callbacks.EarlyStopping(\n",
    "    monitor=\"val_loss\",\n",
    "    patience=3,\n",
    "    verbose=0,\n",
    "    mode=\"auto\",\n",
    "    restore_best_weights=True,\n",
    ")"
   ]
  },
  {
   "cell_type": "code",
   "execution_count": 28,
   "metadata": {},
   "outputs": [
    {
     "data": {
      "text/plain": [
       "[stdout:0] Epoch 1/200\n",
       "335/335 [==============================] - 67s 189ms/step - loss: 1.5681 - accuracy: 0.5369 - val_loss: 1.0860 - val_accuracy: 0.5751\n",
       "Epoch 2/200\n",
       "335/335 [==============================] - 58s 173ms/step - loss: 1.1404 - accuracy: 0.6117 - val_loss: 0.8921 - val_accuracy: 0.6363\n",
       "Epoch 3/200\n",
       "335/335 [==============================] - ETA: 0s - loss: 0.9961 - accuracy: 0.6384"
      ]
     },
     "metadata": {},
     "output_type": "display_data"
    },
    {
     "data": {
      "text/plain": [
       "[stdout:2] Epoch 1/200\n",
       "335/335 [==============================] - 67s 188ms/step - loss: 1.5552 - accuracy: 0.5298 - val_loss: 0.9963 - val_accuracy: 0.6482\n",
       "Epoch 2/200\n",
       "335/335 [==============================] - 58s 174ms/step - loss: 1.1275 - accuracy: 0.6037 - val_loss: 0.8775 - val_accuracy: 0.6796\n",
       "Epoch 3/200\n",
       "335/335 [==============================] - 52s 157ms/step - loss: 0.9917 - accuracy: 0.6405 - val_loss: 0.9584 - val_accuracy: 0.6393\n",
       "Epoch 4/200\n",
       "167/335 [=============>................] - ETA: 24s - loss: 0.9770 - accuracy: 0.6527"
      ]
     },
     "metadata": {},
     "output_type": "display_data"
    },
    {
     "data": {
      "text/plain": [
       "[stdout:1] Epoch 1/200\n",
       "335/335 [==============================] - 68s 193ms/step - loss: 1.4924 - accuracy: 0.5550 - val_loss: 1.0058 - val_accuracy: 0.6169\n",
       "Epoch 2/200\n",
       "335/335 [==============================] - 59s 175ms/step - loss: 1.1480 - accuracy: 0.6168 - val_loss: 0.7864 - val_accuracy: 0.6945\n",
       "Epoch 3/200\n",
       "335/335 [==============================] - 58s 175ms/step - loss: 0.9852 - accuracy: 0.6429 - val_loss: 0.6996 - val_accuracy: 0.7207\n",
       "Epoch 4/200\n",
       "108/335 [========>.....................] - ETA: 33s - loss: 1.0411 - accuracy: 0.6435"
      ]
     },
     "metadata": {},
     "output_type": "display_data"
    },
    {
     "data": {
      "text/plain": [
       "[stdout:6] Epoch 1/200\n",
       "335/335 [==============================] - 68s 192ms/step - loss: 1.5424 - accuracy: 0.5451 - val_loss: 0.9847 - val_accuracy: 0.6370\n",
       "Epoch 2/200\n",
       "335/335 [==============================] - 58s 173ms/step - loss: 1.1599 - accuracy: 0.6097 - val_loss: 0.7951 - val_accuracy: 0.6781\n",
       "Epoch 3/200\n",
       "335/335 [==============================] - 52s 156ms/step - loss: 1.0463 - accuracy: 0.6310 - val_loss: 0.7036 - val_accuracy: 0.7155\n",
       "Epoch 4/200\n",
       "158/335 [=============>................] - ETA: 25s - loss: 0.9780 - accuracy: 0.6562"
      ]
     },
     "metadata": {},
     "output_type": "display_data"
    },
    {
     "data": {
      "text/plain": [
       "[stdout:7] Epoch 1/200\n",
       "335/335 [==============================] - 68s 193ms/step - loss: 1.5882 - accuracy: 0.5356 - val_loss: 0.9679 - val_accuracy: 0.6191\n",
       "Epoch 2/200\n",
       "335/335 [==============================] - 59s 176ms/step - loss: 1.1293 - accuracy: 0.6168 - val_loss: 0.8245 - val_accuracy: 0.7058\n",
       "Epoch 3/200\n",
       "335/335 [==============================] - 60s 179ms/step - loss: 1.0514 - accuracy: 0.6332 - val_loss: 0.7778 - val_accuracy: 0.6960\n",
       "Epoch 4/200\n",
       "101/335 [========>.....................] - ETA: 33s - loss: 0.9298 - accuracy: 0.6652"
      ]
     },
     "metadata": {},
     "output_type": "display_data"
    },
    {
     "data": {
      "text/plain": [
       "[stdout:4] Epoch 1/200\n",
       "335/335 [==============================] - 68s 193ms/step - loss: 1.6062 - accuracy: 0.5371 - val_loss: 0.9427 - val_accuracy: 0.6565\n",
       "Epoch 2/200\n",
       "335/335 [==============================] - 59s 176ms/step - loss: 1.1672 - accuracy: 0.6091 - val_loss: 0.8726 - val_accuracy: 0.6617\n",
       "Epoch 3/200\n",
       "335/335 [==============================] - 54s 160ms/step - loss: 1.0732 - accuracy: 0.6330 - val_loss: 0.7011 - val_accuracy: 0.7162\n",
       "Epoch 4/200\n",
       "145/335 [===========>..................] - ETA: 27s - loss: 0.9448 - accuracy: 0.6629"
      ]
     },
     "metadata": {},
     "output_type": "display_data"
    },
    {
     "data": {
      "text/plain": [
       "[stdout:3] Epoch 1/200\n",
       "335/335 [==============================] - 68s 192ms/step - loss: 1.4579 - accuracy: 0.5499 - val_loss: 0.9437 - val_accuracy: 0.6781\n",
       "Epoch 2/200\n",
       "335/335 [==============================] - 59s 177ms/step - loss: 1.1425 - accuracy: 0.6123 - val_loss: 0.7922 - val_accuracy: 0.6796\n",
       "Epoch 3/200\n",
       "335/335 [==============================] - 59s 176ms/step - loss: 1.0416 - accuracy: 0.6395 - val_loss: 0.6936 - val_accuracy: 0.7125\n",
       "Epoch 4/200\n",
       "106/335 [========>.....................] - ETA: 32s - loss: 0.9530 - accuracy: 0.6586"
      ]
     },
     "metadata": {},
     "output_type": "display_data"
    },
    {
     "data": {
      "text/plain": [
       "[stdout:5] Epoch 1/200\n",
       "335/335 [==============================] - 69s 193ms/step - loss: 1.5506 - accuracy: 0.5511 - val_loss: 0.8980 - val_accuracy: 0.6557\n",
       "Epoch 2/200\n",
       "335/335 [==============================] - 60s 180ms/step - loss: 1.0769 - accuracy: 0.6199 - val_loss: 0.7825 - val_accuracy: 0.6863\n",
       "Epoch 3/200\n",
       "335/335 [==============================] - 59s 176ms/step - loss: 1.0540 - accuracy: 0.6323 - val_loss: 0.7353 - val_accuracy: 0.7125\n",
       "Epoch 4/200\n",
       " 97/335 [=======>......................] - ETA: 33s - loss: 0.9377 - accuracy: 0.6540"
      ]
     },
     "metadata": {},
     "output_type": "display_data"
    },
    {
     "data": {
      "application/vnd.jupyter.widget-view+json": {
       "model_id": "b0d1fd0cff10423ca161fd1282793111",
       "version_major": 2,
       "version_minor": 0
      },
      "text/plain": [
       "%px:   0%|          | 0/8 [00:00<?, ?tasks/s]"
      ]
     },
     "metadata": {},
     "output_type": "display_data"
    }
   ],
   "source": [
    "%%px\n",
    "\n",
    "history_1 = model_1.fit(\n",
    "    train_ds,\n",
    "    validation_data = val_ds,\n",
    "    epochs=200,\n",
    "    callbacks=[early_callback]\n",
    ")"
   ]
  },
  {
   "cell_type": "code",
   "execution_count": null,
   "metadata": {},
   "outputs": [
    {
     "data": {
      "text/plain": [
       "[stdout:3] 12/84 [===>..........................] - ETA: 11s - loss: 2.2522 - accuracy: 0.2865"
      ]
     },
     "metadata": {},
     "output_type": "display_data"
    },
    {
     "data": {
      "text/plain": [
       "[stdout:5] 12/84 [===>..........................] - ETA: 11s - loss: 2.6089 - accuracy: 0.3802"
      ]
     },
     "metadata": {},
     "output_type": "display_data"
    },
    {
     "data": {
      "text/plain": [
       "[stdout:4] 12/84 [===>..........................] - ETA: 11s - loss: 2.7015 - accuracy: 0.3802"
      ]
     },
     "metadata": {},
     "output_type": "display_data"
    },
    {
     "data": {
      "text/plain": [
       "[stdout:6] 12/84 [===>..........................] - ETA: 11s - loss: 3.2444 - accuracy: 0.3177"
      ]
     },
     "metadata": {},
     "output_type": "display_data"
    },
    {
     "data": {
      "text/plain": [
       "[stdout:2] 12/84 [===>..........................] - ETA: 11s - loss: 1.8443 - accuracy: 0.5052"
      ]
     },
     "metadata": {},
     "output_type": "display_data"
    },
    {
     "data": {
      "text/plain": [
       "[stdout:1] 12/84 [===>..........................] - ETA: 11s - loss: 2.3262 - accuracy: 0.3698"
      ]
     },
     "metadata": {},
     "output_type": "display_data"
    },
    {
     "data": {
      "text/plain": [
       "[stdout:0] 12/84 [===>..........................] - ETA: 10s - loss: 1.9295 - accuracy: 0.3750"
      ]
     },
     "metadata": {},
     "output_type": "display_data"
    },
    {
     "data": {
      "text/plain": [
       "[stdout:7] 12/84 [===>..........................] - ETA: 10s - loss: 2.4070 - accuracy: 0.2917"
      ]
     },
     "metadata": {},
     "output_type": "display_data"
    },
    {
     "data": {
      "application/vnd.jupyter.widget-view+json": {
       "model_id": "4b137252e8f44b8e9172ffae9967197c",
       "version_major": 2,
       "version_minor": 0
      },
      "text/plain": [
       "%px:   0%|          | 0/8 [00:00<?, ?tasks/s]"
      ]
     },
     "metadata": {},
     "output_type": "display_data"
    },
    {
     "name": "stderr",
     "output_type": "stream",
     "text": [
      "Received Keyboard Interrupt. Sending signal SIGINT to engines...\n"
     ]
    }
   ],
   "source": [
    "%%px\n",
    "model_1.evaluate(val_ds)"
   ]
  },
  {
   "cell_type": "code",
   "execution_count": null,
   "metadata": {},
   "outputs": [],
   "source": [
    "%%px\n",
    "import os\n",
    "import json \n",
    "def train_mnist():\n",
    "    set_tf_config()\n",
    "    options = tf.data.Options()\n",
    "    options.experimental_distribute.auto_shard_policy = tf.data.experimental.AutoShardPolicy.DATA\n",
    "    options = tf.data.Options()\n",
    "    options.experimental_distribute.auto_shard_policy = tf.data.experimental.AutoShardPolicy.OFF\n",
    "    # Create and compile the distributed CNN model.\n",
    "    model_1 = tf.keras.Model(top,bottom)\n",
    "    model_1.compile(\n",
    "    optimizer=tf.keras.optimizers.Adam(),\n",
    "    loss=tf.keras.losses.SparseCategoricalCrossentropy(),\n",
    "    metrics=['accuracy']\n",
    ")\n",
    "        \n",
    "    # Train the model.\n",
    "    print(\"Calling model.fit()...\")\n",
    "    history_1 = model_1.fit(\n",
    "    train_ds,\n",
    "    validation_data = val_ds,\n",
    "    epochs=200,\n",
    "    callbacks=[early_callback]\n",
    ")\n",
    "    print(\"Calling model.evaluate()...\")\n",
    "    eval_results = model_1.evaluate(test_dataset, verbose=2)\n",
    "    print(f\"Evaluation results: {eval_results}\")"
   ]
  },
  {
   "cell_type": "code",
   "execution_count": null,
   "metadata": {},
   "outputs": [
    {
     "data": {
      "text/plain": [
       "[stdout:0] TF_CONFIG = {\"cluster\": {\"worker\": [\"localhost:7850\", \"localhost:7851\", \"localhost:7852\", \"localhost:7853\", \"localhost:7854\", \"localhost:7855\", \"localhost:7856\", \"localhost:7857\"]}, \"task\": {\"type\": \"worker\", \"index\": 0}}\n",
       "Calling model.fit()...\n",
       "Epoch 1/200\n",
       "335/335 [==============================] - 67s 190ms/step - loss: 1.4776 - accuracy: 0.5473 - val_loss: 0.9097 - val_accuracy: 0.6199\n",
       "Epoch 2/200\n",
       "335/335 [==============================] - 58s 173ms/step - loss: 1.1543 - accuracy: 0.6162 - val_loss: 0.7947 - val_accuracy: 0.6632\n",
       "Epoch 3/200\n",
       "335/335 [==============================] - 59s 176ms/step - loss: 1.0129 - accuracy: 0.6448 - val_loss: 0.7090 - val_accuracy: 0.7020\n",
       "Epoch 4/200\n",
       "335/335 [==============================] - 57s 171ms/step - loss: 0.9379 - accuracy: 0.6470 - val_loss: 0.6459 - val_accuracy: 0.7170\n",
       "Epoch 5/200\n",
       "335/335 [==============================] - 51s 154ms/step - loss: 0.9251 - accuracy: 0.6629 - val_loss: 0.6411 - val_accuracy: 0.7214\n",
       "Epoch 6/200\n",
       "335/335 [==============================] - 56s 169ms/step - loss: 0.9183 - accuracy: 0.6666 - val_loss: 0.8106 - val_accuracy: 0.6662\n",
       "Epoch 7/200\n",
       "335/335 [==============================] - 58s 173ms/step - loss: 0.8987 - accuracy: 0.6647 - val_loss: 0.5966 - val_accuracy: 0.7558\n",
       "Epoch 8/200\n",
       "335/335 [==============================] - 52s 154ms/step - loss: 0.8008 - accuracy: 0.6907 - val_loss: 0.5900 - val_accuracy: 0.7528\n",
       "Epoch 9/200\n",
       "335/335 [==============================] - 55s 163ms/step - loss: 0.8026 - accuracy: 0.6991 - val_loss: 0.6513 - val_accuracy: 0.7386\n",
       "Epoch 10/200\n",
       "335/335 [==============================] - 51s 152ms/step - loss: 0.7973 - accuracy: 0.7006 - val_loss: 0.6381 - val_accuracy: 0.7453\n",
       "Epoch 11/200\n",
       "335/335 [==============================] - 56s 166ms/step - loss: 0.7760 - accuracy: 0.7051 - val_loss: 0.5967 - val_accuracy: 0.7625\n",
       "Calling model.evaluate()...\n"
      ]
     },
     "metadata": {},
     "output_type": "display_data"
    },
    {
     "data": {
      "text/plain": [
       "[stdout:3] TF_CONFIG = {\"cluster\": {\"worker\": [\"localhost:7850\", \"localhost:7851\", \"localhost:7852\", \"localhost:7853\", \"localhost:7854\", \"localhost:7855\", \"localhost:7856\", \"localhost:7857\"]}, \"task\": {\"type\": \"worker\", \"index\": 3}}\n",
       "Calling model.fit()...\n",
       "Epoch 1/200\n",
       "335/335 [==============================] - 66s 187ms/step - loss: 1.4685 - accuracy: 0.5522 - val_loss: 0.9459 - val_accuracy: 0.6430\n",
       "Epoch 2/200\n",
       "335/335 [==============================] - 54s 160ms/step - loss: 1.1065 - accuracy: 0.6186 - val_loss: 0.7906 - val_accuracy: 0.6751\n",
       "Epoch 3/200\n",
       "335/335 [==============================] - 58s 173ms/step - loss: 1.0469 - accuracy: 0.6296 - val_loss: 0.7297 - val_accuracy: 0.7192\n",
       "Epoch 4/200\n",
       "335/335 [==============================] - 58s 174ms/step - loss: 0.9513 - accuracy: 0.6569 - val_loss: 0.7019 - val_accuracy: 0.7102\n",
       "Epoch 5/200\n",
       "335/335 [==============================] - 52s 156ms/step - loss: 0.9354 - accuracy: 0.6580 - val_loss: 0.6559 - val_accuracy: 0.7289\n",
       "Epoch 6/200\n",
       "335/335 [==============================] - 58s 175ms/step - loss: 0.9242 - accuracy: 0.6604 - val_loss: 0.6427 - val_accuracy: 0.7349\n",
       "Epoch 7/200\n",
       "335/335 [==============================] - 58s 173ms/step - loss: 0.9011 - accuracy: 0.6726 - val_loss: 0.6909 - val_accuracy: 0.7043\n",
       "Epoch 8/200\n",
       "335/335 [==============================] - 56s 167ms/step - loss: 0.8422 - accuracy: 0.6875 - val_loss: 0.6368 - val_accuracy: 0.7349\n",
       "Epoch 9/200\n",
       "335/335 [==============================] - 54s 160ms/step - loss: 0.8229 - accuracy: 0.6954 - val_loss: 0.6077 - val_accuracy: 0.7438\n",
       "Epoch 10/200\n",
       "335/335 [==============================] - 52s 155ms/step - loss: 0.8027 - accuracy: 0.6892 - val_loss: 0.6147 - val_accuracy: 0.7296\n",
       "Epoch 11/200\n",
       "335/335 [==============================] - 55s 166ms/step - loss: 0.7516 - accuracy: 0.7066 - val_loss: 0.5863 - val_accuracy: 0.7565\n",
       "Epoch 12/200\n",
       "335/335 [==============================] - 49s 147ms/step - loss: 0.7941 - accuracy: 0.7032 - val_loss: 0.6081 - val_accuracy: 0.7394\n",
       "Epoch 13/200\n",
       "335/335 [==============================] - 44s 132ms/step - loss: 0.7478 - accuracy: 0.7054 - val_loss: 0.5828 - val_accuracy: 0.7550\n",
       "Epoch 14/200\n",
       "335/335 [==============================] - 34s 102ms/step - loss: 0.7735 - accuracy: 0.7034 - val_loss: 0.6099 - val_accuracy: 0.7595\n",
       "Epoch 15/200\n",
       "335/335 [==============================] - 34s 100ms/step - loss: 0.7681 - accuracy: 0.7064 - val_loss: 0.5827 - val_accuracy: 0.7677\n",
       "Epoch 16/200\n",
       "335/335 [==============================] - 34s 101ms/step - loss: 0.7533 - accuracy: 0.7060 - val_loss: 0.5782 - val_accuracy: 0.7573\n",
       "Epoch 17/200\n",
       "335/335 [==============================] - 32s 96ms/step - loss: 0.7987 - accuracy: 0.6993 - val_loss: 0.7054 - val_accuracy: 0.7162\n",
       "Epoch 18/200\n",
       "335/335 [==============================] - 32s 96ms/step - loss: 0.7781 - accuracy: 0.7054 - val_loss: 0.6471 - val_accuracy: 0.7252\n",
       "Epoch 19/200\n",
       "335/335 [==============================] - 23s 68ms/step - loss: 0.7380 - accuracy: 0.7204 - val_loss: 0.5725 - val_accuracy: 0.7565\n",
       "Epoch 20/200\n",
       "335/335 [==============================] - 22s 66ms/step - loss: 0.7593 - accuracy: 0.7094 - val_loss: 0.6274 - val_accuracy: 0.7409\n",
       "Epoch 21/200\n",
       "335/335 [==============================] - 22s 66ms/step - loss: 0.7504 - accuracy: 0.7159 - val_loss: 0.5851 - val_accuracy: 0.7685\n",
       "Epoch 22/200\n",
       "335/335 [==============================] - 24s 70ms/step - loss: 0.7553 - accuracy: 0.7097 - val_loss: 0.6716 - val_accuracy: 0.7371\n",
       "Calling model.evaluate()...\n"
      ]
     },
     "metadata": {},
     "output_type": "display_data"
    },
    {
     "data": {
      "text/plain": [
       "[stdout:5] TF_CONFIG = {\"cluster\": {\"worker\": [\"localhost:7850\", \"localhost:7851\", \"localhost:7852\", \"localhost:7853\", \"localhost:7854\", \"localhost:7855\", \"localhost:7856\", \"localhost:7857\"]}, \"task\": {\"type\": \"worker\", \"index\": 5}}\n",
       "Calling model.fit()...\n",
       "Epoch 1/200\n",
       "335/335 [==============================] - 69s 194ms/step - loss: 1.4517 - accuracy: 0.5540 - val_loss: 0.9593 - val_accuracy: 0.6385\n",
       "Epoch 2/200\n",
       "335/335 [==============================] - 54s 161ms/step - loss: 1.1575 - accuracy: 0.6164 - val_loss: 0.7983 - val_accuracy: 0.6796\n",
       "Epoch 3/200\n",
       "335/335 [==============================] - 60s 180ms/step - loss: 1.0218 - accuracy: 0.6339 - val_loss: 0.7174 - val_accuracy: 0.6856\n",
       "Epoch 4/200\n",
       "335/335 [==============================] - 58s 174ms/step - loss: 0.9766 - accuracy: 0.6448 - val_loss: 0.6926 - val_accuracy: 0.7028\n",
       "Epoch 5/200\n",
       "335/335 [==============================] - 52s 156ms/step - loss: 0.8855 - accuracy: 0.6584 - val_loss: 0.7282 - val_accuracy: 0.7140\n",
       "Epoch 6/200\n",
       "335/335 [==============================] - 59s 176ms/step - loss: 0.9024 - accuracy: 0.6675 - val_loss: 0.7171 - val_accuracy: 0.7043\n",
       "Epoch 7/200\n",
       "335/335 [==============================] - 59s 178ms/step - loss: 0.8590 - accuracy: 0.6817 - val_loss: 0.6557 - val_accuracy: 0.7513\n",
       "Epoch 8/200\n",
       "335/335 [==============================] - 55s 164ms/step - loss: 0.8470 - accuracy: 0.6830 - val_loss: 0.7337 - val_accuracy: 0.7013\n",
       "Epoch 9/200\n",
       "335/335 [==============================] - 56s 167ms/step - loss: 0.8109 - accuracy: 0.6952 - val_loss: 0.6366 - val_accuracy: 0.7326\n",
       "Epoch 10/200\n",
       "335/335 [==============================] - 51s 151ms/step - loss: 0.7859 - accuracy: 0.6942 - val_loss: 0.6098 - val_accuracy: 0.7401\n",
       "Epoch 11/200\n",
       "335/335 [==============================] - 58s 174ms/step - loss: 0.7838 - accuracy: 0.6998 - val_loss: 0.6204 - val_accuracy: 0.7423\n",
       "Epoch 12/200\n",
       "335/335 [==============================] - 47s 141ms/step - loss: 0.7972 - accuracy: 0.7000 - val_loss: 0.6028 - val_accuracy: 0.7543\n",
       "Epoch 13/200\n",
       "335/335 [==============================] - 42s 126ms/step - loss: 0.7913 - accuracy: 0.6903 - val_loss: 0.5849 - val_accuracy: 0.7588\n",
       "Epoch 14/200\n",
       "335/335 [==============================] - 34s 102ms/step - loss: 0.7839 - accuracy: 0.6965 - val_loss: 0.5961 - val_accuracy: 0.7394\n",
       "Epoch 15/200\n",
       "335/335 [==============================] - 33s 97ms/step - loss: 0.7865 - accuracy: 0.7017 - val_loss: 0.6351 - val_accuracy: 0.7252\n",
       "Epoch 16/200\n",
       "335/335 [==============================] - 33s 98ms/step - loss: 0.8262 - accuracy: 0.6980 - val_loss: 0.5615 - val_accuracy: 0.7580\n",
       "Epoch 17/200\n",
       "335/335 [==============================] - 32s 96ms/step - loss: 0.7783 - accuracy: 0.7010 - val_loss: 0.5920 - val_accuracy: 0.7528\n",
       "Epoch 18/200\n",
       "335/335 [==============================] - 32s 96ms/step - loss: 0.7785 - accuracy: 0.7052 - val_loss: 0.5631 - val_accuracy: 0.7618\n",
       "Epoch 19/200\n",
       "335/335 [==============================] - 33s 98ms/step - loss: 0.7468 - accuracy: 0.7170 - val_loss: 0.5979 - val_accuracy: 0.7580\n",
       "Calling model.evaluate()...\n"
      ]
     },
     "metadata": {},
     "output_type": "display_data"
    },
    {
     "data": {
      "text/plain": [
       "[stdout:7] TF_CONFIG = {\"cluster\": {\"worker\": [\"localhost:7850\", \"localhost:7851\", \"localhost:7852\", \"localhost:7853\", \"localhost:7854\", \"localhost:7855\", \"localhost:7856\", \"localhost:7857\"]}, \"task\": {\"type\": \"worker\", \"index\": 7}}\n",
       "Calling model.fit()...\n",
       "Epoch 1/200\n",
       "335/335 [==============================] - 69s 194ms/step - loss: 1.5332 - accuracy: 0.5400 - val_loss: 1.0758 - val_accuracy: 0.5967\n",
       "Epoch 2/200\n",
       "335/335 [==============================] - 54s 162ms/step - loss: 1.1389 - accuracy: 0.6164 - val_loss: 0.8079 - val_accuracy: 0.6878\n",
       "Epoch 3/200\n",
       "335/335 [==============================] - 41s 122ms/step - loss: 1.0258 - accuracy: 0.6341 - val_loss: 0.7165 - val_accuracy: 0.6990\n",
       "Epoch 4/200\n",
       "335/335 [==============================] - 59s 177ms/step - loss: 1.0056 - accuracy: 0.6578 - val_loss: 0.6886 - val_accuracy: 0.7140\n",
       "Epoch 5/200\n",
       "335/335 [==============================] - 58s 175ms/step - loss: 0.8938 - accuracy: 0.6731 - val_loss: 0.6495 - val_accuracy: 0.7371\n",
       "Epoch 6/200\n",
       "335/335 [==============================] - 58s 173ms/step - loss: 0.8968 - accuracy: 0.6703 - val_loss: 0.7849 - val_accuracy: 0.6856\n",
       "Epoch 7/200\n",
       "335/335 [==============================] - 58s 175ms/step - loss: 0.8435 - accuracy: 0.6806 - val_loss: 0.8405 - val_accuracy: 0.6512\n",
       "Epoch 8/200\n",
       "335/335 [==============================] - 59s 176ms/step - loss: 0.8352 - accuracy: 0.6933 - val_loss: 0.6194 - val_accuracy: 0.7491\n",
       "Epoch 9/200\n",
       "335/335 [==============================] - 59s 175ms/step - loss: 0.8360 - accuracy: 0.6825 - val_loss: 0.6344 - val_accuracy: 0.7237\n",
       "Epoch 10/200\n",
       "335/335 [==============================] - 51s 152ms/step - loss: 0.8243 - accuracy: 0.6894 - val_loss: 0.6310 - val_accuracy: 0.7453\n",
       "Epoch 11/200\n",
       "335/335 [==============================] - 58s 173ms/step - loss: 0.7911 - accuracy: 0.7030 - val_loss: 0.6902 - val_accuracy: 0.7371\n",
       "Calling model.evaluate()...\n"
      ]
     },
     "metadata": {},
     "output_type": "display_data"
    },
    {
     "data": {
      "text/plain": [
       "[stdout:2] TF_CONFIG = {\"cluster\": {\"worker\": [\"localhost:7850\", \"localhost:7851\", \"localhost:7852\", \"localhost:7853\", \"localhost:7854\", \"localhost:7855\", \"localhost:7856\", \"localhost:7857\"]}, \"task\": {\"type\": \"worker\", \"index\": 2}}\n",
       "Calling model.fit()...\n",
       "Epoch 1/200\n",
       "335/335 [==============================] - 67s 191ms/step - loss: 1.5430 - accuracy: 0.5466 - val_loss: 0.9674 - val_accuracy: 0.6341\n",
       "Epoch 2/200\n",
       "335/335 [==============================] - 59s 177ms/step - loss: 1.0973 - accuracy: 0.6205 - val_loss: 0.7671 - val_accuracy: 0.6684\n",
       "Epoch 3/200\n",
       "335/335 [==============================] - 59s 175ms/step - loss: 1.0231 - accuracy: 0.6345 - val_loss: 0.7591 - val_accuracy: 0.6953\n",
       "Epoch 4/200\n",
       "335/335 [==============================] - 59s 177ms/step - loss: 0.9402 - accuracy: 0.6550 - val_loss: 0.9521 - val_accuracy: 0.6296\n",
       "Epoch 5/200\n",
       "335/335 [==============================] - 45s 136ms/step - loss: 0.9375 - accuracy: 0.6601 - val_loss: 0.7902 - val_accuracy: 0.6833\n",
       "Epoch 6/200\n",
       "335/335 [==============================] - 50s 150ms/step - loss: 0.8578 - accuracy: 0.6808 - val_loss: 0.6263 - val_accuracy: 0.7476\n",
       "Epoch 7/200\n",
       "335/335 [==============================] - 59s 176ms/step - loss: 0.8272 - accuracy: 0.6825 - val_loss: 0.6056 - val_accuracy: 0.7491\n",
       "Epoch 8/200\n",
       "335/335 [==============================] - 52s 157ms/step - loss: 0.8104 - accuracy: 0.6901 - val_loss: 0.6003 - val_accuracy: 0.7416\n",
       "Epoch 9/200\n",
       "335/335 [==============================] - 50s 149ms/step - loss: 0.8052 - accuracy: 0.6912 - val_loss: 0.6125 - val_accuracy: 0.7513\n",
       "Epoch 10/200\n",
       "335/335 [==============================] - 59s 176ms/step - loss: 0.8191 - accuracy: 0.6907 - val_loss: 0.6193 - val_accuracy: 0.7558\n",
       "Epoch 11/200\n",
       "335/335 [==============================] - 58s 175ms/step - loss: 0.8003 - accuracy: 0.6873 - val_loss: 0.8101 - val_accuracy: 0.6871\n",
       "Calling model.evaluate()...\n"
      ]
     },
     "metadata": {},
     "output_type": "display_data"
    },
    {
     "data": {
      "text/plain": [
       "[stdout:6] TF_CONFIG = {\"cluster\": {\"worker\": [\"localhost:7850\", \"localhost:7851\", \"localhost:7852\", \"localhost:7853\", \"localhost:7854\", \"localhost:7855\", \"localhost:7856\", \"localhost:7857\"]}, \"task\": {\"type\": \"worker\", \"index\": 6}}\n",
       "Calling model.fit()...\n",
       "Epoch 1/200\n",
       "335/335 [==============================] - 69s 194ms/step - loss: 1.6623 - accuracy: 0.5223 - val_loss: 0.9450 - val_accuracy: 0.6273\n",
       "Epoch 2/200\n",
       "335/335 [==============================] - 59s 175ms/step - loss: 1.1860 - accuracy: 0.6104 - val_loss: 0.8835 - val_accuracy: 0.6355\n",
       "Epoch 3/200\n",
       "335/335 [==============================] - 58s 174ms/step - loss: 1.0346 - accuracy: 0.6408 - val_loss: 0.8316 - val_accuracy: 0.6684\n",
       "Epoch 4/200\n",
       "335/335 [==============================] - 59s 177ms/step - loss: 0.9885 - accuracy: 0.6423 - val_loss: 0.7740 - val_accuracy: 0.6908\n",
       "Epoch 5/200\n",
       "335/335 [==============================] - 52s 154ms/step - loss: 0.9590 - accuracy: 0.6550 - val_loss: 0.7092 - val_accuracy: 0.7050\n",
       "Epoch 6/200\n",
       "335/335 [==============================] - 58s 174ms/step - loss: 0.8600 - accuracy: 0.6694 - val_loss: 0.6949 - val_accuracy: 0.7132\n",
       "Epoch 7/200\n",
       "335/335 [==============================] - 57s 170ms/step - loss: 0.9180 - accuracy: 0.6647 - val_loss: 0.6830 - val_accuracy: 0.7334\n",
       "Epoch 8/200\n",
       "335/335 [==============================] - 52s 156ms/step - loss: 0.8426 - accuracy: 0.6832 - val_loss: 0.6478 - val_accuracy: 0.7259\n",
       "Epoch 9/200\n",
       "335/335 [==============================] - 58s 174ms/step - loss: 0.7959 - accuracy: 0.6965 - val_loss: 0.6693 - val_accuracy: 0.7229\n",
       "Epoch 10/200\n",
       "335/335 [==============================] - 52s 155ms/step - loss: 0.7900 - accuracy: 0.6927 - val_loss: 0.6165 - val_accuracy: 0.7483\n",
       "Epoch 11/200\n",
       "335/335 [==============================] - 49s 147ms/step - loss: 0.8035 - accuracy: 0.6980 - val_loss: 0.6265 - val_accuracy: 0.7386\n",
       "Epoch 12/200\n",
       "335/335 [==============================] - 32s 96ms/step - loss: 0.7940 - accuracy: 0.7030 - val_loss: 0.6505 - val_accuracy: 0.7356\n",
       "Epoch 13/200\n",
       "335/335 [==============================] - 34s 101ms/step - loss: 0.7973 - accuracy: 0.6970 - val_loss: 0.5855 - val_accuracy: 0.7483\n",
       "Epoch 14/200\n",
       "335/335 [==============================] - 32s 96ms/step - loss: 0.7892 - accuracy: 0.6963 - val_loss: 0.7353 - val_accuracy: 0.7087\n",
       "Epoch 15/200\n",
       "335/335 [==============================] - 32s 96ms/step - loss: 0.7607 - accuracy: 0.7082 - val_loss: 0.6086 - val_accuracy: 0.7401\n",
       "Epoch 16/200\n",
       "335/335 [==============================] - 33s 98ms/step - loss: 0.7691 - accuracy: 0.7047 - val_loss: 0.6210 - val_accuracy: 0.7476\n",
       "Calling model.evaluate()...\n"
      ]
     },
     "metadata": {},
     "output_type": "display_data"
    },
    {
     "data": {
      "text/plain": [
       "[stdout:1] TF_CONFIG = {\"cluster\": {\"worker\": [\"localhost:7850\", \"localhost:7851\", \"localhost:7852\", \"localhost:7853\", \"localhost:7854\", \"localhost:7855\", \"localhost:7856\", \"localhost:7857\"]}, \"task\": {\"type\": \"worker\", \"index\": 1}}\n",
       "Calling model.fit()...\n",
       "Epoch 1/200\n",
       "335/335 [==============================] - 68s 194ms/step - loss: 1.5573 - accuracy: 0.5440 - val_loss: 0.9721 - val_accuracy: 0.6087\n",
       "Epoch 2/200\n",
       "335/335 [==============================] - 50s 150ms/step - loss: 1.1190 - accuracy: 0.6177 - val_loss: 0.8019 - val_accuracy: 0.6721\n",
       "Epoch 3/200\n",
       "335/335 [==============================] - 49s 145ms/step - loss: 1.0296 - accuracy: 0.6341 - val_loss: 0.8338 - val_accuracy: 0.7072\n",
       "Epoch 4/200\n",
       "335/335 [==============================] - 58s 173ms/step - loss: 0.9577 - accuracy: 0.6556 - val_loss: 0.6853 - val_accuracy: 0.7222\n",
       "Epoch 5/200\n",
       "335/335 [==============================] - 54s 162ms/step - loss: 0.8989 - accuracy: 0.6642 - val_loss: 0.6683 - val_accuracy: 0.7274\n",
       "Epoch 6/200\n",
       "335/335 [==============================] - 55s 165ms/step - loss: 0.8849 - accuracy: 0.6662 - val_loss: 0.7200 - val_accuracy: 0.7304\n",
       "Epoch 7/200\n",
       "335/335 [==============================] - 57s 170ms/step - loss: 0.8611 - accuracy: 0.6752 - val_loss: 0.6166 - val_accuracy: 0.7535\n",
       "Epoch 8/200\n",
       "335/335 [==============================] - 58s 172ms/step - loss: 0.8001 - accuracy: 0.6963 - val_loss: 0.5935 - val_accuracy: 0.7513\n",
       "Epoch 9/200\n",
       "335/335 [==============================] - 52s 155ms/step - loss: 0.7767 - accuracy: 0.7038 - val_loss: 0.6266 - val_accuracy: 0.7453\n",
       "Epoch 10/200\n",
       "335/335 [==============================] - 58s 174ms/step - loss: 0.8023 - accuracy: 0.6972 - val_loss: 0.6349 - val_accuracy: 0.7550\n",
       "Epoch 11/200\n",
       "335/335 [==============================] - 58s 175ms/step - loss: 0.8405 - accuracy: 0.6896 - val_loss: 0.5664 - val_accuracy: 0.7588\n",
       "Epoch 12/200\n",
       "335/335 [==============================] - 48s 143ms/step - loss: 0.7974 - accuracy: 0.6954 - val_loss: 0.6069 - val_accuracy: 0.7521\n",
       "Epoch 13/200\n",
       "335/335 [==============================] - 43s 128ms/step - loss: 0.8030 - accuracy: 0.7054 - val_loss: 0.5708 - val_accuracy: 0.7692\n",
       "Epoch 14/200\n",
       "335/335 [==============================] - 35s 105ms/step - loss: 0.7964 - accuracy: 0.6998 - val_loss: 0.6135 - val_accuracy: 0.7595\n",
       "Calling model.evaluate()...\n"
      ]
     },
     "metadata": {},
     "output_type": "display_data"
    },
    {
     "data": {
      "text/plain": [
       "[stdout:4] TF_CONFIG = {\"cluster\": {\"worker\": [\"localhost:7850\", \"localhost:7851\", \"localhost:7852\", \"localhost:7853\", \"localhost:7854\", \"localhost:7855\", \"localhost:7856\", \"localhost:7857\"]}, \"task\": {\"type\": \"worker\", \"index\": 4}}\n",
       "Calling model.fit()...\n",
       "Epoch 1/200\n",
       "335/335 [==============================] - 69s 195ms/step - loss: 1.5191 - accuracy: 0.5397 - val_loss: 0.9352 - val_accuracy: 0.6654\n",
       "Epoch 2/200\n",
       "335/335 [==============================] - 60s 178ms/step - loss: 1.0769 - accuracy: 0.6321 - val_loss: 0.7412 - val_accuracy: 0.7087\n",
       "Epoch 3/200\n",
       "335/335 [==============================] - 59s 176ms/step - loss: 0.9928 - accuracy: 0.6459 - val_loss: 0.6863 - val_accuracy: 0.7214\n",
       "Epoch 4/200\n",
       "335/335 [==============================] - 59s 176ms/step - loss: 0.9411 - accuracy: 0.6522 - val_loss: 0.6937 - val_accuracy: 0.7214\n",
       "Epoch 5/200\n",
       "335/335 [==============================] - 51s 152ms/step - loss: 0.8651 - accuracy: 0.6786 - val_loss: 0.6586 - val_accuracy: 0.7199\n",
       "Epoch 6/200\n",
       "335/335 [==============================] - 41s 121ms/step - loss: 0.8782 - accuracy: 0.6687 - val_loss: 0.6222 - val_accuracy: 0.7521\n",
       "Epoch 7/200\n",
       "335/335 [==============================] - 57s 171ms/step - loss: 0.8943 - accuracy: 0.6720 - val_loss: 0.7074 - val_accuracy: 0.7147\n",
       "Epoch 8/200\n",
       "335/335 [==============================] - 54s 162ms/step - loss: 0.8120 - accuracy: 0.6946 - val_loss: 0.6882 - val_accuracy: 0.7364\n",
       "Epoch 9/200\n",
       "335/335 [==============================] - 52s 156ms/step - loss: 0.8258 - accuracy: 0.6862 - val_loss: 0.6037 - val_accuracy: 0.7558\n",
       "Epoch 10/200\n",
       "335/335 [==============================] - 53s 157ms/step - loss: 0.7827 - accuracy: 0.6998 - val_loss: 0.6235 - val_accuracy: 0.7453\n",
       "Epoch 11/200\n",
       "335/335 [==============================] - 52s 156ms/step - loss: 0.7852 - accuracy: 0.6967 - val_loss: 0.9128 - val_accuracy: 0.6550\n",
       "Epoch 12/200\n",
       "335/335 [==============================] - 58s 175ms/step - loss: 0.7683 - accuracy: 0.7026 - val_loss: 0.5745 - val_accuracy: 0.7745\n",
       "Epoch 13/200\n",
       "335/335 [==============================] - 37s 109ms/step - loss: 0.7372 - accuracy: 0.7125 - val_loss: 0.5868 - val_accuracy: 0.7625\n",
       "Epoch 14/200\n",
       "335/335 [==============================] - 34s 103ms/step - loss: 0.7922 - accuracy: 0.7030 - val_loss: 0.6041 - val_accuracy: 0.7595\n",
       "Epoch 15/200\n",
       "335/335 [==============================] - 34s 102ms/step - loss: 0.7604 - accuracy: 0.7052 - val_loss: 0.5677 - val_accuracy: 0.7782\n",
       "Epoch 16/200\n",
       "335/335 [==============================] - 34s 100ms/step - loss: 0.7365 - accuracy: 0.7099 - val_loss: 0.7875 - val_accuracy: 0.6968\n",
       "Epoch 17/200\n",
       "335/335 [==============================] - 33s 99ms/step - loss: 0.7594 - accuracy: 0.7097 - val_loss: 0.6735 - val_accuracy: 0.7214\n",
       "Epoch 18/200\n",
       "335/335 [==============================] - 25s 75ms/step - loss: 0.7430 - accuracy: 0.7217 - val_loss: 0.5749 - val_accuracy: 0.7767\n",
       "Calling model.evaluate()...\n"
      ]
     },
     "metadata": {},
     "output_type": "display_data"
    },
    {
     "data": {
      "application/vnd.jupyter.widget-view+json": {
       "model_id": "26a0166a6bf0496bba2d68bf3bbffa95",
       "version_major": 2,
       "version_minor": 0
      },
      "text/plain": [
       "%px:   0%|          | 0/8 [00:00<?, ?tasks/s]"
      ]
     },
     "metadata": {},
     "output_type": "display_data"
    },
    {
     "name": "stderr",
     "output_type": "stream",
     "text": [
      "[7:execute]\n",
      "\u001b[0;31m---------------------------------------------------------------------------\u001b[0m\n",
      "\u001b[0;31mNameError\u001b[0m                                 Traceback (most recent call last)\n",
      "\u001b[0;32m/tmp/ipykernel_95555/2235051485.py\u001b[0m in \u001b[0;36m<module>\u001b[0;34m\u001b[0m\n",
      "\u001b[0;32m----> 1\u001b[0;31m \u001b[0mtrain_mnist\u001b[0m\u001b[0;34m(\u001b[0m\u001b[0;34m)\u001b[0m\u001b[0;34m\u001b[0m\u001b[0;34m\u001b[0m\u001b[0m\n",
      "\u001b[0m\n",
      "\u001b[0;32m/tmp/ipykernel_95555/1355923080.py\u001b[0m in \u001b[0;36mtrain_mnist\u001b[0;34m()\u001b[0m\n",
      "\u001b[1;32m     24\u001b[0m )\n",
      "\u001b[1;32m     25\u001b[0m     \u001b[0mprint\u001b[0m\u001b[0;34m(\u001b[0m\u001b[0;34m\"Calling model.evaluate()...\"\u001b[0m\u001b[0;34m)\u001b[0m\u001b[0;34m\u001b[0m\u001b[0;34m\u001b[0m\u001b[0m\n",
      "\u001b[0;32m---> 26\u001b[0;31m     \u001b[0meval_results\u001b[0m \u001b[0;34m=\u001b[0m \u001b[0mmodel\u001b[0m\u001b[0;34m.\u001b[0m\u001b[0mevaluate\u001b[0m\u001b[0;34m(\u001b[0m\u001b[0mtest_dataset\u001b[0m\u001b[0;34m,\u001b[0m \u001b[0mverbose\u001b[0m\u001b[0;34m=\u001b[0m\u001b[0;36m2\u001b[0m\u001b[0;34m)\u001b[0m\u001b[0;34m\u001b[0m\u001b[0;34m\u001b[0m\u001b[0m\n",
      "\u001b[0m\u001b[1;32m     27\u001b[0m     \u001b[0mprint\u001b[0m\u001b[0;34m(\u001b[0m\u001b[0;34mf\"Evaluation results: {eval_results}\"\u001b[0m\u001b[0;34m)\u001b[0m\u001b[0;34m\u001b[0m\u001b[0;34m\u001b[0m\u001b[0m\n",
      "\n",
      "\u001b[0;31mNameError\u001b[0m: name 'model' is not defined\n",
      "[0:execute]\n",
      "\u001b[0;31m---------------------------------------------------------------------------\u001b[0m\n",
      "\u001b[0;31mNameError\u001b[0m                                 Traceback (most recent call last)\n",
      "\u001b[0;32m/tmp/ipykernel_95548/2235051485.py\u001b[0m in \u001b[0;36m<module>\u001b[0;34m\u001b[0m\n",
      "\u001b[0;32m----> 1\u001b[0;31m \u001b[0mtrain_mnist\u001b[0m\u001b[0;34m(\u001b[0m\u001b[0;34m)\u001b[0m\u001b[0;34m\u001b[0m\u001b[0;34m\u001b[0m\u001b[0m\n",
      "\u001b[0m\n",
      "\u001b[0;32m/tmp/ipykernel_95548/1355923080.py\u001b[0m in \u001b[0;36mtrain_mnist\u001b[0;34m()\u001b[0m\n",
      "\u001b[1;32m     24\u001b[0m )\n",
      "\u001b[1;32m     25\u001b[0m     \u001b[0mprint\u001b[0m\u001b[0;34m(\u001b[0m\u001b[0;34m\"Calling model.evaluate()...\"\u001b[0m\u001b[0;34m)\u001b[0m\u001b[0;34m\u001b[0m\u001b[0;34m\u001b[0m\u001b[0m\n",
      "\u001b[0;32m---> 26\u001b[0;31m     \u001b[0meval_results\u001b[0m \u001b[0;34m=\u001b[0m \u001b[0mmodel\u001b[0m\u001b[0;34m.\u001b[0m\u001b[0mevaluate\u001b[0m\u001b[0;34m(\u001b[0m\u001b[0mtest_dataset\u001b[0m\u001b[0;34m,\u001b[0m \u001b[0mverbose\u001b[0m\u001b[0;34m=\u001b[0m\u001b[0;36m2\u001b[0m\u001b[0;34m)\u001b[0m\u001b[0;34m\u001b[0m\u001b[0;34m\u001b[0m\u001b[0m\n",
      "\u001b[0m\u001b[1;32m     27\u001b[0m     \u001b[0mprint\u001b[0m\u001b[0;34m(\u001b[0m\u001b[0;34mf\"Evaluation results: {eval_results}\"\u001b[0m\u001b[0;34m)\u001b[0m\u001b[0;34m\u001b[0m\u001b[0;34m\u001b[0m\u001b[0m\n",
      "\n",
      "\u001b[0;31mNameError\u001b[0m: name 'model' is not defined\n",
      "[2:execute]\n",
      "\u001b[0;31m---------------------------------------------------------------------------\u001b[0m\n",
      "\u001b[0;31mNameError\u001b[0m                                 Traceback (most recent call last)\n",
      "\u001b[0;32m/tmp/ipykernel_95550/2235051485.py\u001b[0m in \u001b[0;36m<module>\u001b[0;34m\u001b[0m\n",
      "\u001b[0;32m----> 1\u001b[0;31m \u001b[0mtrain_mnist\u001b[0m\u001b[0;34m(\u001b[0m\u001b[0;34m)\u001b[0m\u001b[0;34m\u001b[0m\u001b[0;34m\u001b[0m\u001b[0m\n",
      "\u001b[0m\n",
      "\u001b[0;32m/tmp/ipykernel_95550/1355923080.py\u001b[0m in \u001b[0;36mtrain_mnist\u001b[0;34m()\u001b[0m\n",
      "\u001b[1;32m     24\u001b[0m )\n",
      "\u001b[1;32m     25\u001b[0m     \u001b[0mprint\u001b[0m\u001b[0;34m(\u001b[0m\u001b[0;34m\"Calling model.evaluate()...\"\u001b[0m\u001b[0;34m)\u001b[0m\u001b[0;34m\u001b[0m\u001b[0;34m\u001b[0m\u001b[0m\n",
      "\u001b[0;32m---> 26\u001b[0;31m     \u001b[0meval_results\u001b[0m \u001b[0;34m=\u001b[0m \u001b[0mmodel\u001b[0m\u001b[0;34m.\u001b[0m\u001b[0mevaluate\u001b[0m\u001b[0;34m(\u001b[0m\u001b[0mtest_dataset\u001b[0m\u001b[0;34m,\u001b[0m \u001b[0mverbose\u001b[0m\u001b[0;34m=\u001b[0m\u001b[0;36m2\u001b[0m\u001b[0;34m)\u001b[0m\u001b[0;34m\u001b[0m\u001b[0;34m\u001b[0m\u001b[0m\n",
      "\u001b[0m\u001b[1;32m     27\u001b[0m     \u001b[0mprint\u001b[0m\u001b[0;34m(\u001b[0m\u001b[0;34mf\"Evaluation results: {eval_results}\"\u001b[0m\u001b[0;34m)\u001b[0m\u001b[0;34m\u001b[0m\u001b[0;34m\u001b[0m\u001b[0m\n",
      "\n",
      "\u001b[0;31mNameError\u001b[0m: name 'model' is not defined\n",
      "[1:execute]\n",
      "\u001b[0;31m---------------------------------------------------------------------------\u001b[0m\n",
      "\u001b[0;31mNameError\u001b[0m                                 Traceback (most recent call last)\n",
      "\u001b[0;32m/tmp/ipykernel_95549/2235051485.py\u001b[0m in \u001b[0;36m<module>\u001b[0;34m\u001b[0m\n",
      "\u001b[0;32m----> 1\u001b[0;31m \u001b[0mtrain_mnist\u001b[0m\u001b[0;34m(\u001b[0m\u001b[0;34m)\u001b[0m\u001b[0;34m\u001b[0m\u001b[0;34m\u001b[0m\u001b[0m\n",
      "\u001b[0m\n",
      "\u001b[0;32m/tmp/ipykernel_95549/1355923080.py\u001b[0m in \u001b[0;36mtrain_mnist\u001b[0;34m()\u001b[0m\n",
      "\u001b[1;32m     24\u001b[0m )\n",
      "\u001b[1;32m     25\u001b[0m     \u001b[0mprint\u001b[0m\u001b[0;34m(\u001b[0m\u001b[0;34m\"Calling model.evaluate()...\"\u001b[0m\u001b[0;34m)\u001b[0m\u001b[0;34m\u001b[0m\u001b[0;34m\u001b[0m\u001b[0m\n",
      "\u001b[0;32m---> 26\u001b[0;31m     \u001b[0meval_results\u001b[0m \u001b[0;34m=\u001b[0m \u001b[0mmodel\u001b[0m\u001b[0;34m.\u001b[0m\u001b[0mevaluate\u001b[0m\u001b[0;34m(\u001b[0m\u001b[0mtest_dataset\u001b[0m\u001b[0;34m,\u001b[0m \u001b[0mverbose\u001b[0m\u001b[0;34m=\u001b[0m\u001b[0;36m2\u001b[0m\u001b[0;34m)\u001b[0m\u001b[0;34m\u001b[0m\u001b[0;34m\u001b[0m\u001b[0m\n",
      "\u001b[0m\u001b[1;32m     27\u001b[0m     \u001b[0mprint\u001b[0m\u001b[0;34m(\u001b[0m\u001b[0;34mf\"Evaluation results: {eval_results}\"\u001b[0m\u001b[0;34m)\u001b[0m\u001b[0;34m\u001b[0m\u001b[0;34m\u001b[0m\u001b[0m\n",
      "\n",
      "\u001b[0;31mNameError\u001b[0m: name 'model' is not defined\n",
      "[6:execute] NameError: name 'model' is not defined\n",
      "[4:execute] NameError: name 'model' is not defined\n",
      "[5:execute] NameError: name 'model' is not defined\n",
      "[3:execute] NameError: name 'model' is not defined\n"
     ]
    },
    {
     "ename": "AlreadyDisplayedError",
     "evalue": "8 errors",
     "output_type": "error",
     "traceback": [
      "8 errors"
     ]
    }
   ],
   "source": [
    "%%px\n",
    "train_mnist()"
   ]
  },
  {
   "cell_type": "code",
   "execution_count": null,
   "metadata": {},
   "outputs": [
    {
     "data": {
      "application/vnd.jupyter.widget-view+json": {
       "model_id": "e7a84f74ce41434d95ad1a068e0b4fec",
       "version_major": 2,
       "version_minor": 0
      },
      "text/plain": [
       "%px:   0%|          | 0/8 [00:00<?, ?tasks/s]"
      ]
     },
     "metadata": {},
     "output_type": "display_data"
    },
    {
     "data": {
      "text/plain": [
       "[stdout:5] 84/84 - 10s - loss: 0.5615 - accuracy: 0.7580 - 10s/epoch - 124ms/step\n"
      ]
     },
     "metadata": {},
     "output_type": "display_data"
    },
    {
     "data": {
      "text/plain": [
       "[stdout:6] 84/84 - 11s - loss: 0.5855 - accuracy: 0.7483 - 11s/epoch - 125ms/step\n"
      ]
     },
     "metadata": {},
     "output_type": "display_data"
    },
    {
     "data": {
      "text/plain": [
       "[stdout:1] 84/84 - 11s - loss: 0.5664 - accuracy: 0.7588 - 11s/epoch - 126ms/step\n"
      ]
     },
     "metadata": {},
     "output_type": "display_data"
    },
    {
     "data": {
      "text/plain": [
       "[stdout:2] 84/84 - 11s - loss: 0.6003 - accuracy: 0.7416 - 11s/epoch - 126ms/step\n"
      ]
     },
     "metadata": {},
     "output_type": "display_data"
    },
    {
     "data": {
      "text/plain": [
       "[stdout:4] 84/84 - 11s - loss: 0.5677 - accuracy: 0.7782 - 11s/epoch - 127ms/step\n"
      ]
     },
     "metadata": {},
     "output_type": "display_data"
    },
    {
     "data": {
      "text/plain": [
       "[stdout:0] 84/84 - 11s - loss: 0.5900 - accuracy: 0.7528 - 11s/epoch - 127ms/step\n"
      ]
     },
     "metadata": {},
     "output_type": "display_data"
    },
    {
     "data": {
      "text/plain": [
       "[stdout:7] 84/84 - 11s - loss: 0.6194 - accuracy: 0.7491 - 11s/epoch - 127ms/step\n"
      ]
     },
     "metadata": {},
     "output_type": "display_data"
    },
    {
     "data": {
      "text/plain": [
       "[stdout:3] 84/84 - 11s - loss: 0.5725 - accuracy: 0.7565 - 11s/epoch - 128ms/step\n"
      ]
     },
     "metadata": {},
     "output_type": "display_data"
    }
   ],
   "source": [
    "%%px\n",
    "eval_results = model_1.evaluate(val_ds, verbose=2)"
   ]
  },
  {
   "cell_type": "code",
   "execution_count": null,
   "metadata": {},
   "outputs": [
    {
     "data": {
      "application/vnd.jupyter.widget-view+json": {
       "model_id": "76d8ad1f06c5419aad71fe90c9fb0c1c",
       "version_major": 2,
       "version_minor": 0
      },
      "text/plain": [
       "%px:   0%|          | 0/8 [00:00<?, ?tasks/s]"
      ]
     },
     "metadata": {},
     "output_type": "display_data"
    },
    {
     "data": {
      "text/plain": [
       "[stderr:1] 2022-02-26 13:58:24.428974: W tensorflow/python/util/util.cc:368] Sets are not currently considered sequences, but this may change in the future, so consider avoiding using them.\n",
       "/home/ubuntu/.local/lib/python3.7/site-packages/keras/engine/functional.py:1410: CustomMaskWarning: Custom mask layers require a config and must override get_config. When loading, the custom mask layer must be passed to the custom_objects argument.\n",
       "  layer_config = serialize_layer_fn(layer)\n",
       "/home/ubuntu/.local/lib/python3.7/site-packages/keras/saving/saved_model/layer_serialization.py:112: CustomMaskWarning: Custom mask layers require a config and must override get_config. When loading, the custom mask layer must be passed to the custom_objects argument.\n",
       "  return generic_utils.serialize_keras_object(obj)\n"
      ]
     },
     "metadata": {},
     "output_type": "display_data"
    },
    {
     "data": {
      "text/plain": [
       "[stderr:3] 2022-02-26 13:58:24.426653: W tensorflow/python/util/util.cc:368] Sets are not currently considered sequences, but this may change in the future, so consider avoiding using them.\n",
       "/home/ubuntu/.local/lib/python3.7/site-packages/keras/engine/functional.py:1410: CustomMaskWarning: Custom mask layers require a config and must override get_config. When loading, the custom mask layer must be passed to the custom_objects argument.\n",
       "  layer_config = serialize_layer_fn(layer)\n",
       "/home/ubuntu/.local/lib/python3.7/site-packages/keras/saving/saved_model/layer_serialization.py:112: CustomMaskWarning: Custom mask layers require a config and must override get_config. When loading, the custom mask layer must be passed to the custom_objects argument.\n",
       "  return generic_utils.serialize_keras_object(obj)\n"
      ]
     },
     "metadata": {},
     "output_type": "display_data"
    },
    {
     "data": {
      "text/plain": [
       "[stderr:6] 2022-02-26 13:58:24.431890: W tensorflow/python/util/util.cc:368] Sets are not currently considered sequences, but this may change in the future, so consider avoiding using them.\n",
       "/home/ubuntu/.local/lib/python3.7/site-packages/keras/engine/functional.py:1410: CustomMaskWarning: Custom mask layers require a config and must override get_config. When loading, the custom mask layer must be passed to the custom_objects argument.\n",
       "  layer_config = serialize_layer_fn(layer)\n",
       "/home/ubuntu/.local/lib/python3.7/site-packages/keras/saving/saved_model/layer_serialization.py:112: CustomMaskWarning: Custom mask layers require a config and must override get_config. When loading, the custom mask layer must be passed to the custom_objects argument.\n",
       "  return generic_utils.serialize_keras_object(obj)\n"
      ]
     },
     "metadata": {},
     "output_type": "display_data"
    },
    {
     "data": {
      "text/plain": [
       "[stderr:5] 2022-02-26 13:58:24.502022: W tensorflow/python/util/util.cc:368] Sets are not currently considered sequences, but this may change in the future, so consider avoiding using them.\n",
       "/home/ubuntu/.local/lib/python3.7/site-packages/keras/engine/functional.py:1410: CustomMaskWarning: Custom mask layers require a config and must override get_config. When loading, the custom mask layer must be passed to the custom_objects argument.\n",
       "  layer_config = serialize_layer_fn(layer)\n",
       "/home/ubuntu/.local/lib/python3.7/site-packages/keras/saving/saved_model/layer_serialization.py:112: CustomMaskWarning: Custom mask layers require a config and must override get_config. When loading, the custom mask layer must be passed to the custom_objects argument.\n",
       "  return generic_utils.serialize_keras_object(obj)\n"
      ]
     },
     "metadata": {},
     "output_type": "display_data"
    },
    {
     "data": {
      "text/plain": [
       "[stderr:0] 2022-02-26 13:58:24.530417: W tensorflow/python/util/util.cc:368] Sets are not currently considered sequences, but this may change in the future, so consider avoiding using them.\n",
       "/home/ubuntu/.local/lib/python3.7/site-packages/keras/engine/functional.py:1410: CustomMaskWarning: Custom mask layers require a config and must override get_config. When loading, the custom mask layer must be passed to the custom_objects argument.\n",
       "  layer_config = serialize_layer_fn(layer)\n",
       "/home/ubuntu/.local/lib/python3.7/site-packages/keras/saving/saved_model/layer_serialization.py:112: CustomMaskWarning: Custom mask layers require a config and must override get_config. When loading, the custom mask layer must be passed to the custom_objects argument.\n",
       "  return generic_utils.serialize_keras_object(obj)\n"
      ]
     },
     "metadata": {},
     "output_type": "display_data"
    },
    {
     "data": {
      "text/plain": [
       "[stderr:4] 2022-02-26 13:58:24.545467: W tensorflow/python/util/util.cc:368] Sets are not currently considered sequences, but this may change in the future, so consider avoiding using them.\n",
       "/home/ubuntu/.local/lib/python3.7/site-packages/keras/engine/functional.py:1410: CustomMaskWarning: Custom mask layers require a config and must override get_config. When loading, the custom mask layer must be passed to the custom_objects argument.\n",
       "  layer_config = serialize_layer_fn(layer)\n",
       "/home/ubuntu/.local/lib/python3.7/site-packages/keras/saving/saved_model/layer_serialization.py:112: CustomMaskWarning: Custom mask layers require a config and must override get_config. When loading, the custom mask layer must be passed to the custom_objects argument.\n",
       "  return generic_utils.serialize_keras_object(obj)\n"
      ]
     },
     "metadata": {},
     "output_type": "display_data"
    },
    {
     "data": {
      "text/plain": [
       "[stderr:7] 2022-02-26 13:58:24.546334: W tensorflow/python/util/util.cc:368] Sets are not currently considered sequences, but this may change in the future, so consider avoiding using them.\n",
       "/home/ubuntu/.local/lib/python3.7/site-packages/keras/engine/functional.py:1410: CustomMaskWarning: Custom mask layers require a config and must override get_config. When loading, the custom mask layer must be passed to the custom_objects argument.\n",
       "  layer_config = serialize_layer_fn(layer)\n",
       "/home/ubuntu/.local/lib/python3.7/site-packages/keras/saving/saved_model/layer_serialization.py:112: CustomMaskWarning: Custom mask layers require a config and must override get_config. When loading, the custom mask layer must be passed to the custom_objects argument.\n",
       "  return generic_utils.serialize_keras_object(obj)\n"
      ]
     },
     "metadata": {},
     "output_type": "display_data"
    },
    {
     "data": {
      "text/plain": [
       "[stderr:2] 2022-02-26 13:58:24.547685: W tensorflow/python/util/util.cc:368] Sets are not currently considered sequences, but this may change in the future, so consider avoiding using them.\n",
       "/home/ubuntu/.local/lib/python3.7/site-packages/keras/engine/functional.py:1410: CustomMaskWarning: Custom mask layers require a config and must override get_config. When loading, the custom mask layer must be passed to the custom_objects argument.\n",
       "  layer_config = serialize_layer_fn(layer)\n",
       "/home/ubuntu/.local/lib/python3.7/site-packages/keras/saving/saved_model/layer_serialization.py:112: CustomMaskWarning: Custom mask layers require a config and must override get_config. When loading, the custom mask layer must be passed to the custom_objects argument.\n",
       "  return generic_utils.serialize_keras_object(obj)\n"
      ]
     },
     "metadata": {},
     "output_type": "display_data"
    }
   ],
   "source": [
    "%%px\n",
    "model_1.save(\"model1\")"
   ]
  },
  {
   "cell_type": "code",
   "execution_count": null,
   "metadata": {},
   "outputs": [
    {
     "data": {
      "text/plain": [
       "[<matplotlib.lines.Line2D at 0x7f20effe94f0>]"
      ]
     },
     "execution_count": 36,
     "metadata": {},
     "output_type": "execute_result"
    },
    {
     "data": {
      "image/png": "[encoded data removed]",
      "text/plain": [
       "<Figure size 432x288 with 1 Axes>"
      ]
     },
     "metadata": {
      "needs_background": "light"
     },
     "output_type": "display_data"
    }
   ],
   "source": [
    "%%px\n",
    "import matplotlib.pyplot as plt\n",
    "\n",
    "plt.plot(history_1.history['val_accuracy'])\n",
    "plt.plot(history_1.history['accuracy'])"
   ]
  },
  {
   "cell_type": "code",
   "execution_count": null,
   "metadata": {},
   "outputs": [],
   "source": [
    "client.shutdown(hub=True)"
   ]
  },
  {
   "cell_type": "code",
   "execution_count": null,
   "metadata": {},
   "outputs": [
    {
     "name": "stderr",
     "output_type": "stream",
     "text": [
      "2022-02-26 14:03:55.739893: I tensorflow/core/platform/cpu_feature_guard.cc:151] This TensorFlow binary is optimized with oneAPI Deep Neural Network Library (oneDNN) to use the following CPU instructions in performance-critical operations:  AVX512F\n",
      "To enable them in other operations, rebuild TensorFlow with the appropriate compiler flags.\n",
      "2022-02-26 14:04:04.981865: W tensorflow/compiler/mlir/lite/python/tf_tfl_flatbuffer_helpers.cc:363] Ignored output_format.\n",
      "2022-02-26 14:04:04.981905: W tensorflow/compiler/mlir/lite/python/tf_tfl_flatbuffer_helpers.cc:366] Ignored drop_control_dependency.\n",
      "2022-02-26 14:04:04.981910: W tensorflow/compiler/mlir/lite/python/tf_tfl_flatbuffer_helpers.cc:372] Ignored change_concat_input_ranges.\n",
      "2022-02-26 14:04:04.982695: I tensorflow/cc/saved_model/reader.cc:43] Reading SavedModel from: model1\n",
      "2022-02-26 14:04:05.071478: I tensorflow/cc/saved_model/reader.cc:107] Reading meta graph with tags { serve }\n",
      "2022-02-26 14:04:05.071508: I tensorflow/cc/saved_model/reader.cc:148] Reading SavedModel debug info (if present) from: model1\n",
      "2022-02-26 14:04:05.407884: I tensorflow/cc/saved_model/loader.cc:210] Restoring SavedModel bundle.\n",
      "2022-02-26 14:04:06.066427: I tensorflow/cc/saved_model/loader.cc:194] Running initialization op on SavedModel bundle at path: model1\n",
      "2022-02-26 14:04:06.415969: I tensorflow/cc/saved_model/loader.cc:283] SavedModel load for tags { serve }; Status: success: OK. Took 1433275 microseconds.\n",
      "2022-02-26 14:04:07.193436: I tensorflow/compiler/mlir/tensorflow/utils/dump_mlir_util.cc:237] disabling MLIR crash reproducer, set env var `MLIR_CRASH_REPRODUCER_DIRECTORY` to enable.\n",
      "WARNING:absl:Buffer deduplication procedure will be skipped when flatbuffer library is not properly loaded\n"
     ]
    }
   ],
   "source": [
    "import tensorflow as tf\n",
    "\n",
    "# Convert the model\n",
    "converter = tf.lite.TFLiteConverter.from_saved_model('model1') #path to the SavedModel directory\n",
    "tflite_model = converter.convert()\n",
    "\n",
    "# Save the model.\n",
    "\n",
    "with open('model1.tflite', 'wb') as f:\n",
    "  f.write(tflite_model)"
   ]
  },
  {
   "cell_type": "code",
   "execution_count": null,
   "metadata": {},
   "outputs": [],
   "source": []
  }
 ],
 "metadata": {
  "interpreter": {
   "hash": "916dbcbb3f70747c44a77c7bcd40155683ae19c65e1c03b4aa3499c5328201f1"
  },
  "kernelspec": {
   "display_name": "Python 3.8.10 64-bit",
   "language": "python",
   "name": "python3"
  },
  "language_info": {
   "codemirror_mode": {
    "name": "ipython",
    "version": 3
   },
   "file_extension": ".py",
   "mimetype": "text/x-python",
   "name": "python",
   "nbconvert_exporter": "python",
   "pygments_lexer": "ipython3",
   "version": "3.7.5"
  },
  "orig_nbformat": 4
 },
 "nbformat": 4,
 "nbformat_minor": 2
}
